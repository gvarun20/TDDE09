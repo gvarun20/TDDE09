{
 "cells": [
  {
   "cell_type": "markdown",
   "metadata": {},
   "source": [
    "# Lab 3: Pretraining a GPT model"
   ]
  },
  {
   "cell_type": "markdown",
   "metadata": {},
   "source": [
    "This lab is about pretraining large language models. You will work through the full pretraining process for a GPT model, explore different settings, and implement optimisations that make training more efficient. You will also reflect on the impact of data curation on the quality of the pretrained model. By the end of the lab, you will have a solid understanding of how large language models are trained from scratch.\n",
    "\n",
    "*Tasks you can choose for the oral exam are marked with the graduation cap 🎓 emoji.*"
   ]
  },
  {
   "cell_type": "code",
   "execution_count": 1,
   "metadata": {},
   "outputs": [],
   "source": [
    "import math\n",
    "import os\n",
    "import time\n",
    "from dataclasses import dataclass\n",
    "\n",
    "import numpy as np\n",
    "import torch\n",
    "import torch.nn as nn\n",
    "import torch.nn.functional as F\n",
    "from gpt2 import Config, Model"
   ]
  },
  {
   "cell_type": "markdown",
   "metadata": {},
   "source": [
    "## Part 1: Pretraining pipeline"
   ]
  },
  {
   "cell_type": "markdown",
   "metadata": {},
   "source": [
    "The GPT pretraining pipeline builds on the basic training loop for neural language models you have seen before, but includes several enhancements that improve stability and efficiency when training large models:\n",
    "\n",
    "* It uses the [AdamW](https://pytorch.org/docs/stable/generated/torch.optim.AdamW.html) optimiser with weight decay instead of vanilla stochastic gradient descent.\n",
    "* It implements a cosine decay learning rate schedule with a linear warmup phase.\n",
    "* It accumulates gradient updates across multiple batches to allow training with larger effective batch sizes.\n",
    "* It uses gradient clipping to prevent exploding gradients."
   ]
  },
  {
   "cell_type": "markdown",
   "metadata": {},
   "source": [
    "### Training configuration"
   ]
  },
  {
   "cell_type": "markdown",
   "metadata": {},
   "source": [
    "We begin by setting up a configuration object that defines the key parameters of the training process. The original 124M-parameter GPT-2 model was trained on WebText, a private dataset with 300B tokens of Internet data. Our training pipeline is configured to train a Chinchilla-optimal version of the same model using the [FineWeb-Edu](https://huggingface.co/datasets/HuggingFaceFW/fineweb-edu) dataset and a single A100 GPU with 80GB of memory."
   ]
  },
  {
   "cell_type": "code",
   "execution_count": 2,
   "metadata": {},
   "outputs": [],
   "source": [
    "@dataclass\n",
    "class TrainingConfig:\n",
    "    device: torch.device = torch.device(\"cuda\")\n",
    "    shard_dir: str = \"data\"\n",
    "    \n",
    "    # Training steps and data processing\n",
    "    n_steps: int = 4768 # The total amount of optimization steps during training\n",
    "    n_tokens_per_step: int = 524288 # The number of tokens in a single step\n",
    "    batch_size: int = 16 #64 # The size of each batch which is training examples prossessed before parameters are updated.\n",
    "    sequence_len: int = 1024 # The number of input tokens in the language model.\n",
    "    n_vocab: int = 50304 # The number of unique tokens.\n",
    "\n",
    "    # Optimisation and learning rate scheduling\n",
    "    weight_decay: float = 0.1 # The factor variable for weight decay regularization.\n",
    "    max_lr: float = 6e-4 # The maximum learning rate\n",
    "    min_lr: float = 6e-5 # The minimum learning rate\n",
    "    n_warmup_steps: int = 715 # Number of steps it takes to reach the first max learning rate before cosine decay on learning rate\n",
    "    n_decay_steps: int = 4053 # The amount of steps during the cosine decay on learning rate\n",
    "    betas: tuple[float, float] = (0.9, 0.95) # Beta coefficients for the adamw optimizer\n",
    "    clip_norm: float = 1.0 # The maximum length of the norm of a vector with gradients before the gradient starts to be scaled down."
   ]
  },
  {
   "cell_type": "markdown",
   "metadata": {},
   "source": [
    "- sequence_len = 1024\n",
    "- batch_size = 64 (micro-batch)\n",
    "- n_tokens_per_step = 524288 (macro-batch)\n",
    "\n",
    "So:\n",
    "- Each micro-batch processes:  \n",
    "  64  sequences * 1024 tokens per sequence = 65,536  tokens\n",
    "- To reach macro-batch (n_tokens_per_step = 524288), we need to accumulate gradients from:  \n",
    "  524,288 / 65,536 = 8 micro-batches.\n",
    "- Only after these 8 micro-batches (gradient accumulation steps) do you perform a single optimizer step (parameter update)."
   ]
  },
  {
   "cell_type": "code",
   "execution_count": null,
   "metadata": {},
   "outputs": [],
   "source": []
  },
  {
   "cell_type": "markdown",
   "metadata": {},
   "source": [
    "#### 🎓 Task 3.01: Explaining the training parameters\n",
    "\n",
    "Your first task is to explain the purpose of the training parameters. Some of them will already be known to you from the lectures, while others will become clear first as you progress through the lab and see how everything fits together. Because of this, it is best to revisit and complete this task towards the end of the lab when you have a full understanding of the training process.\n",
    "\n",
    "One parameter to note is the vocabulary size (`n_vocab`). The GPT-2 tokeniser has a default vocabulary size of 50,257, but for training on a GPU, it is helpful to use numbers that are more hardware-friendly. Specifically, numbers with many factors of&nbsp;2 can lead to more efficient computation. To achieve this, we set the vocabulary size to 50,304, which is slightly larger than needed but has many factors of&nbsp;2. Note that the extra tokens will not be used in practice — they simply act as placeholders without meaningful embeddings."
   ]
  },
  {
   "cell_type": "markdown",
   "metadata": {},
   "source": [
    "######  FEEDBACK:Could you also explain what the sequence_len implies and elaborate more on the weight_decay?\n",
    "###### SOLUTION:THIS HAS BEEN UPDATED"
   ]
  },
  {
   "cell_type": "markdown",
   "metadata": {},
   "source": [
    "### Model"
   ]
  },
  {
   "cell_type": "markdown",
   "metadata": {},
   "source": [
    "Next, we set up the GPT model. Our goal is to match the original training setup of GPT-2 as closely as possible. To do this, we follow the initialisation strategy outlined in the key research papers about GPT ([Radford et al., 2018](https://cdn.openai.com/research-covers/language-unsupervised/language_understanding_paper.pdf); [Radford et al., 2019](https://cdn.openai.com/better-language-models/language_models_are_unsupervised_multitask_learners.pdf); [Brown et al., 2020](https://arxiv.org/pdf/2005.14165)) as well as the official implementation ([link](https://github.com/openai/gpt-2)). Here is a summary of this strategy:\n",
    "\n",
    "* Token embeddings → Normal distribution with mean $0$ and variance $0.02$.\n",
    "* Position embeddings → Normal distribution with mean $0$ and variance $0.01$.\n",
    "* Weights of the linear layers → Normal distribution with mean $0$ and variance $0.02$.\n",
    "* Biases of the linear layers → Initialised to zeros.\n",
    "* Weight sharing between the final linear layer and the token embedding."
   ]
  },
  {
   "cell_type": "markdown",
   "metadata": {},
   "source": [
    "#### 🎈 Task 3.02: Initialising the model\n",
    "\n",
    "Expand the skeleton code below to create a fresh model and initialise it according to the GPT-2 strategy."
   ]
  },
  {
   "cell_type": "code",
   "execution_count": 3,
   "metadata": {},
   "outputs": [
    {
     "name": "stderr",
     "output_type": "stream",
     "text": [
      "/tmp/ipykernel_1049908/2671198488.py:8: FutureWarning: `nn.init.normal` is now deprecated in favor of `nn.init.normal_`.\n",
      "  nn.init.normal(mod_dict[param], mean=0, std=math.sqrt(0.02))\n",
      "/tmp/ipykernel_1049908/2671198488.py:10: FutureWarning: `nn.init.normal` is now deprecated in favor of `nn.init.normal_`.\n",
      "  nn.init.normal(mod_dict[param], mean=0, std=math.sqrt(0.01))\n",
      "/tmp/ipykernel_1049908/2671198488.py:15: FutureWarning: `nn.init.normal` is now deprecated in favor of `nn.init.normal_`.\n",
      "  nn.init.normal(mod_dict[param], mean=0, std=math.sqrt(0.02))\n",
      "/tmp/ipykernel_1049908/2671198488.py:13: FutureWarning: `nn.init.normal` is now deprecated in favor of `nn.init.normal_`.\n",
      "  nn.init.normal(mod_dict[param], mean=0, std=math.sqrt(0.02) * (1/math.sqrt(model.config.n_layer * 2))) # Factor for residual intitialization\n"
     ]
    }
   ],
   "source": [
    "def configure_model(config: TrainingConfig) -> Model:\n",
    "    # TODO: Replace the following line with your own code\n",
    "    model = Model(Config(n_vocab=config.n_vocab))\n",
    "    mod_dict = model.state_dict()\n",
    "\n",
    "    for param in mod_dict.keys():\n",
    "        if param.startswith(\"wte\"):\n",
    "            nn.init.normal(mod_dict[param], mean=0, std=math.sqrt(0.02))\n",
    "        elif param.startswith(\"wpe\"):\n",
    "            nn.init.normal(mod_dict[param], mean=0, std=math.sqrt(0.01))\n",
    "        elif param.endswith(\"c_proj.weight\"):\n",
    "            # task 3.03 step 3\n",
    "            nn.init.normal(mod_dict[param], mean=0, std=math.sqrt(0.02) * (1/math.sqrt(model.config.n_layer * 2))) # Factor for residual intitialization\n",
    "        elif param.endswith(\"weight\"):\n",
    "            nn.init.normal(mod_dict[param], mean=0, std=math.sqrt(0.02))\n",
    "        elif param.endswith(\"bias\"):\n",
    "            nn.init.zeros_(mod_dict[param])\n",
    "    model.lm_head.weight = model.wte.weight\n",
    "    return model\n",
    "model = configure_model(TrainingConfig)"
   ]
  },
  {
   "cell_type": "markdown",
   "metadata": {},
   "source": [
    "#### Scaled residual initialisation\n",
    "\n",
    "There is one important detail in the GPT-2 initialisation strategy that we have not addressed yet. [Radford et al. (2019)](https://cdn.openai.com/better-language-models/language_models_are_unsupervised_multitask_learners.pdf) write (Section&nbsp;2.3):\n",
    "\n",
    "> A modified initialization which accounts for the accumulation on the residual path with model depth is used. We scale the weights of residual layers at initialization by a factor of $1/\\sqrt{N}$ where $N$ is the number of residual layers.\n",
    "\n",
    "Why is this necessary? One of the challenges in training large language models is controlling the variance of activations. However, there are two points in the GPT architecture where variance can grow uncontrollably: the residual connections after the multi-head attention and the MLP. Since these connections simply add activations from previous layers, their variances increases with depth. To see this, note that if we sum $N$ independent normally distributed variables with variance $\\sigma^2$, the result has variance $N \\sigma^2$. The factor $1/\\sqrt{N}$ compensates for this growth."
   ]
  },
  {
   "cell_type": "markdown",
   "metadata": {},
   "source": [
    "#### 🎓 Task 3.03: Implementing the scaled residual initialisation\n",
    "\n",
    "**Step&nbsp;1.** Suppose each summand in a sum of $N$ independent normally distributed variables with variance $\\sigma^2$ is scaled by a factor of&nbsp;$k$. The total variance then becomes $N k^2 \\sigma^2$. What happens to the total variance if we choose $k = 1/\\sqrt{N}$, as in GPT-2?\n",
    "\n",
    "##### SOLUTION FO STEP 1:\n",
    "\n",
    "If $k = 1/\\sqrt{N}$, the total variance stays the same as a single summand’s variance.\n",
    "\n",
    "This is because Total variance = $ N (1/\\sqrt{N})^2 \\sigma^2 = N (1/{N}) \\sigma^2 = \\sigma^2$\n",
    "\n",
    "This means that by $1/\\sqrt{N}$, we ensure that when we sum $N$ “residual paths,” we don't keep increasing the net variance layer after layer which stabilizes the forward pass."
   ]
  },
  {
   "cell_type": "markdown",
   "metadata": {},
   "source": [
    "**Step&nbsp;2.** Test the mathematical theory with a simulation. Generate normally distributed activations using `torch.randn()`. Sum the activations across $N$ hypothetical residual layers, first without scaling and then with the $1/\\sqrt{N}$ adjustment. Compare the two cases by producing a plot showing the variance at each layer. To compute the variance of a tensor, use `torch.var()`.\n",
    "\n"
   ]
  },
  {
   "cell_type": "code",
   "execution_count": 4,
   "metadata": {},
   "outputs": [
    {
     "data": {
      "image/png": "[encoded data removed]",
      "text/plain": [
       "<Figure size 640x480 with 1 Axes>"
      ]
     },
     "metadata": {},
     "output_type": "display_data"
    }
   ],
   "source": [
    "import torch\n",
    "import matplotlib.pyplot as plt\n",
    "\n",
    "num_layers=6\n",
    "num_samples=10000\n",
    "sums_no_scale = torch.zeros(num_samples)\n",
    "sums_scaled   = torch.zeros(num_samples)\n",
    "vars_no_scale = []\n",
    "vars_scaled   = []\n",
    "\n",
    "for i in range(1, num_layers + 1):\n",
    "    new_activations = torch.randn(num_samples)\n",
    "    \n",
    "    # 1 NO scaling\n",
    "    sums_no_scale += new_activations\n",
    "    vars_no_scale.append(sums_no_scale.var())\n",
    "    \n",
    "    # 2 with 1/sqrt(N) scaling\n",
    "    # scale each new activation by 1/sqrt(num_layers),\n",
    "    new_activations_scaled = new_activations / (num_layers**0.5)\n",
    "    sums_scaled += new_activations_scaled\n",
    "    vars_scaled.append(sums_scaled.var())\n",
    "\n",
    "\n",
    "# Plot the results\n",
    "plt.plot(range(1, num_layers + 1), vars_no_scale, label=\"No scaling\")\n",
    "plt.plot(range(1, num_layers + 1), vars_scaled,   label=\"1/sqrt(N) scaling\")\n",
    "plt.xlabel(\"Layer index\")\n",
    "plt.ylabel(\"Variance\")\n",
    "plt.title(\"Variance accumulation across layers\")\n",
    "plt.legend()\n",
    "plt.show()\n"
   ]
  },
  {
   "cell_type": "markdown",
   "metadata": {},
   "source": [
    "**Step&nbsp;3.** Update your model initialisation from the previous task to include the scaled residual initialisation. The adjustment should only be applied to the linear layer at the end of the multi-head attention and MLP blocks (`c_proj`). Note that a GPT model with $L$&nbsp;layers has $N = 2 L$ residual layers, because there are two residual connections in each layer (after the multi-head attention and the MLP)."
   ]
  },
  {
   "cell_type": "markdown",
   "metadata": {},
   "source": [
    "### Data"
   ]
  },
  {
   "cell_type": "markdown",
   "metadata": {},
   "source": [
    "As mentioned before, GPT-2 was pretrained on a 300B non-public dataset collected by OpenAI. Our pretraining data comes from the public [FineWeb-Edu](https://huggingface.co/datasets/HuggingFaceFW/fineweb-edu) dataset. The full dataset contains 1.3&nbsp;trillion tokens, but here, we will only work with a small sample. We have preprocessed the data by tokenising it with the GPT-2 tokeniser and storing the token indices in equal-sized NumPy arrays, which we call **shards**. The function below loads these shards from a given directory and yields them as PyTorch tensors."
   ]
  },
  {
   "cell_type": "code",
   "execution_count": 5,
   "metadata": {},
   "outputs": [],
   "source": [
    "def shards(shard_dir: str):\n",
    "    for shard in sorted(os.listdir(shard_dir)):\n",
    "        yield torch.from_numpy(np.load(os.path.join(shard_dir, shard)).astype(np.int64))"
   ]
  },
  {
   "cell_type": "markdown",
   "metadata": {},
   "source": [
    "In total, our training data consists of 300M tokens:"
   ]
  },
  {
   "cell_type": "code",
   "execution_count": 6,
   "metadata": {},
   "outputs": [
    {
     "data": {
      "text/plain": [
       "300000000"
      ]
     },
     "execution_count": 6,
     "metadata": {},
     "output_type": "execute_result"
    }
   ],
   "source": [
    "sum(s.numel() for s in shards(\"/courses/TDDE09/labs/lab3/data\"))"
   ]
  },
  {
   "cell_type": "markdown",
   "metadata": {},
   "source": [
    "#### 🎓 Task 3.04: Batching the data\n",
    "\n",
    "Implement a function `make_batches()` that packages the token indices in the shards into pairs of input and output batches suitable for language modelling training. One efficient way to do this is sketched in the cell below:"
   ]
  },
  {
   "cell_type": "code",
   "execution_count": 7,
   "metadata": {},
   "outputs": [
    {
     "name": "stdout",
     "output_type": "stream",
     "text": [
      "tensor([[0, 1, 2],\n",
      "        [3, 4, 5]])\n",
      "tensor([[1, 2, 3],\n",
      "        [4, 5, 6]])\n",
      "tensor([[ 6,  7,  8],\n",
      "        [ 9, 10, 11]])\n",
      "tensor([[ 7,  8,  9],\n",
      "        [10, 11, 12]])\n"
     ]
    }
   ],
   "source": [
    "shard = torch.tensor(range(15), dtype=torch.long)\n",
    "\n",
    "# Suppose we want to package the tokens in this shard into batches of shape (2, 3).\n",
    "\n",
    "# Step 1: Segment the shard into overlapping chunks of size 2 * 3 + 1\n",
    "chunk1 = shard[0:7]\n",
    "chunk2 = shard[6:13]\n",
    "excess = shard[12:]\n",
    "\n",
    "# Step 2: Create batches from all but the last and all but the first token in each chunk\n",
    "x1, y1 = chunk1[:-1].view(2, 3), chunk1[1:].view(2, 3)\n",
    "x2, y2 = chunk2[:-1].view(2, 3), chunk2[1:].view(2, 3)\n",
    "\n",
    "print(x1)\n",
    "print(y1)\n",
    "print(x2)\n",
    "print(y2)\n"
   ]
  },
  {
   "cell_type": "markdown",
   "metadata": {},
   "source": [
    "The following code cell shows the signature of `make_batches()`."
   ]
  },
  {
   "cell_type": "code",
   "execution_count": 8,
   "metadata": {},
   "outputs": [
    {
     "name": "stdout",
     "output_type": "stream",
     "text": [
      "hello!\n",
      "hello!\n",
      "Excess 0\n",
      "hello!\n",
      "Excess 0\n",
      "18310\n"
     ]
    }
   ],
   "source": [
    "def make_batches(config: TrainingConfig):\n",
    "    # TODO: Replace the following line with your own code\n",
    "    offset = 0\n",
    "    num_arg_batch = config.batch_size * config.sequence_len\n",
    "    excess = torch.tensor([],dtype=torch.long)\n",
    "    for s in shards(\"/courses/TDDE09/labs/lab3/data\"):\n",
    "        batch_nr = 0\n",
    "        print(\"hello!\")\n",
    "        while True:\n",
    "            if len(excess) > 0:\n",
    "                offset = len(excess)\n",
    "\n",
    "            chunk1_upper_limit = (batch_nr + 1) * num_arg_batch + 1 - offset\n",
    "            \n",
    "            if chunk1_upper_limit > len(s):\n",
    "                excess = s[batch_nr * num_arg_batch - offset:]\n",
    "                \n",
    "                break\n",
    "            else:\n",
    "                if len(excess) > 0:\n",
    "                    chunk1 = torch.concatenate((excess, s[batch_nr * num_arg_batch : chunk1_upper_limit]))\n",
    "                    excess = torch.tensor([],dtype=torch.long)\n",
    "                    print(\"Excess\", len(excess))\n",
    "                else:\n",
    "                    chunk1 = s[batch_nr * num_arg_batch - offset : chunk1_upper_limit]\n",
    "\n",
    "                x1, y1 = chunk1[:-1].view(config.batch_size, config.sequence_len), chunk1[1:].view(config.batch_size, config.sequence_len)\n",
    "                yield x1, y1\n",
    "                \n",
    "            batch_nr += 1\n",
    "\n",
    "config = TrainingConfig()\n",
    "count = 0\n",
    "for i in make_batches(config):\n",
    "    #print(i[1].shape)\n",
    "    count += 1\n",
    "print(count)"
   ]
  },
  {
   "cell_type": "markdown",
   "metadata": {},
   "source": [
    "**Hints and considerations:**\n",
    "\n",
    "* Batches can stretch across shards. You will have to carry over excess tokens at the end of shards to the next batch.\n",
    "* All batches should have the same shape. Drop excess tokens at the end of the last shard.\n",
    "* The correct number of batches of shape $(64, 1024)$ for the training shards is $4577$.\n",
    "\n",
    "#### solution for the task 3.04\n",
    "The reason for the differences in batches in our case is that used a batch size of 2 to get training to run. So if we divide 146484 with 32 we get 4577.625, were the excess would be not be included making the amount of batches 4577."
   ]
  },
  {
   "cell_type": "markdown",
   "metadata": {},
   "source": [
    "### Optimiser"
   ]
  },
  {
   "cell_type": "markdown",
   "metadata": {},
   "source": [
    "The code in the cell below configures the [AdamW](https://pytorch.org/docs/stable/generated/torch.optim.AdamW.html) optimiser. It uses weight decay on all parameters with two or more dimensions (e.g., weights in linear layers), and no decay on the remaining parameters. If the model is on a CUDA device, the code uses the “fused” implementation of the optimiser for efficiency."
   ]
  },
  {
   "cell_type": "code",
   "execution_count": 9,
   "metadata": {},
   "outputs": [],
   "source": [
    "def configure_optimizer(model: Model, config: TrainingConfig):\n",
    "    params = [p for p in model.parameters() if p.requires_grad]\n",
    "    decay_params = [p for p in params if p.dim() >= 2]\n",
    "    no_decay_params = [p for p in params if p.dim() < 2]\n",
    "    param_groups = [\n",
    "        {\"params\": decay_params, \"weight_decay\": config.weight_decay},\n",
    "        {\"params\": no_decay_params, \"weight_decay\": 0.0},\n",
    "    ]\n",
    "    return torch.optim.AdamW(\n",
    "        param_groups,\n",
    "        lr=config.max_lr,\n",
    "        betas=config.betas,\n",
    "        fused=(config.device.type == \"cuda\"),\n",
    "    )"
   ]
  },
  {
   "cell_type": "markdown",
   "metadata": {},
   "source": [
    "#### 🎓 Task 3.05: Exploring the beta parameters\n",
    "\n",
    "The AdamW optimiser is controlled by two hyperparameters $\\beta_1$ and $\\beta_2$:\n",
    "\n",
    "* $\\beta_1$ controls the moving average of past gradients.\n",
    "* $\\beta_2$ controls the moving average of past squared gradients, which affects the adaptive learning rate scaling.\n",
    "\n",
    "Lower values correspond to reduced effect of the respective average, that is, less smoothing and faster adaptation to recent values. In this task, you will explore how different beta values affect the convergence behaviour of the optimiser.\n",
    "\n",
    "The code below applies the optimiser to the function $f(x) = (x-2)^2 + (y+3)^2$, which has a global minimum at $(2, -3)$. The code yields the trajectories of the parameter values $(x, y)$ visited by Adam when started at $(-4, 5)$ for different values of&nbsp;$\\beta_1$ and $\\beta_2$."
   ]
  },
  {
   "cell_type": "code",
   "execution_count": 10,
   "metadata": {},
   "outputs": [],
   "source": [
    "def adam_trajectories(betas):\n",
    "    def loss_function(x, y):\n",
    "        return (x - 2) ** 2 + (y + 3) ** 2\n",
    "\n",
    "    for beta1, beta2 in betas:\n",
    "        x = torch.tensor([-4.0], requires_grad=True)\n",
    "        y = torch.tensor([5.0], requires_grad=True)\n",
    "        optimizer = torch.optim.AdamW((x, y), lr=0.125, betas=(beta1, beta2))\n",
    "        trajectory = []\n",
    "        for _ in range(100):\n",
    "            optimizer.zero_grad()\n",
    "            loss = loss_function(x, y)\n",
    "            loss.backward()\n",
    "            optimizer.step()\n",
    "            trajectory.append((x.item(), y.item()))\n",
    "        yield trajectory, f\"β₁ = {beta1}, β₂ = {beta2}\""
   ]
  },
  {
   "cell_type": "markdown",
   "metadata": {},
   "source": [
    " Your task is to visualise different trajectories in a plot and analyse the results. Proceed as follows:\n",
    "\n",
    "* Start by plotting the trajectory for the default values for $\\beta_1$ and $\\beta_2$. (Consult the PyTorch documentation to find these.)\n",
    "* Add the plot for the beta values used in our training configuration. For this simple example, do you see a significant difference?\n",
    "* Add more plots to see what happens if the beta values are too high or too low.\n",
    "\n",
    "### solution for 3.05:\n",
    "There is no significant difference between the two results that we got. However, with the training configuration, the trajectories overshooted a bit.\n",
    "We also did another test for fun with two much smaller values that overshooted by alot but also probably got the closes result to the global minimum."
   ]
  },
  {
   "cell_type": "code",
   "execution_count": 11,
   "metadata": {},
   "outputs": [
    {
     "name": "stdout",
     "output_type": "stream",
     "text": [
      "(0.9, 0.95)\n",
      "[(-3.869999885559082, 4.868749618530273), (-3.740241765975952, 4.737722396850586), (-3.6107797622680664, 4.606956958770752), (-3.481668710708618, 4.4764933586120605), (-3.35296630859375, 4.346372604370117), (-3.2247302532196045, 4.216635704040527), (-3.0970211029052734, 4.087325096130371), (-2.9698984622955322, 3.9584827423095703), (-2.84342360496521, 3.830150842666626), (-2.717658042907715, 3.702371597290039), (-2.5926642417907715, 3.5751872062683105), (-2.4685051441192627, 3.4486403465270996), (-2.345243215560913, 3.322772979736328), (-2.2229416370391846, 3.197627067565918), (-2.101663112640381, 3.073244094848633), (-1.9814705848693848, 2.949664831161499), (-1.8624260425567627, 2.826930046081543), (-1.744591474533081, 2.7050795555114746), (-1.6280277967453003, 2.584153175354004), (-1.512795329093933, 2.464189052581787), (-1.3989530801773071, 2.3452248573303223), (-1.2865592241287231, 2.22729754447937), (-1.1756703853607178, 2.110442876815796), (-1.0663421154022217, 1.9946961402893066), (-0.9586281180381775, 1.8800910711288452), (-0.8525804877281189, 1.766660451889038), (-0.7482494711875916, 1.6544363498687744), (-0.6456832885742188, 1.5434491634368896), (-0.5449280738830566, 1.4337282180786133), (-0.446027934551239, 1.3253018856048584), (-0.3490244746208191, 1.218197226524353), (-0.25395703315734863, 1.1124399900436401), (-0.16086214780807495, 1.0080546140670776), (-0.06977403163909912, 0.9050643444061279), (0.01927594095468521, 0.8034909963607788), (0.10625909268856049, 0.7033553719520569), (0.1911497265100479, 0.6046766638755798), (0.27392494678497314, 0.5074729919433594), (0.3545648455619812, 0.41176095604896545), (0.43305253982543945, 0.3175559937953949), (0.5093742609024048, 0.22487211227416992), (0.5835191607475281, 0.13372215628623962), (0.6554795503616333, 0.044117532670497894), (0.7252508997917175, -0.0439315065741539), (0.7928317189216614, -0.1304161250591278), (0.858223557472229, -0.2153286635875702), (0.9214309453964233, -0.2986627519130707), (0.98246169090271, -0.38041335344314575), (1.0413262844085693, -0.46057653427124023), (1.0980384349822998, -0.5391496419906616), (1.1526143550872803, -0.6161313056945801), (1.205073356628418, -0.691521167755127), (1.2554373741149902, -0.7653203010559082), (1.3037307262420654, -0.8375307321548462), (1.3499805927276611, -0.908155620098114), (1.3942164182662964, -0.9771993160247803), (1.4364697933197021, -1.0446672439575195), (1.47677481174469, -1.1105659008026123), (1.515167474746704, -1.1749027967453003), (1.5516855716705322, -1.2376863956451416), (1.5863687992095947, -1.2989262342453003), (1.6192586421966553, -1.3586326837539673), (1.6503978967666626, -1.416817307472229), (1.6798310279846191, -1.4734925031661987), (1.7076034545898438, -1.528671383857727), (1.7337619066238403, -1.582368016242981), (1.7583539485931396, -1.6345973014831543), (1.7814279794692993, -1.6853749752044678), (1.8030329942703247, -1.7347172498703003), (1.8232187032699585, -1.7826414108276367), (1.8420352935791016, -1.8291652202606201), (1.8595329523086548, -1.8743071556091309), (1.8757622241973877, -1.918086290359497), (1.8907736539840698, -1.9605224132537842), (1.904617428779602, -2.001635789871216), (1.9173438549041748, -2.0414469242095947), (1.9290028810501099, -2.07997727394104), (1.9396437406539917, -2.11724853515625), (1.9493154287338257, -2.153282642364502), (1.9580659866333008, -2.1881020069122314), (1.9659432172775269, -2.2217297554016113), (1.9729937314987183, -2.2541887760162354), (1.9792633056640625, -2.2855026721954346), (1.9847968816757202, -2.315694808959961), (1.989638328552246, -2.3447892665863037), (1.9938305616378784, -2.372809886932373), (1.9974150657653809, -2.3997809886932373), (2.000432252883911, -2.4257266521453857), (2.0029215812683105, -2.450671434402466), (2.0049211978912354, -2.474639415740967), (2.006467342376709, -2.497655153274536), (2.0075957775115967, -2.5197432041168213), (2.00834059715271, -2.5409276485443115), (2.0087342262268066, -2.561232805252075), (2.0088083744049072, -2.5806827545166016), (2.0085928440093994, -2.599301815032959), (2.0081162452697754, -2.6171138286590576), (2.0074057579040527, -2.6341423988342285), (2.0064873695373535, -2.6504111289978027), (2.005385637283325, -2.6659433841705322)]\n",
      "[(-3.869999885559082, 4.868749618530273), (-3.740206718444824, 4.737696170806885), (-3.6106512546539307, 4.606860160827637), (-3.4813649654388428, 4.476264476776123), (-3.3523802757263184, 4.345931529998779), (-3.2237303256988525, 4.215884685516357), (-3.095449209213257, 4.086146831512451), (-2.96757173538208, 3.9567410945892334), (-2.8401331901550293, 3.827691078186035), (-2.713169574737549, 3.6990201473236084), (-2.5867178440093994, 3.570751905441284), (-2.460815191268921, 3.4429101943969727), (-2.3354995250701904, 3.3155181407928467), (-2.2108092308044434, 3.1885995864868164), (-2.0867834091186523, 3.0621776580810547), (-1.9634613990783691, 2.9362759590148926), (-1.840883493423462, 2.810917377471924), (-1.7190903425216675, 2.6861250400543213), (-1.59812331199646, 2.5619218349456787), (-1.4780241250991821, 2.4383301734924316), (-1.358835220336914, 2.3153727054595947), (-1.2405998706817627, 2.1930716037750244), (-1.1233619451522827, 2.071449041366577), (-1.0071659088134766, 1.950526475906372), (-0.8920572996139526, 1.8303261995315552), (-0.7780823707580566, 1.710869550704956), (-0.6652882695198059, 1.5921779870986938), (-0.5537232756614685, 1.4742728471755981), (-0.4434365928173065, 1.357175588607788), (-0.3344787061214447, 1.2409074306488037), (-0.22690130770206451, 1.125489592552185), (-0.12075735628604889, 1.0109432935714722), (-0.016101233661174774, 0.897290050983429), (0.08701121807098389, 0.7845513224601746), (0.1885225921869278, 0.6727486848831177), (0.2883739173412323, 0.5619041323661804), (0.38650453090667725, 0.4520397484302521), (0.48285210132598877, 0.3431779742240906), (0.5773525238037109, 0.2353416532278061), (0.6699399948120117, 0.12855401635169983), (0.7605469226837158, 0.02283880114555359), (0.8491040468215942, -0.08177968859672546), (0.935540497303009, -0.185276597738266), (1.019783854484558, -0.2876264154911041), (1.1017603874206543, -0.3888028860092163), (1.1813950538635254, -0.4887790083885193), (1.258612036705017, -0.5875269770622253), (1.3333349227905273, -0.6850180625915527), (1.405487060546875, -0.7812225818634033), (1.474991798400879, -0.8761099576950073), (1.5417734384536743, -0.9696484804153442), (1.6057575941085815, -1.0618054866790771), (1.6668717861175537, -1.152547001838684), (1.7250462770462036, -1.241837978363037), (1.7802149057388306, -1.3296422958374023), (1.8323160409927368, -1.4159224033355713), (1.8812931776046753, -1.500639796257019), (1.9270964860916138, -1.5837544202804565), (1.9696834087371826, -1.6652253866195679), (2.0090198516845703, -1.745010256767273), (2.04508113861084, -1.8230656385421753), (2.077853202819824, -1.8993468284606934), (2.1073334217071533, -1.9738084077835083), (2.133531093597412, -2.0464038848876953), (2.1564688682556152, -2.1170859336853027), (2.1761832237243652, -2.1858062744140625), (2.1927244663238525, -2.252516508102417), (2.20615816116333, -2.3171677589416504), (2.2165634632110596, -2.379711151123047), (2.2240350246429443, -2.4400980472564697), (2.2286815643310547, -2.4982805252075195), (2.230626344680786, -2.554211139678955), (2.2300057411193848, -2.6078436374664307), (2.2269692420959473, -2.6591339111328125), (2.2216784954071045, -2.7080395221710205), (2.214306116104126, -2.754521131515503), (2.2050344944000244, -2.798542022705078), (2.1940555572509766, -2.8400697708129883), (2.1815683841705322, -2.879075765609741), (2.167778253555298, -2.915536403656006), (2.152895450592041, -2.9494338035583496), (2.137133836746216, -2.980755567550659), (2.12070894241333, -3.0094966888427734), (2.1038365364074707, -3.035659074783325), (2.08673095703125, -3.0592525005340576), (2.0696029663085938, -3.0802948474884033), (2.0526585578918457, -3.0988128185272217), (2.0360968112945557, -3.114842176437378), (2.0201072692871094, -3.1284279823303223), (2.004868984222412, -3.139625072479248), (1.9905471801757812, -3.1484975814819336), (1.977292776107788, -3.1551196575164795), (1.96523916721344, -3.1595754623413086), (1.9545010328292847, -3.1619579792022705), (1.9451721906661987, -3.162369728088379), (1.9373247623443604, -3.160922050476074), (1.9310073852539062, -3.1577346324920654), (1.926244854927063, -3.152935028076172), (1.9230372905731201, -3.146657943725586), (1.9213603734970093, -3.1390445232391357)]\n",
      "[(-3.869999885559082, 4.868749618530273), (-3.739495277404785, 4.737160682678223), (-3.6085124015808105, 4.605258941650391), (-3.477196455001831, 4.473158836364746), (-3.3456838130950928, 4.340967178344727), (-3.214076519012451, 4.208762168884277), (-3.0824437141418457, 4.076597213745117), (-2.95082950592041, 3.9445064067840576), (-2.819260358810425, 3.8125107288360596), (-2.687751054763794, 3.680622100830078), (-2.5563080310821533, 3.548847198486328), (-2.4249329566955566, 3.417188882827759), (-2.2936248779296875, 3.2856483459472656), (-2.1623802185058594, 3.1542246341705322), (-2.031193733215332, 3.0229170322418213), (-1.9000592231750488, 2.891723871231079), (-1.7689697742462158, 2.7606430053710938), (-1.6379170417785645, 2.629672050476074), (-1.5068918466567993, 2.4988086223602295), (-1.375883936882019, 2.3680498600006104), (-1.2448816299438477, 2.2373926639556885), (-1.1138720512390137, 2.1068339347839355), (-0.9828405380249023, 1.9763704538345337), (-0.8517704010009766, 1.8459984064102173), (-0.7206426858901978, 1.7157138586044312), (-0.5894354581832886, 1.585512399673462), (-0.45812344551086426, 1.4553894996643066), (-0.326677143573761, 1.3253400325775146), (-0.19506190717220306, 1.1953585147857666), (-0.06323650479316711, 1.065438985824585), (0.06884858012199402, 0.935575008392334), (0.2012535035610199, 0.8057591915130615), (0.3340524435043335, 0.6759836673736572), (0.467338502407074, 0.5462396144866943), (0.6012305021286011, 0.41651731729507446), (0.7358837127685547, 0.2868058681488037), (0.8715067505836487, 0.1570931226015091), (1.0083891153335571, 0.02736535668373108), (1.1469500064849854, -0.10239293426275253), (1.287830114364624, -0.23219938576221466), (1.4320828914642334, -0.36207419633865356), (1.581629991531372, -0.49204060435295105), (1.7405879497528076, -0.6221256852149963), (1.920636534690857, -0.752360999584198), (2.1809825897216797, -0.8827838897705078), (2.201225996017456, -1.0134390592575073), (2.1453614234924316, -1.1443803310394287), (2.0478978157043457, -1.2756733894348145), (1.8912568092346191, -1.407400131225586), (1.9051238298416138, -1.5396639108657837), (1.9734348058700562, -1.6725980043411255), (2.0990467071533203, -1.8063786029815674), (2.057765483856201, -1.941245675086975), (1.9680622816085815, -2.077538013458252), (1.9455536603927612, -2.215757369995117), (2.0005910396575928, -2.356693983078003), (2.0866994857788086, -2.5017013549804688), (2.027343988418579, -2.6534078121185303), (1.9147406816482544, -2.818056344985962), (1.952791452407837, -3.0174334049224854), (2.039372682571411, -3.3087289333343506), (2.032916784286499, -3.2729651927948), (1.9671239852905273, -3.189979314804077), (1.9945812225341797, -3.072434902191162), (2.063648223876953, -2.898500442504883), (2.0021846294403076, -2.8789782524108887), (1.9000239372253418, -2.932142734527588), (1.9533061981201172, -3.0306708812713623), (2.0547900199890137, -3.077458143234253), (2.0404632091522217, -3.0212957859039307), (1.9702080488204956, -2.9118428230285645), (1.9817274808883667, -2.9541714191436768), (2.0474348068237305, -3.044621229171753), (1.9946022033691406, -3.0322282314300537), (1.9393476247787476, -2.963019847869873), (1.9956042766571045, -2.992227077484131), (2.098231792449951, -3.067748546600342), (2.040403366088867, -3.0066375732421875), (1.9323927164077759, -2.8969004154205322), (1.9553661346435547, -2.9474799633026123), (2.029759645462036, -3.0450074672698975), (2.025761604309082, -3.0445680618286133), (1.961459994316101, -2.9802958965301514), (2.001455307006836, -2.971365213394165), (2.0580008029937744, -3.029039144515991), (1.9960938692092896, -2.9924187660217285), (1.9155230522155762, -2.9885506629943848), (1.97018301486969, -3.0471439361572266), (2.0770132541656494, -2.9856350421905518), (2.037471055984497, -2.961737632751465), (1.9477728605270386, -3.017583131790161), (1.9727873802185059, -3.0136916637420654), (2.0491955280303955, -2.9508042335510254), (2.0073533058166504, -3.003544330596924), (1.920806884765625, -3.072234869003296), (1.9748609066009521, -3.010693073272705), (2.0820844173431396, -2.896389961242676), (2.0377285480499268, -2.9450135231018066), (1.9434127807617188, -3.040260076522827), (1.968719720840454, -3.047912836074829)]\n"
     ]
    },
    {
     "data": {
      "image/png": "[encoded data removed]",
      "text/plain": [
       "<Figure size 640x480 with 1 Axes>"
      ]
     },
     "metadata": {},
     "output_type": "display_data"
    }
   ],
   "source": [
    "training_config = TrainingConfig()\n",
    "print(training_config.betas)\n",
    "betas = training_config.betas\n",
    "a = torch.tensor(((0.9,0.999),betas,(0.5,0.1)))\n",
    "#print(a)\n",
    "from matplotlib import pyplot as plt\n",
    "\n",
    "plt.figure()\n",
    "\n",
    "for a_t in adam_trajectories(betas=a):\n",
    "    print(a_t[0])\n",
    "    x,y = zip(*a_t[0])\n",
    "    plt.plot(x,y)\n",
    "    plt.plot(2,-3,\"o\",c=\"b\")\n",
    "    \n",
    "plt.show()\n",
    "\n"
   ]
  },
  {
   "cell_type": "markdown",
   "metadata": {},
   "source": [
    "### Learning rate scheduling"
   ]
  },
  {
   "cell_type": "markdown",
   "metadata": {},
   "source": [
    "Your next task is to implement the learning rate scheduler. As mentioned before, GPT-2 is trained with cosine decay from a maximum to a minimum learning rate in conjunction with a linear warmup phase."
   ]
  },
  {
   "cell_type": "markdown",
   "metadata": {},
   "source": [
    "#### 🎓 Task 3.06: Implementing cosine decay\n",
    "\n",
    "Implement a function `get_lr_factor()` that determines the learning for a given `step`. To work with the rest of the implementation, this function should return its result as a factor of the maximum learning rate. In particular, the result at the end of the linear warmup should be&nbsp;$1$. Validate your implementation by plotting the function against the training steps."
   ]
  },
  {
   "cell_type": "code",
   "execution_count": 12,
   "metadata": {},
   "outputs": [
    {
     "data": {
      "image/png": "[encoded data removed]",
      "text/plain": [
       "<Figure size 640x480 with 1 Axes>"
      ]
     },
     "metadata": {},
     "output_type": "display_data"
    }
   ],
   "source": [
    "def get_lr_factor(step: int, config: TrainingConfig) -> float:\n",
    "    # TODO: Replace the next line with your own code\n",
    "    if step < config.n_warmup_steps:\n",
    "        return (step/config.n_warmup_steps)\n",
    "    elif step < config.n_warmup_steps + config.n_decay_steps:\n",
    "        # how far we are into the decay\n",
    "        x = (step - config.n_warmup_steps) / config.n_decay_steps\n",
    "        # The final factor at end of cosine decay\n",
    "        final_factor = config.min_lr / config.max_lr\n",
    "        \n",
    "        # Scaled cosine decay from 1 down to the final factor\n",
    "        return final_factor + (1/2) * (1 - final_factor) * (1 + math.cos(math.pi * x))      \n",
    "\n",
    "steps = []\n",
    "for step in range(config.n_steps):\n",
    "    steps.append(get_lr_factor(step, config))\n",
    "\n",
    "plt.plot(steps)\n",
    "#plt.yscale(\"log\")\n",
    "plt.show()"
   ]
  },
  {
   "cell_type": "markdown",
   "metadata": {},
   "source": [
    "**Hint:** For $x \\in [0, 1]$, the relevant cosine decay is described by the term $\\frac{1}{2} \\cdot (1 + \\text{cos}(\\pi x))$."
   ]
  },
  {
   "cell_type": "markdown",
   "metadata": {},
   "source": [
    "### Training loop"
   ]
  },
  {
   "cell_type": "markdown",
   "metadata": {},
   "source": [
    "At this point, we have everything in place to put together a first version of the training loop. Here it is:"
   ]
  },
  {
   "cell_type": "code",
   "execution_count": 13,
   "metadata": {},
   "outputs": [],
   "source": [
    "import time\n",
    "torch.set_float32_matmul_precision(precision=\"high\")\n",
    "def train(config: TrainingConfig):\n",
    "    model = configure_model(config)\n",
    "    model = model.to(config.device)\n",
    "    model = torch.compile(model)\n",
    "    batches = make_batches(config)\n",
    "    optimizer = configure_optimizer(model, config)\n",
    "    scheduler = torch.optim.lr_scheduler.LambdaLR(\n",
    "        optimizer,\n",
    "        lambda lr: get_lr_factor(lr, config),\n",
    "    )\n",
    "    n_micro_steps = config.n_tokens_per_step // (\n",
    "        config.batch_size * config.sequence_len\n",
    "    )\n",
    "    for step in range(config.n_steps):\n",
    "        start_time = time.time()\n",
    "        model.train()\n",
    "        optimizer.zero_grad()\n",
    "        running_loss = 0.0\n",
    "        for micro_step in range(n_micro_steps):\n",
    "            x, y = next(batches)\n",
    "            x, y = x.to(config.device), y.to(config.device)\n",
    "            with torch.autocast(device_type=\"cuda\", dtype=torch.bfloat16):\n",
    "                logits = model(x)\n",
    "                loss = F.cross_entropy(logits.view(-1, logits.size(-1)), y.view(-1))/n_micro_steps\n",
    "                loss.backward()\n",
    "            running_loss += loss.item()\n",
    "        nn.utils.clip_grad_norm_(model.parameters(), config.clip_norm)\n",
    "        optimizer.step()\n",
    "        lr = scheduler.get_last_lr()[0]\n",
    "        scheduler.step()\n",
    "        torch.cuda.synchronize()\n",
    "        print(f\"step {step:4d} | loss: {running_loss:.4f} | lr: {lr:.4e} | Ts/s: {config.n_tokens_per_step/(time.time()-start_time)}\")"
   ]
  },
  {
   "cell_type": "markdown",
   "metadata": {},
   "source": [
    "Most of the steps should look familiar from previous labs or earlier tasks in this notebook. However, a few key aspects will be new:\n",
    "\n",
    "**Moving the model and data to the training device.** The model and each batch are moved to the training device using `.to()`. In our training configuration, `config.device` is an NVIDIA GPU, which supports fast tensor computations.\n",
    "\n",
    "**Gradient accumulation.** Instead of taking an optimisation step after every batch, we accumulate gradients over multiple batches (“micro-steps”). Each batch contributes to the gradients using `loss.backward()`.\n",
    "\n",
    "**Gradient clipping.** Before updating weights, the gradients are clipped using `clip_grad_norm_()`. This prevents excessively large updates that could destabilise training. The clipping threshold is set by `config.clip_norm`."
   ]
  },
  {
   "cell_type": "markdown",
   "metadata": {},
   "source": [
    "#### 🎓 Task 3.07: Fixing the training loop\n",
    "\n",
    "Try to train a model by executing the code below:"
   ]
  },
  {
   "cell_type": "code",
   "execution_count": 14,
   "metadata": {},
   "outputs": [
    {
     "name": "stderr",
     "output_type": "stream",
     "text": [
      "/tmp/ipykernel_1049908/2671198488.py:8: FutureWarning: `nn.init.normal` is now deprecated in favor of `nn.init.normal_`.\n",
      "  nn.init.normal(mod_dict[param], mean=0, std=math.sqrt(0.02))\n",
      "/tmp/ipykernel_1049908/2671198488.py:10: FutureWarning: `nn.init.normal` is now deprecated in favor of `nn.init.normal_`.\n",
      "  nn.init.normal(mod_dict[param], mean=0, std=math.sqrt(0.01))\n",
      "/tmp/ipykernel_1049908/2671198488.py:15: FutureWarning: `nn.init.normal` is now deprecated in favor of `nn.init.normal_`.\n",
      "  nn.init.normal(mod_dict[param], mean=0, std=math.sqrt(0.02))\n",
      "/tmp/ipykernel_1049908/2671198488.py:13: FutureWarning: `nn.init.normal` is now deprecated in favor of `nn.init.normal_`.\n",
      "  nn.init.normal(mod_dict[param], mean=0, std=math.sqrt(0.02) * (1/math.sqrt(model.config.n_layer * 2))) # Factor for residual intitialization\n"
     ]
    },
    {
     "name": "stdout",
     "output_type": "stream",
     "text": [
      "hello!\n"
     ]
    },
    {
     "name": "stderr",
     "output_type": "stream",
     "text": [
      "W0520 16:35:35.893000 1049908 torch/_inductor/utils.py:1137] [0/0] Not enough SMs to use max_autotune_gemm mode\n"
     ]
    },
    {
     "name": "stdout",
     "output_type": "stream",
     "text": [
      "step    0 | loss: 10.9874 | lr: 0.0000e+00 | Ts/s: 11740.933795400488\n",
      "step    1 | loss: 10.9894 | lr: 8.3916e-07 | Ts/s: 46020.70758322623\n",
      "step    2 | loss: 10.9814 | lr: 1.6783e-06 | Ts/s: 47780.80198004678\n",
      "step    3 | loss: 10.9648 | lr: 2.5175e-06 | Ts/s: 47197.01128144733\n",
      "step    4 | loss: 10.9396 | lr: 3.3566e-06 | Ts/s: 47076.283421575994\n",
      "step    5 | loss: 10.9133 | lr: 4.1958e-06 | Ts/s: 47965.29520859033\n",
      "step    6 | loss: 10.8744 | lr: 5.0350e-06 | Ts/s: 48235.07882704233\n",
      "step    7 | loss: 10.8303 | lr: 5.8741e-06 | Ts/s: 48306.92192321992\n",
      "step    8 | loss: 10.7746 | lr: 6.7133e-06 | Ts/s: 48246.587600407074\n",
      "step    9 | loss: 10.7266 | lr: 7.5524e-06 | Ts/s: 48196.906929951525\n",
      "step   10 | loss: 10.6681 | lr: 8.3916e-06 | Ts/s: 48183.68292395567\n",
      "step   11 | loss: 10.6137 | lr: 9.2308e-06 | Ts/s: 48121.968786832396\n",
      "step   12 | loss: 10.5581 | lr: 1.0070e-05 | Ts/s: 48106.88619170862\n",
      "step   13 | loss: 10.5111 | lr: 1.0909e-05 | Ts/s: 47103.29082412323\n",
      "step   14 | loss: 10.4413 | lr: 1.1748e-05 | Ts/s: 46858.67986179499\n",
      "step   15 | loss: 10.3925 | lr: 1.2587e-05 | Ts/s: 47324.811074035024\n",
      "step   16 | loss: 10.3472 | lr: 1.3427e-05 | Ts/s: 48054.03339311361\n",
      "step   17 | loss: 10.2966 | lr: 1.4266e-05 | Ts/s: 48059.17942478688\n",
      "step   18 | loss: 10.2938 | lr: 1.5105e-05 | Ts/s: 48067.203131316746\n",
      "step   19 | loss: 10.2449 | lr: 1.5944e-05 | Ts/s: 48063.74771376131\n",
      "step   20 | loss: 10.1655 | lr: 1.6783e-05 | Ts/s: 48068.47553091277\n",
      "step   21 | loss: 10.1157 | lr: 1.7622e-05 | Ts/s: 48061.51545670622\n",
      "step   22 | loss: 10.0804 | lr: 1.8462e-05 | Ts/s: 45821.48246643575\n",
      "step   23 | loss: 10.0591 | lr: 1.9301e-05 | Ts/s: 45995.226200979865\n",
      "step   24 | loss: 9.9930 | lr: 2.0140e-05 | Ts/s: 46213.93466221543\n",
      "step   25 | loss: 9.9646 | lr: 2.0979e-05 | Ts/s: 46573.48881115004\n",
      "step   26 | loss: 9.9432 | lr: 2.1818e-05 | Ts/s: 46968.99016931704\n",
      "step   27 | loss: 9.9020 | lr: 2.2657e-05 | Ts/s: 47137.86286932575\n",
      "step   28 | loss: 9.8794 | lr: 2.3497e-05 | Ts/s: 47699.04549236965\n",
      "step   29 | loss: 9.8388 | lr: 2.4336e-05 | Ts/s: 47259.55415288027\n",
      "step   30 | loss: 9.8624 | lr: 2.5175e-05 | Ts/s: 47147.27092016885\n",
      "step   31 | loss: 9.8110 | lr: 2.6014e-05 | Ts/s: 45472.744156007706\n",
      "step   32 | loss: 9.7990 | lr: 2.6853e-05 | Ts/s: 46647.54799729494\n",
      "step   33 | loss: 9.7651 | lr: 2.7692e-05 | Ts/s: 47738.68030607921\n",
      "step   34 | loss: 9.6994 | lr: 2.8531e-05 | Ts/s: 48002.762510164735\n",
      "step   35 | loss: 9.7300 | lr: 2.9371e-05 | Ts/s: 48046.48437392565\n",
      "step   36 | loss: 9.7290 | lr: 3.0210e-05 | Ts/s: 47847.096126519355\n",
      "step   37 | loss: 9.6883 | lr: 3.1049e-05 | Ts/s: 48034.640660170284\n",
      "step   38 | loss: 9.6789 | lr: 3.1888e-05 | Ts/s: 48122.688043914386\n",
      "step   39 | loss: 9.6800 | lr: 3.2727e-05 | Ts/s: 47484.892946926855\n",
      "step   40 | loss: 9.6764 | lr: 3.3566e-05 | Ts/s: 48043.32268020878\n",
      "step   41 | loss: 9.6153 | lr: 3.4406e-05 | Ts/s: 48053.21328050027\n",
      "step   42 | loss: 9.6136 | lr: 3.5245e-05 | Ts/s: 48104.49944586347\n",
      "step   43 | loss: 9.6294 | lr: 3.6084e-05 | Ts/s: 47785.123319669336\n",
      "step   44 | loss: 9.6150 | lr: 3.6923e-05 | Ts/s: 47731.15129579589\n",
      "step   45 | loss: 9.6166 | lr: 3.7762e-05 | Ts/s: 48085.739959485516\n",
      "step   46 | loss: 9.5839 | lr: 3.8601e-05 | Ts/s: 47672.64056748356\n",
      "step   47 | loss: 9.5816 | lr: 3.9441e-05 | Ts/s: 47891.45988116684\n",
      "step   48 | loss: 9.5826 | lr: 4.0280e-05 | Ts/s: 47566.20134086384\n",
      "step   49 | loss: 9.5396 | lr: 4.1119e-05 | Ts/s: 45778.18162808392\n",
      "step   50 | loss: 9.5612 | lr: 4.1958e-05 | Ts/s: 45533.1595102887\n",
      "step   51 | loss: 9.5405 | lr: 4.2797e-05 | Ts/s: 44921.31785602275\n",
      "step   52 | loss: 9.5236 | lr: 4.3636e-05 | Ts/s: 45239.0154249422\n",
      "step   53 | loss: 9.5106 | lr: 4.4476e-05 | Ts/s: 46575.67869517975\n",
      "step   54 | loss: 9.5211 | lr: 4.5315e-05 | Ts/s: 47987.605832708505\n",
      "step   55 | loss: 9.5094 | lr: 4.6154e-05 | Ts/s: 47921.79297420335\n",
      "step   56 | loss: 9.5030 | lr: 4.6993e-05 | Ts/s: 47967.81987848761\n",
      "step   57 | loss: 9.4986 | lr: 4.7832e-05 | Ts/s: 47938.93963788324\n",
      "step   58 | loss: 9.4745 | lr: 4.8671e-05 | Ts/s: 47931.36300428426\n",
      "step   59 | loss: 9.4620 | lr: 4.9510e-05 | Ts/s: 46264.086319667105\n",
      "step   60 | loss: 9.4630 | lr: 5.0350e-05 | Ts/s: 46874.309680815335\n",
      "step   61 | loss: 9.4666 | lr: 5.1189e-05 | Ts/s: 47929.62252458323\n",
      "step   62 | loss: 9.4133 | lr: 5.2028e-05 | Ts/s: 47538.5650758458\n",
      "step   63 | loss: 9.3962 | lr: 5.2867e-05 | Ts/s: 47600.58272437052\n",
      "step   64 | loss: 9.3803 | lr: 5.3706e-05 | Ts/s: 47580.191097076604\n",
      "step   65 | loss: 9.3728 | lr: 5.4545e-05 | Ts/s: 47934.57789608055\n",
      "step   66 | loss: 9.3541 | lr: 5.5385e-05 | Ts/s: 47934.155766746015\n",
      "step   67 | loss: 9.3627 | lr: 5.6224e-05 | Ts/s: 47197.233124243285\n",
      "step   68 | loss: 9.3423 | lr: 5.7063e-05 | Ts/s: 47966.26089221231\n",
      "step   69 | loss: 9.2971 | lr: 5.7902e-05 | Ts/s: 47872.25230931104\n",
      "step   70 | loss: 9.2712 | lr: 5.8741e-05 | Ts/s: 46978.547705965\n",
      "step   71 | loss: 9.2933 | lr: 5.9580e-05 | Ts/s: 46322.42403443993\n",
      "step   72 | loss: 9.2466 | lr: 6.0420e-05 | Ts/s: 46186.431619043724\n",
      "step   73 | loss: 9.2209 | lr: 6.1259e-05 | Ts/s: 45850.42709569369\n",
      "step   74 | loss: 9.2106 | lr: 6.2098e-05 | Ts/s: 46733.62125144641\n",
      "step   75 | loss: 9.2133 | lr: 6.2937e-05 | Ts/s: 46910.49360329173\n",
      "step   76 | loss: 9.1824 | lr: 6.3776e-05 | Ts/s: 46636.65782280412\n",
      "step   77 | loss: 9.1954 | lr: 6.4615e-05 | Ts/s: 45826.69622006485\n",
      "step   78 | loss: 9.1655 | lr: 6.5455e-05 | Ts/s: 46868.449274796745\n",
      "step   79 | loss: 9.1446 | lr: 6.6294e-05 | Ts/s: 46547.14152247295\n",
      "step   80 | loss: 9.1091 | lr: 6.7133e-05 | Ts/s: 46919.31856271623\n",
      "step   81 | loss: 9.1253 | lr: 6.7972e-05 | Ts/s: 45611.196755288205\n",
      "step   82 | loss: 9.0786 | lr: 6.8811e-05 | Ts/s: 46180.88547692033\n",
      "step   83 | loss: 9.0401 | lr: 6.9650e-05 | Ts/s: 46334.190072426376\n",
      "step   84 | loss: 9.0514 | lr: 7.0490e-05 | Ts/s: 46596.77821865431\n",
      "step   85 | loss: 9.0132 | lr: 7.1329e-05 | Ts/s: 46922.362076856094\n",
      "step   86 | loss: 9.0100 | lr: 7.2168e-05 | Ts/s: 46454.82270958968\n",
      "step   87 | loss: 9.0007 | lr: 7.3007e-05 | Ts/s: 46612.484742245964\n",
      "step   88 | loss: 9.0006 | lr: 7.3846e-05 | Ts/s: 47146.82413222085\n",
      "step   89 | loss: 9.0249 | lr: 7.4685e-05 | Ts/s: 47456.486661275085\n",
      "step   90 | loss: 8.9503 | lr: 7.5524e-05 | Ts/s: 46795.27482850905\n",
      "step   91 | loss: 8.9468 | lr: 7.6364e-05 | Ts/s: 46658.74718773688\n",
      "step   92 | loss: 8.9598 | lr: 7.7203e-05 | Ts/s: 47039.97117889948\n",
      "step   93 | loss: 9.0058 | lr: 7.8042e-05 | Ts/s: 46147.98230840637\n",
      "step   94 | loss: 9.0073 | lr: 7.8881e-05 | Ts/s: 45211.749230287875\n",
      "step   95 | loss: 8.9932 | lr: 7.9720e-05 | Ts/s: 44803.90533424073\n",
      "step   96 | loss: 8.9709 | lr: 8.0559e-05 | Ts/s: 45326.82782163012\n",
      "step   97 | loss: 8.9183 | lr: 8.1399e-05 | Ts/s: 45583.60683143242\n",
      "step   98 | loss: 8.9154 | lr: 8.2238e-05 | Ts/s: 44710.986291195404\n",
      "step   99 | loss: 8.8855 | lr: 8.3077e-05 | Ts/s: 46440.92481281116\n",
      "step  100 | loss: 8.9184 | lr: 8.3916e-05 | Ts/s: 46287.38193952393\n",
      "step  101 | loss: 8.8751 | lr: 8.4755e-05 | Ts/s: 46757.88139562486\n",
      "step  102 | loss: 8.8576 | lr: 8.5594e-05 | Ts/s: 45295.658061646885\n",
      "step  103 | loss: 8.7668 | lr: 8.6434e-05 | Ts/s: 47857.425804189945\n",
      "step  104 | loss: 8.8348 | lr: 8.7273e-05 | Ts/s: 47928.28434253562\n",
      "step  105 | loss: 8.8286 | lr: 8.8112e-05 | Ts/s: 47870.69119196216\n",
      "step  106 | loss: 8.7689 | lr: 8.8951e-05 | Ts/s: 47028.10248108577\n",
      "step  107 | loss: 8.7567 | lr: 8.9790e-05 | Ts/s: 47335.49519189249\n",
      "step  108 | loss: 8.7822 | lr: 9.0629e-05 | Ts/s: 46791.98392534674\n",
      "step  109 | loss: 8.8086 | lr: 9.1469e-05 | Ts/s: 47823.252858284475\n",
      "step  110 | loss: 8.7406 | lr: 9.2308e-05 | Ts/s: 47623.39066318974\n",
      "step  111 | loss: 8.7097 | lr: 9.3147e-05 | Ts/s: 47593.53292218064\n",
      "step  112 | loss: 8.6884 | lr: 9.3986e-05 | Ts/s: 47895.247331294806\n",
      "step  113 | loss: 8.7354 | lr: 9.4825e-05 | Ts/s: 47923.33862726258\n",
      "step  114 | loss: 8.7074 | lr: 9.5664e-05 | Ts/s: 47241.65987932859\n",
      "step  115 | loss: 8.6788 | lr: 9.6503e-05 | Ts/s: 47529.75426365377\n",
      "step  116 | loss: 8.6137 | lr: 9.7343e-05 | Ts/s: 46104.602827136216\n",
      "step  117 | loss: 8.5365 | lr: 9.8182e-05 | Ts/s: 47883.20904847641\n",
      "step  118 | loss: 8.5577 | lr: 9.9021e-05 | Ts/s: 47487.8051796576\n",
      "step  119 | loss: 8.5788 | lr: 9.9860e-05 | Ts/s: 47107.717534658776\n",
      "step  120 | loss: 8.5450 | lr: 1.0070e-04 | Ts/s: 46737.05294886538\n",
      "step  121 | loss: 8.5315 | lr: 1.0154e-04 | Ts/s: 47193.33952896566\n",
      "step  122 | loss: 8.5059 | lr: 1.0238e-04 | Ts/s: 47831.760826672\n",
      "step  123 | loss: 8.4812 | lr: 1.0322e-04 | Ts/s: 47972.099764419996\n",
      "step  124 | loss: 8.4917 | lr: 1.0406e-04 | Ts/s: 47018.48858073253\n",
      "step  125 | loss: 8.4785 | lr: 1.0490e-04 | Ts/s: 47644.941421759846\n",
      "step  126 | loss: 8.4713 | lr: 1.0573e-04 | Ts/s: 47863.01318558743\n",
      "step  127 | loss: 8.4342 | lr: 1.0657e-04 | Ts/s: 47937.1651679903\n",
      "step  128 | loss: 8.3917 | lr: 1.0741e-04 | Ts/s: 47915.06427919837\n",
      "step  129 | loss: 8.3630 | lr: 1.0825e-04 | Ts/s: 47902.31689341315\n",
      "step  130 | loss: 8.3973 | lr: 1.0909e-04 | Ts/s: 47899.74068526531\n",
      "step  131 | loss: 8.3583 | lr: 1.0993e-04 | Ts/s: 47905.15219042303\n",
      "step  132 | loss: 8.3449 | lr: 1.1077e-04 | Ts/s: 47908.79150473474\n",
      "step  133 | loss: 8.2656 | lr: 1.1161e-04 | Ts/s: 47836.982154688456\n",
      "step  134 | loss: 8.2777 | lr: 1.1245e-04 | Ts/s: 47855.26474164317\n",
      "step  135 | loss: 8.3248 | lr: 1.1329e-04 | Ts/s: 47941.29221480454\n",
      "step  136 | loss: 8.2995 | lr: 1.1413e-04 | Ts/s: 47899.372380050205\n",
      "step  137 | loss: 8.2847 | lr: 1.1497e-04 | Ts/s: 47917.46776428394\n",
      "step  138 | loss: 8.2513 | lr: 1.1580e-04 | Ts/s: 47886.98059430577\n",
      "step  139 | loss: 8.2933 | lr: 1.1664e-04 | Ts/s: 47915.13422952789\n",
      "step  140 | loss: 8.3504 | lr: 1.1748e-04 | Ts/s: 47951.553863635425\n",
      "step  141 | loss: 8.2501 | lr: 1.1832e-04 | Ts/s: 47852.4728336616\n",
      "step  142 | loss: 8.3112 | lr: 1.1916e-04 | Ts/s: 47929.63819460487\n",
      "step  143 | loss: 8.2386 | lr: 1.2000e-04 | Ts/s: 47908.269630467315\n",
      "step  144 | loss: 8.2369 | lr: 1.2084e-04 | Ts/s: 47926.221327705745\n",
      "step  145 | loss: 8.2342 | lr: 1.2168e-04 | Ts/s: 47888.2914420543\n",
      "step  146 | loss: 8.2197 | lr: 1.2252e-04 | Ts/s: 47941.31938940977\n",
      "step  147 | loss: 8.2063 | lr: 1.2336e-04 | Ts/s: 47852.31039026095\n",
      "step  148 | loss: 8.1832 | lr: 1.2420e-04 | Ts/s: 47961.616969273135\n",
      "step  149 | loss: 8.1730 | lr: 1.2503e-04 | Ts/s: 47930.35693727691\n",
      "step  150 | loss: 8.1679 | lr: 1.2587e-04 | Ts/s: 47935.3688861634\n",
      "step  151 | loss: 8.0937 | lr: 1.2671e-04 | Ts/s: 47567.97417694161\n",
      "step  152 | loss: 8.0959 | lr: 1.2755e-04 | Ts/s: 47853.573520884864\n",
      "step  153 | loss: 8.1440 | lr: 1.2839e-04 | Ts/s: 45814.49446004658\n",
      "step  154 | loss: 8.0613 | lr: 1.2923e-04 | Ts/s: 46524.757056211936\n",
      "step  155 | loss: 8.0122 | lr: 1.3007e-04 | Ts/s: 46150.960473432075\n",
      "step  156 | loss: 8.0661 | lr: 1.3091e-04 | Ts/s: 46136.295151844184\n",
      "step  157 | loss: 8.0746 | lr: 1.3175e-04 | Ts/s: 45717.79147672622\n",
      "step  158 | loss: 8.0487 | lr: 1.3259e-04 | Ts/s: 44948.17321031768\n",
      "step  159 | loss: 7.9877 | lr: 1.3343e-04 | Ts/s: 46390.42642418\n",
      "step  160 | loss: 7.9392 | lr: 1.3427e-04 | Ts/s: 45800.139459887316\n",
      "step  161 | loss: 7.9886 | lr: 1.3510e-04 | Ts/s: 46643.89000142263\n",
      "step  162 | loss: 7.8958 | lr: 1.3594e-04 | Ts/s: 46324.88411111198\n",
      "step  163 | loss: 7.8558 | lr: 1.3678e-04 | Ts/s: 46697.95450792418\n",
      "step  164 | loss: 7.8767 | lr: 1.3762e-04 | Ts/s: 46691.02874073143\n",
      "step  165 | loss: 7.8827 | lr: 1.3846e-04 | Ts/s: 46372.80374011792\n",
      "step  166 | loss: 7.7216 | lr: 1.3930e-04 | Ts/s: 46702.09508505468\n",
      "step  167 | loss: 7.8108 | lr: 1.4014e-04 | Ts/s: 47004.504615958125\n",
      "step  168 | loss: 7.7826 | lr: 1.4098e-04 | Ts/s: 46700.92870689108\n",
      "step  169 | loss: 7.8130 | lr: 1.4182e-04 | Ts/s: 46571.10877885766\n",
      "step  170 | loss: 7.7696 | lr: 1.4266e-04 | Ts/s: 46888.399232309195\n",
      "step  171 | loss: 7.7782 | lr: 1.4350e-04 | Ts/s: 46482.30744510384\n",
      "step  172 | loss: 7.7629 | lr: 1.4434e-04 | Ts/s: 46321.83564546152\n",
      "step  173 | loss: 7.7082 | lr: 1.4517e-04 | Ts/s: 46864.247188963425\n",
      "step  174 | loss: 7.6779 | lr: 1.4601e-04 | Ts/s: 46155.85615283904\n",
      "step  175 | loss: 7.7250 | lr: 1.4685e-04 | Ts/s: 46903.244547262206\n",
      "step  176 | loss: 7.6665 | lr: 1.4769e-04 | Ts/s: 46440.32752506632\n",
      "step  177 | loss: 7.6759 | lr: 1.4853e-04 | Ts/s: 46350.988135115644\n",
      "step  178 | loss: 7.6304 | lr: 1.4937e-04 | Ts/s: 46228.5697013296\n",
      "step  179 | loss: 7.5983 | lr: 1.5021e-04 | Ts/s: 45984.019175990565\n",
      "step  180 | loss: 7.5820 | lr: 1.5105e-04 | Ts/s: 46471.78300903494\n",
      "step  181 | loss: 7.6017 | lr: 1.5189e-04 | Ts/s: 47331.51966389682\n",
      "step  182 | loss: 7.5922 | lr: 1.5273e-04 | Ts/s: 46486.33616461511\n",
      "step  183 | loss: 7.5713 | lr: 1.5357e-04 | Ts/s: 47222.946569293505\n",
      "step  184 | loss: 7.5687 | lr: 1.5441e-04 | Ts/s: 47139.45638496327\n",
      "step  185 | loss: 7.5933 | lr: 1.5524e-04 | Ts/s: 47293.436552342784\n",
      "step  186 | loss: 7.6147 | lr: 1.5608e-04 | Ts/s: 47389.10056076294\n",
      "step  187 | loss: 7.6678 | lr: 1.5692e-04 | Ts/s: 46494.185329360036\n",
      "step  188 | loss: 7.6262 | lr: 1.5776e-04 | Ts/s: 46301.298238710086\n",
      "step  189 | loss: 7.5729 | lr: 1.5860e-04 | Ts/s: 46808.76888518018\n",
      "hello!\n",
      "Excess 0\n",
      "step  190 | loss: 7.5958 | lr: 1.5944e-04 | Ts/s: 45940.193844509486\n",
      "step  191 | loss: 7.5585 | lr: 1.6028e-04 | Ts/s: 46599.86890618592\n",
      "step  192 | loss: 7.5512 | lr: 1.6112e-04 | Ts/s: 46435.43603219963\n",
      "step  193 | loss: 7.5789 | lr: 1.6196e-04 | Ts/s: 46895.41768270376\n",
      "step  194 | loss: 7.4927 | lr: 1.6280e-04 | Ts/s: 46082.07887014224\n",
      "step  195 | loss: 7.4737 | lr: 1.6364e-04 | Ts/s: 46711.60383523915\n",
      "step  196 | loss: 7.4633 | lr: 1.6448e-04 | Ts/s: 46016.72642294968\n",
      "step  197 | loss: 7.4680 | lr: 1.6531e-04 | Ts/s: 46083.13341942413\n",
      "step  198 | loss: 7.4947 | lr: 1.6615e-04 | Ts/s: 45808.4332319566\n",
      "step  199 | loss: 7.4479 | lr: 1.6699e-04 | Ts/s: 46067.29708475233\n",
      "step  200 | loss: 7.4227 | lr: 1.6783e-04 | Ts/s: 46198.43827299501\n",
      "step  201 | loss: 7.3912 | lr: 1.6867e-04 | Ts/s: 46947.53224800213\n",
      "step  202 | loss: 7.4036 | lr: 1.6951e-04 | Ts/s: 46798.68869613784\n",
      "step  203 | loss: 7.3976 | lr: 1.7035e-04 | Ts/s: 47273.62221801491\n",
      "step  204 | loss: 7.3698 | lr: 1.7119e-04 | Ts/s: 47229.855558539755\n",
      "step  205 | loss: 7.4422 | lr: 1.7203e-04 | Ts/s: 47029.561852982784\n",
      "step  206 | loss: 7.4151 | lr: 1.7287e-04 | Ts/s: 46296.01590157643\n",
      "step  207 | loss: 7.3577 | lr: 1.7371e-04 | Ts/s: 46746.733945084794\n",
      "step  208 | loss: 7.2887 | lr: 1.7455e-04 | Ts/s: 45381.53374035949\n",
      "step  209 | loss: 7.2410 | lr: 1.7538e-04 | Ts/s: 45151.85132956423\n",
      "step  210 | loss: 7.2383 | lr: 1.7622e-04 | Ts/s: 46207.31288557036\n",
      "step  211 | loss: 7.2852 | lr: 1.7706e-04 | Ts/s: 47224.016458093625\n",
      "step  212 | loss: 7.3155 | lr: 1.7790e-04 | Ts/s: 45919.44297928376\n",
      "step  213 | loss: 7.2920 | lr: 1.7874e-04 | Ts/s: 46807.16775871239\n",
      "step  214 | loss: 7.2748 | lr: 1.7958e-04 | Ts/s: 47912.95542486358\n",
      "step  215 | loss: 7.2869 | lr: 1.8042e-04 | Ts/s: 47897.31289663658\n",
      "step  216 | loss: 7.2234 | lr: 1.8126e-04 | Ts/s: 47911.005421795184\n",
      "step  217 | loss: 7.2171 | lr: 1.8210e-04 | Ts/s: 47982.85307679209\n",
      "step  218 | loss: 7.1837 | lr: 1.8294e-04 | Ts/s: 47932.22075416181\n",
      "step  219 | loss: 7.1747 | lr: 1.8378e-04 | Ts/s: 47904.62830828174\n",
      "step  220 | loss: 7.1393 | lr: 1.8462e-04 | Ts/s: 47903.79867773408\n",
      "step  221 | loss: 7.1289 | lr: 1.8545e-04 | Ts/s: 47840.98788772111\n",
      "step  222 | loss: 7.1730 | lr: 1.8629e-04 | Ts/s: 47879.54338753049\n",
      "step  223 | loss: 7.1012 | lr: 1.8713e-04 | Ts/s: 47873.90107649827\n",
      "step  224 | loss: 7.0933 | lr: 1.8797e-04 | Ts/s: 47936.85376102931\n",
      "step  225 | loss: 7.0699 | lr: 1.8881e-04 | Ts/s: 47961.55838982079\n",
      "step  226 | loss: 7.0613 | lr: 1.8965e-04 | Ts/s: 47912.65163985798\n",
      "step  227 | loss: 7.1457 | lr: 1.9049e-04 | Ts/s: 47939.54996884398\n",
      "step  228 | loss: 7.0802 | lr: 1.9133e-04 | Ts/s: 47840.81511428308\n",
      "step  229 | loss: 7.0575 | lr: 1.9217e-04 | Ts/s: 47896.51690263057\n",
      "step  230 | loss: 7.0754 | lr: 1.9301e-04 | Ts/s: 47952.007668751125\n",
      "step  231 | loss: 7.0202 | lr: 1.9385e-04 | Ts/s: 47911.90941847105\n",
      "step  232 | loss: 7.1943 | lr: 1.9469e-04 | Ts/s: 47926.23490646321\n",
      "step  233 | loss: 7.1775 | lr: 1.9552e-04 | Ts/s: 47869.21562324091\n",
      "step  234 | loss: 7.1603 | lr: 1.9636e-04 | Ts/s: 47938.27811519758\n",
      "step  235 | loss: 7.1769 | lr: 1.9720e-04 | Ts/s: 47864.74570543607\n",
      "step  236 | loss: 7.1867 | lr: 1.9804e-04 | Ts/s: 47914.23533114335\n",
      "step  237 | loss: 7.1733 | lr: 1.9888e-04 | Ts/s: 47432.65142809812\n",
      "step  238 | loss: 7.1255 | lr: 1.9972e-04 | Ts/s: 47514.5097720583\n",
      "step  239 | loss: 7.0882 | lr: 2.0056e-04 | Ts/s: 47231.92093954058\n",
      "step  240 | loss: 7.1477 | lr: 2.0140e-04 | Ts/s: 47924.02167058191\n",
      "step  241 | loss: 7.1380 | lr: 2.0224e-04 | Ts/s: 47862.432928866314\n",
      "step  242 | loss: 7.0974 | lr: 2.0308e-04 | Ts/s: 47840.47685664719\n",
      "step  243 | loss: 7.1079 | lr: 2.0392e-04 | Ts/s: 47893.62734334354\n",
      "step  244 | loss: 7.0219 | lr: 2.0476e-04 | Ts/s: 47941.4510821638\n",
      "step  245 | loss: 7.0110 | lr: 2.0559e-04 | Ts/s: 46896.59379613036\n",
      "step  246 | loss: 7.0207 | lr: 2.0643e-04 | Ts/s: 47876.10343131959\n",
      "step  247 | loss: 7.0774 | lr: 2.0727e-04 | Ts/s: 47866.54086581755\n",
      "step  248 | loss: 7.0521 | lr: 2.0811e-04 | Ts/s: 47914.91498290955\n",
      "step  249 | loss: 7.0028 | lr: 2.0895e-04 | Ts/s: 47379.13741217931\n",
      "step  250 | loss: 7.0461 | lr: 2.0979e-04 | Ts/s: 47922.70259984341\n",
      "step  251 | loss: 6.9698 | lr: 2.1063e-04 | Ts/s: 46312.59316761056\n",
      "step  252 | loss: 7.0605 | lr: 2.1147e-04 | Ts/s: 46221.28016903988\n",
      "step  253 | loss: 6.9882 | lr: 2.1231e-04 | Ts/s: 46569.17475026141\n",
      "step  254 | loss: 6.9976 | lr: 2.1315e-04 | Ts/s: 46545.06958736041\n",
      "step  255 | loss: 6.9272 | lr: 2.1399e-04 | Ts/s: 46471.51391944486\n",
      "step  256 | loss: 6.9576 | lr: 2.1483e-04 | Ts/s: 44313.20320500165\n",
      "step  257 | loss: 6.9437 | lr: 2.1566e-04 | Ts/s: 45891.01259696017\n",
      "step  258 | loss: 6.8941 | lr: 2.1650e-04 | Ts/s: 46047.407043319305\n",
      "step  259 | loss: 6.9265 | lr: 2.1734e-04 | Ts/s: 45858.845246698584\n",
      "step  260 | loss: 6.8268 | lr: 2.1818e-04 | Ts/s: 45618.29794997188\n",
      "step  261 | loss: 6.8949 | lr: 2.1902e-04 | Ts/s: 45353.84203619809\n",
      "step  262 | loss: 6.8522 | lr: 2.1986e-04 | Ts/s: 46169.91157268404\n",
      "step  263 | loss: 6.8280 | lr: 2.2070e-04 | Ts/s: 47874.79637755995\n",
      "step  264 | loss: 6.8633 | lr: 2.2154e-04 | Ts/s: 46433.008320183435\n",
      "step  265 | loss: 6.8793 | lr: 2.2238e-04 | Ts/s: 47872.63999909437\n",
      "step  266 | loss: 6.9098 | lr: 2.2322e-04 | Ts/s: 47857.12480594838\n",
      "step  267 | loss: 6.8061 | lr: 2.2406e-04 | Ts/s: 47173.69902850452\n",
      "step  268 | loss: 6.8053 | lr: 2.2490e-04 | Ts/s: 46303.64297274582\n",
      "step  269 | loss: 6.8583 | lr: 2.2573e-04 | Ts/s: 46388.93794698191\n",
      "step  270 | loss: 6.8437 | lr: 2.2657e-04 | Ts/s: 46855.378038189694\n",
      "step  271 | loss: 6.7954 | lr: 2.2741e-04 | Ts/s: 46648.832439208345\n",
      "step  272 | loss: 6.7690 | lr: 2.2825e-04 | Ts/s: 46619.548324996846\n",
      "step  273 | loss: 6.7633 | lr: 2.2909e-04 | Ts/s: 47644.50579730439\n",
      "step  274 | loss: 6.7339 | lr: 2.2993e-04 | Ts/s: 47891.41816100903\n",
      "step  275 | loss: 6.7995 | lr: 2.3077e-04 | Ts/s: 47841.60821709548\n",
      "step  276 | loss: 6.8768 | lr: 2.3161e-04 | Ts/s: 47908.66416636483\n",
      "step  277 | loss: 6.7424 | lr: 2.3245e-04 | Ts/s: 47864.688404217304\n",
      "step  278 | loss: 6.8893 | lr: 2.3329e-04 | Ts/s: 47941.28907927515\n",
      "step  279 | loss: 6.8409 | lr: 2.3413e-04 | Ts/s: 47719.77938878011\n",
      "step  280 | loss: 6.8881 | lr: 2.3497e-04 | Ts/s: 46598.15169722702\n",
      "step  281 | loss: 6.8583 | lr: 2.3580e-04 | Ts/s: 47859.03709445309\n",
      "step  282 | loss: 6.8577 | lr: 2.3664e-04 | Ts/s: 47524.440585590004\n",
      "step  283 | loss: 6.8719 | lr: 2.3748e-04 | Ts/s: 46555.31381902284\n",
      "step  284 | loss: 6.9089 | lr: 2.3832e-04 | Ts/s: 46332.359624221775\n",
      "step  285 | loss: 6.8614 | lr: 2.3916e-04 | Ts/s: 46542.05905843341\n",
      "step  286 | loss: 6.8675 | lr: 2.4000e-04 | Ts/s: 46288.56770039796\n",
      "step  287 | loss: 6.8257 | lr: 2.4084e-04 | Ts/s: 47712.714942845916\n",
      "step  288 | loss: 6.8011 | lr: 2.4168e-04 | Ts/s: 46986.73967786069\n",
      "step  289 | loss: 6.8376 | lr: 2.4252e-04 | Ts/s: 46212.619672439\n",
      "step  290 | loss: 6.7404 | lr: 2.4336e-04 | Ts/s: 47452.313638393025\n",
      "step  291 | loss: 6.7777 | lr: 2.4420e-04 | Ts/s: 47814.14491724816\n",
      "step  292 | loss: 6.6934 | lr: 2.4503e-04 | Ts/s: 47055.41911142376\n",
      "step  293 | loss: 6.7426 | lr: 2.4587e-04 | Ts/s: 47746.01990547213\n",
      "step  294 | loss: 6.8446 | lr: 2.4671e-04 | Ts/s: 47846.691152396146\n",
      "step  295 | loss: 6.7783 | lr: 2.4755e-04 | Ts/s: 47754.95049644753\n",
      "step  296 | loss: 6.7495 | lr: 2.4839e-04 | Ts/s: 47815.47361404162\n",
      "step  297 | loss: 6.7763 | lr: 2.4923e-04 | Ts/s: 46398.631888921285\n",
      "step  298 | loss: 6.7083 | lr: 2.5007e-04 | Ts/s: 46719.54315934011\n",
      "step  299 | loss: 6.7652 | lr: 2.5091e-04 | Ts/s: 45150.77871338437\n",
      "step  300 | loss: 6.8394 | lr: 2.5175e-04 | Ts/s: 45475.06590768709\n",
      "step  301 | loss: 6.6838 | lr: 2.5259e-04 | Ts/s: 46386.93878176446\n",
      "step  302 | loss: 6.6754 | lr: 2.5343e-04 | Ts/s: 47205.532961295845\n",
      "step  303 | loss: 6.6856 | lr: 2.5427e-04 | Ts/s: 46761.98487645365\n",
      "step  304 | loss: 6.6888 | lr: 2.5510e-04 | Ts/s: 45915.85130286886\n",
      "step  305 | loss: 6.6537 | lr: 2.5594e-04 | Ts/s: 46122.07445525823\n",
      "step  306 | loss: 6.6400 | lr: 2.5678e-04 | Ts/s: 46612.859212551586\n",
      "step  307 | loss: 6.6225 | lr: 2.5762e-04 | Ts/s: 46772.47703338269\n",
      "step  308 | loss: 6.6269 | lr: 2.5846e-04 | Ts/s: 46718.55456640785\n",
      "step  309 | loss: 6.6512 | lr: 2.5930e-04 | Ts/s: 46892.69364653369\n",
      "step  310 | loss: 6.6084 | lr: 2.6014e-04 | Ts/s: 46200.92499517774\n",
      "step  311 | loss: 6.5893 | lr: 2.6098e-04 | Ts/s: 45777.90907525063\n",
      "step  312 | loss: 6.5832 | lr: 2.6182e-04 | Ts/s: 46120.72889763018\n",
      "step  313 | loss: 6.6249 | lr: 2.6266e-04 | Ts/s: 46478.541715180814\n",
      "step  314 | loss: 6.5696 | lr: 2.6350e-04 | Ts/s: 46585.5554602905\n",
      "step  315 | loss: 6.5569 | lr: 2.6434e-04 | Ts/s: 46479.78641151288\n",
      "step  316 | loss: 6.5961 | lr: 2.6517e-04 | Ts/s: 46702.90146728601\n",
      "step  317 | loss: 6.5727 | lr: 2.6601e-04 | Ts/s: 46597.89299126363\n",
      "step  318 | loss: 6.6101 | lr: 2.6685e-04 | Ts/s: 46513.59945864581\n",
      "step  319 | loss: 6.5514 | lr: 2.6769e-04 | Ts/s: 46735.863965091674\n",
      "step  320 | loss: 6.5022 | lr: 2.6853e-04 | Ts/s: 46866.82708248221\n",
      "step  321 | loss: 6.5359 | lr: 2.6937e-04 | Ts/s: 46421.60852892091\n",
      "step  322 | loss: 6.4959 | lr: 2.7021e-04 | Ts/s: 46632.308318789255\n",
      "step  323 | loss: 6.5297 | lr: 2.7105e-04 | Ts/s: 46723.83846598868\n",
      "step  324 | loss: 6.6350 | lr: 2.7189e-04 | Ts/s: 46013.523889774355\n",
      "step  325 | loss: 6.6964 | lr: 2.7273e-04 | Ts/s: 45958.00977781324\n",
      "step  326 | loss: 6.6835 | lr: 2.7357e-04 | Ts/s: 46685.53024259426\n",
      "step  327 | loss: 6.7015 | lr: 2.7441e-04 | Ts/s: 46650.89185001415\n",
      "step  328 | loss: 6.6951 | lr: 2.7524e-04 | Ts/s: 46775.96319393875\n",
      "step  329 | loss: 6.6861 | lr: 2.7608e-04 | Ts/s: 46797.02053931219\n",
      "step  330 | loss: 6.6865 | lr: 2.7692e-04 | Ts/s: 46926.54254657005\n",
      "step  331 | loss: 6.6527 | lr: 2.7776e-04 | Ts/s: 46797.763476857865\n",
      "step  332 | loss: 6.6719 | lr: 2.7860e-04 | Ts/s: 46882.70022463164\n",
      "step  333 | loss: 6.6342 | lr: 2.7944e-04 | Ts/s: 46917.968129787\n",
      "step  334 | loss: 6.7223 | lr: 2.8028e-04 | Ts/s: 47229.98844353039\n",
      "step  335 | loss: 6.6456 | lr: 2.8112e-04 | Ts/s: 44694.92601801729\n",
      "step  336 | loss: 6.5569 | lr: 2.8196e-04 | Ts/s: 45323.72713145867\n",
      "step  337 | loss: 6.6215 | lr: 2.8280e-04 | Ts/s: 44782.57932408753\n",
      "step  338 | loss: 6.6147 | lr: 2.8364e-04 | Ts/s: 44686.49747140907\n",
      "step  339 | loss: 6.5996 | lr: 2.8448e-04 | Ts/s: 44319.77464654749\n",
      "step  340 | loss: 6.5853 | lr: 2.8531e-04 | Ts/s: 44611.58701703345\n",
      "step  341 | loss: 6.5991 | lr: 2.8615e-04 | Ts/s: 44500.84463798319\n",
      "step  342 | loss: 6.5959 | lr: 2.8699e-04 | Ts/s: 44647.91301338491\n",
      "step  343 | loss: 6.5134 | lr: 2.8783e-04 | Ts/s: 46489.250051805684\n",
      "step  344 | loss: 6.5729 | lr: 2.8867e-04 | Ts/s: 46613.642754318666\n",
      "step  345 | loss: 6.5107 | lr: 2.8951e-04 | Ts/s: 46545.25578796517\n",
      "step  346 | loss: 6.5286 | lr: 2.9035e-04 | Ts/s: 46378.74038638882\n",
      "step  347 | loss: 6.5608 | lr: 2.9119e-04 | Ts/s: 45555.328299153356\n",
      "step  348 | loss: 6.4580 | lr: 2.9203e-04 | Ts/s: 46530.75039726345\n",
      "step  349 | loss: 6.4809 | lr: 2.9287e-04 | Ts/s: 46812.89027204367\n",
      "step  350 | loss: 6.4856 | lr: 2.9371e-04 | Ts/s: 45839.04112060366\n",
      "step  351 | loss: 6.4972 | lr: 2.9455e-04 | Ts/s: 46171.06320949072\n",
      "step  352 | loss: 6.4481 | lr: 2.9538e-04 | Ts/s: 46244.57061680499\n",
      "step  353 | loss: 6.4587 | lr: 2.9622e-04 | Ts/s: 46289.62587520201\n",
      "step  354 | loss: 6.4960 | lr: 2.9706e-04 | Ts/s: 46428.56536262121\n",
      "step  355 | loss: 6.4817 | lr: 2.9790e-04 | Ts/s: 45615.55845303367\n",
      "step  356 | loss: 6.4158 | lr: 2.9874e-04 | Ts/s: 46309.31226306477\n",
      "step  357 | loss: 6.4307 | lr: 2.9958e-04 | Ts/s: 46588.12351319464\n",
      "step  358 | loss: 6.4397 | lr: 3.0042e-04 | Ts/s: 46710.38638006661\n",
      "step  359 | loss: 6.3955 | lr: 3.0126e-04 | Ts/s: 46598.80439946548\n",
      "step  360 | loss: 6.4072 | lr: 3.0210e-04 | Ts/s: 46693.69866074163\n",
      "step  361 | loss: 6.4376 | lr: 3.0294e-04 | Ts/s: 46820.042640322696\n",
      "step  362 | loss: 6.4549 | lr: 3.0378e-04 | Ts/s: 46069.79190756943\n",
      "step  363 | loss: 6.3626 | lr: 3.0462e-04 | Ts/s: 46412.54660231565\n",
      "step  364 | loss: 6.4344 | lr: 3.0545e-04 | Ts/s: 46213.64135668198\n",
      "step  365 | loss: 6.3464 | lr: 3.0629e-04 | Ts/s: 46593.20814559319\n",
      "step  366 | loss: 6.3461 | lr: 3.0713e-04 | Ts/s: 46324.093657352794\n",
      "step  367 | loss: 6.4230 | lr: 3.0797e-04 | Ts/s: 46460.92467443258\n",
      "step  368 | loss: 6.4266 | lr: 3.0881e-04 | Ts/s: 46856.947519537905\n",
      "step  369 | loss: 6.3424 | lr: 3.0965e-04 | Ts/s: 46251.165138490906\n",
      "step  370 | loss: 6.3789 | lr: 3.1049e-04 | Ts/s: 46790.8538732406\n",
      "step  371 | loss: 6.4736 | lr: 3.1133e-04 | Ts/s: 46552.99773158681\n",
      "step  372 | loss: 6.5543 | lr: 3.1217e-04 | Ts/s: 46377.09616462307\n",
      "step  373 | loss: 6.4782 | lr: 3.1301e-04 | Ts/s: 47001.748804620736\n",
      "step  374 | loss: 6.5291 | lr: 3.1385e-04 | Ts/s: 46903.8888170751\n",
      "step  375 | loss: 6.5123 | lr: 3.1469e-04 | Ts/s: 46643.12720793163\n",
      "step  376 | loss: 6.5293 | lr: 3.1552e-04 | Ts/s: 45825.55692314835\n",
      "step  377 | loss: 6.5234 | lr: 3.1636e-04 | Ts/s: 46630.67276708448\n",
      "step  378 | loss: 6.5573 | lr: 3.1720e-04 | Ts/s: 47286.2598301966\n",
      "step  379 | loss: 6.4292 | lr: 3.1804e-04 | Ts/s: 46779.22895610032\n",
      "step  380 | loss: 6.4773 | lr: 3.1888e-04 | Ts/s: 46565.52509108821\n",
      "hello!\n",
      "Excess 0\n",
      "step  381 | loss: 6.4573 | lr: 3.1972e-04 | Ts/s: 46133.43695488802\n",
      "step  382 | loss: 6.4497 | lr: 3.2056e-04 | Ts/s: 46885.82496062773\n",
      "step  383 | loss: 6.4099 | lr: 3.2140e-04 | Ts/s: 46386.5102019606\n",
      "step  384 | loss: 6.3848 | lr: 3.2224e-04 | Ts/s: 46202.047116723355\n",
      "step  385 | loss: 6.4813 | lr: 3.2308e-04 | Ts/s: 46399.969234803604\n",
      "step  386 | loss: 6.4740 | lr: 3.2392e-04 | Ts/s: 46150.78516266479\n",
      "step  387 | loss: 6.4622 | lr: 3.2476e-04 | Ts/s: 47528.88414841374\n",
      "step  388 | loss: 6.3753 | lr: 3.2559e-04 | Ts/s: 46880.4943678553\n",
      "step  389 | loss: 6.3806 | lr: 3.2643e-04 | Ts/s: 46600.182935083285\n",
      "step  390 | loss: 6.4176 | lr: 3.2727e-04 | Ts/s: 46947.414979739064\n",
      "step  391 | loss: 6.4255 | lr: 3.2811e-04 | Ts/s: 46509.397803404885\n",
      "step  392 | loss: 6.3500 | lr: 3.2895e-04 | Ts/s: 46077.83991449518\n",
      "step  393 | loss: 6.4167 | lr: 3.2979e-04 | Ts/s: 46848.59713054845\n",
      "step  394 | loss: 6.3131 | lr: 3.3063e-04 | Ts/s: 45408.82232157634\n",
      "step  395 | loss: 6.2892 | lr: 3.3147e-04 | Ts/s: 46730.799790391524\n",
      "step  396 | loss: 6.3068 | lr: 3.3231e-04 | Ts/s: 47152.08099728406\n",
      "step  397 | loss: 6.3171 | lr: 3.3315e-04 | Ts/s: 47249.600725801196\n",
      "step  398 | loss: 6.3130 | lr: 3.3399e-04 | Ts/s: 46867.65714346121\n",
      "step  399 | loss: 6.3229 | lr: 3.3483e-04 | Ts/s: 46945.728185699365\n",
      "step  400 | loss: 6.2959 | lr: 3.3566e-04 | Ts/s: 47524.01845952534\n",
      "step  401 | loss: 6.3008 | lr: 3.3650e-04 | Ts/s: 47440.538919513136\n",
      "step  402 | loss: 6.3106 | lr: 3.3734e-04 | Ts/s: 47773.01578217786\n",
      "step  403 | loss: 6.3048 | lr: 3.3818e-04 | Ts/s: 46992.12358263563\n",
      "step  404 | loss: 6.2961 | lr: 3.3902e-04 | Ts/s: 46962.538397491546\n",
      "step  405 | loss: 6.2721 | lr: 3.3986e-04 | Ts/s: 46869.725931206245\n",
      "step  406 | loss: 6.2289 | lr: 3.4070e-04 | Ts/s: 47282.07602438792\n",
      "step  407 | loss: 6.1972 | lr: 3.4154e-04 | Ts/s: 46777.229841583\n",
      "step  408 | loss: 6.2357 | lr: 3.4238e-04 | Ts/s: 46650.89877769998\n",
      "step  409 | loss: 6.2405 | lr: 3.4322e-04 | Ts/s: 47643.38890085438\n",
      "step  410 | loss: 6.2210 | lr: 3.4406e-04 | Ts/s: 47599.35145978567\n",
      "step  411 | loss: 6.2974 | lr: 3.4490e-04 | Ts/s: 47581.5181479487\n",
      "step  412 | loss: 6.2444 | lr: 3.4573e-04 | Ts/s: 47057.70892994149\n",
      "step  413 | loss: 6.2472 | lr: 3.4657e-04 | Ts/s: 47046.49155199215\n",
      "step  414 | loss: 6.2447 | lr: 3.4741e-04 | Ts/s: 47494.735473794826\n",
      "step  415 | loss: 6.2567 | lr: 3.4825e-04 | Ts/s: 46646.75243084496\n",
      "step  416 | loss: 6.2927 | lr: 3.4909e-04 | Ts/s: 47070.42782204031\n",
      "step  417 | loss: 6.4134 | lr: 3.4993e-04 | Ts/s: 46700.974329431854\n",
      "step  418 | loss: 6.3728 | lr: 3.5077e-04 | Ts/s: 47133.99825831108\n",
      "step  419 | loss: 6.4275 | lr: 3.5161e-04 | Ts/s: 46567.621528972704\n",
      "step  420 | loss: 6.3397 | lr: 3.5245e-04 | Ts/s: 45892.90411487622\n",
      "step  421 | loss: 6.3881 | lr: 3.5329e-04 | Ts/s: 47258.72437118677\n",
      "step  422 | loss: 6.3783 | lr: 3.5413e-04 | Ts/s: 47343.07316272497\n",
      "step  423 | loss: 6.3983 | lr: 3.5497e-04 | Ts/s: 45956.990721091206\n",
      "step  424 | loss: 6.3482 | lr: 3.5580e-04 | Ts/s: 46474.83651031308\n",
      "step  425 | loss: 6.3557 | lr: 3.5664e-04 | Ts/s: 47520.08000472991\n",
      "step  426 | loss: 6.3015 | lr: 3.5748e-04 | Ts/s: 47966.19497757588\n",
      "step  427 | loss: 6.3225 | lr: 3.5832e-04 | Ts/s: 46911.70850213139\n",
      "step  428 | loss: 6.2780 | lr: 3.5916e-04 | Ts/s: 47150.69994574618\n",
      "step  429 | loss: 6.3676 | lr: 3.6000e-04 | Ts/s: 46458.48251831636\n",
      "step  430 | loss: 6.3340 | lr: 3.6084e-04 | Ts/s: 47510.15306624239\n",
      "step  431 | loss: 6.2798 | lr: 3.6168e-04 | Ts/s: 47424.6816687385\n",
      "step  432 | loss: 6.3780 | lr: 3.6252e-04 | Ts/s: 46373.77482060983\n",
      "step  433 | loss: 6.3449 | lr: 3.6336e-04 | Ts/s: 46569.18362610936\n",
      "step  434 | loss: 6.2672 | lr: 3.6420e-04 | Ts/s: 46719.226527129984\n",
      "step  435 | loss: 6.2695 | lr: 3.6503e-04 | Ts/s: 47561.008093072036\n",
      "step  436 | loss: 6.2497 | lr: 3.6587e-04 | Ts/s: 46511.85220191421\n",
      "step  437 | loss: 6.3310 | lr: 3.6671e-04 | Ts/s: 47482.39937518228\n",
      "step  438 | loss: 6.3568 | lr: 3.6755e-04 | Ts/s: 46757.5224871643\n",
      "step  439 | loss: 6.3111 | lr: 3.6839e-04 | Ts/s: 46212.199163435645\n",
      "step  440 | loss: 6.1601 | lr: 3.6923e-04 | Ts/s: 47324.39044994001\n",
      "step  441 | loss: 6.2123 | lr: 3.7007e-04 | Ts/s: 47771.05535989809\n",
      "step  442 | loss: 6.2074 | lr: 3.7091e-04 | Ts/s: 47789.0082086696\n",
      "step  443 | loss: 6.1916 | lr: 3.7175e-04 | Ts/s: 47355.671454692914\n",
      "step  444 | loss: 6.2197 | lr: 3.7259e-04 | Ts/s: 47044.535954780906\n",
      "step  445 | loss: 6.1955 | lr: 3.7343e-04 | Ts/s: 47757.98099964802\n",
      "step  446 | loss: 6.1959 | lr: 3.7427e-04 | Ts/s: 47319.047239704094\n",
      "step  447 | loss: 6.2048 | lr: 3.7510e-04 | Ts/s: 46085.11324394606\n",
      "step  448 | loss: 6.2567 | lr: 3.7594e-04 | Ts/s: 47799.4904865565\n",
      "step  449 | loss: 6.1952 | lr: 3.7678e-04 | Ts/s: 47841.436480004006\n",
      "step  450 | loss: 6.1966 | lr: 3.7762e-04 | Ts/s: 46597.85053216238\n",
      "step  451 | loss: 6.1763 | lr: 3.7846e-04 | Ts/s: 47195.003648334794\n",
      "step  452 | loss: 6.2017 | lr: 3.7930e-04 | Ts/s: 47065.21231530551\n",
      "step  453 | loss: 6.1431 | lr: 3.8014e-04 | Ts/s: 46134.18897576575\n",
      "step  454 | loss: 6.1526 | lr: 3.8098e-04 | Ts/s: 46090.02684096323\n",
      "step  455 | loss: 6.0864 | lr: 3.8182e-04 | Ts/s: 46213.3684499101\n",
      "step  456 | loss: 6.1721 | lr: 3.8266e-04 | Ts/s: 46495.866374111596\n",
      "step  457 | loss: 6.1192 | lr: 3.8350e-04 | Ts/s: 46918.24942185977\n",
      "step  458 | loss: 6.1392 | lr: 3.8434e-04 | Ts/s: 45667.31432060537\n",
      "step  459 | loss: 6.1746 | lr: 3.8517e-04 | Ts/s: 47067.50308706259\n",
      "step  460 | loss: 6.1296 | lr: 3.8601e-04 | Ts/s: 45852.82103947893\n",
      "step  461 | loss: 6.1164 | lr: 3.8685e-04 | Ts/s: 45828.18035146821\n",
      "step  462 | loss: 6.0498 | lr: 3.8769e-04 | Ts/s: 46679.33941540933\n",
      "step  463 | loss: 6.1966 | lr: 3.8853e-04 | Ts/s: 47706.50331369035\n",
      "step  464 | loss: 6.1959 | lr: 3.8937e-04 | Ts/s: 46950.00704567184\n",
      "step  465 | loss: 6.2741 | lr: 3.9021e-04 | Ts/s: 47464.69352803192\n",
      "step  466 | loss: 6.3089 | lr: 3.9105e-04 | Ts/s: 47535.428771561325\n",
      "step  467 | loss: 6.2597 | lr: 3.9189e-04 | Ts/s: 47727.7295208968\n",
      "step  468 | loss: 6.2451 | lr: 3.9273e-04 | Ts/s: 47792.154175033014\n",
      "step  469 | loss: 6.2998 | lr: 3.9357e-04 | Ts/s: 47443.15399511684\n",
      "step  470 | loss: 6.2253 | lr: 3.9441e-04 | Ts/s: 47103.15764216981\n",
      "step  471 | loss: 6.2090 | lr: 3.9524e-04 | Ts/s: 46766.27108332102\n",
      "step  472 | loss: 6.2874 | lr: 3.9608e-04 | Ts/s: 46450.7297852533\n",
      "step  473 | loss: 6.2481 | lr: 3.9692e-04 | Ts/s: 46583.81463540786\n",
      "step  474 | loss: 6.2602 | lr: 3.9776e-04 | Ts/s: 46663.93141718134\n",
      "step  475 | loss: 6.2358 | lr: 3.9860e-04 | Ts/s: 47510.537992753496\n",
      "step  476 | loss: 6.1320 | lr: 3.9944e-04 | Ts/s: 47036.77857626803\n",
      "step  477 | loss: 6.1944 | lr: 4.0028e-04 | Ts/s: 47191.737304596565\n",
      "step  478 | loss: 6.1607 | lr: 4.0112e-04 | Ts/s: 46688.61883748862\n",
      "step  479 | loss: 6.2502 | lr: 4.0196e-04 | Ts/s: 47173.9864313261\n",
      "step  480 | loss: 6.1798 | lr: 4.0280e-04 | Ts/s: 46070.74068673799\n",
      "step  481 | loss: 6.2350 | lr: 4.0364e-04 | Ts/s: 45715.26050213327\n",
      "step  482 | loss: 6.1648 | lr: 4.0448e-04 | Ts/s: 46256.16188669296\n",
      "step  483 | loss: 6.2216 | lr: 4.0531e-04 | Ts/s: 46266.38153535184\n",
      "step  484 | loss: 6.1631 | lr: 4.0615e-04 | Ts/s: 47609.69503167018\n",
      "step  485 | loss: 6.1797 | lr: 4.0699e-04 | Ts/s: 46938.99825236794\n",
      "step  486 | loss: 6.1507 | lr: 4.0783e-04 | Ts/s: 45781.34195315338\n",
      "step  487 | loss: 6.1431 | lr: 4.0867e-04 | Ts/s: 47516.097026973664\n",
      "step  488 | loss: 6.1226 | lr: 4.0951e-04 | Ts/s: 46905.94279536284\n",
      "step  489 | loss: 6.0858 | lr: 4.1035e-04 | Ts/s: 45392.675738073696\n",
      "step  490 | loss: 6.1199 | lr: 4.1119e-04 | Ts/s: 46831.66391721493\n",
      "step  491 | loss: 6.1021 | lr: 4.1203e-04 | Ts/s: 47678.446418741514\n",
      "step  492 | loss: 6.1053 | lr: 4.1287e-04 | Ts/s: 47154.98086216363\n",
      "step  493 | loss: 6.1318 | lr: 4.1371e-04 | Ts/s: 45756.67518227048\n",
      "step  494 | loss: 6.1341 | lr: 4.1455e-04 | Ts/s: 46443.1434446682\n",
      "step  495 | loss: 6.0775 | lr: 4.1538e-04 | Ts/s: 47373.67059020205\n",
      "step  496 | loss: 6.0987 | lr: 4.1622e-04 | Ts/s: 47555.15264690067\n",
      "step  497 | loss: 6.0862 | lr: 4.1706e-04 | Ts/s: 47584.463868269595\n",
      "step  498 | loss: 6.0564 | lr: 4.1790e-04 | Ts/s: 47603.129944173525\n",
      "step  499 | loss: 6.0418 | lr: 4.1874e-04 | Ts/s: 47580.77791416687\n",
      "step  500 | loss: 6.0825 | lr: 4.1958e-04 | Ts/s: 46729.630985000476\n",
      "step  501 | loss: 6.0569 | lr: 4.2042e-04 | Ts/s: 47488.46560887786\n",
      "step  502 | loss: 6.0354 | lr: 4.2126e-04 | Ts/s: 47348.46359955793\n",
      "step  503 | loss: 6.0051 | lr: 4.2210e-04 | Ts/s: 46959.08453927464\n",
      "step  504 | loss: 6.0468 | lr: 4.2294e-04 | Ts/s: 47784.94264252979\n",
      "step  505 | loss: 6.0181 | lr: 4.2378e-04 | Ts/s: 47788.456746503696\n",
      "step  506 | loss: 6.0186 | lr: 4.2462e-04 | Ts/s: 47753.52457137159\n",
      "step  507 | loss: 6.0772 | lr: 4.2545e-04 | Ts/s: 47779.20737266873\n",
      "step  508 | loss: 5.9660 | lr: 4.2629e-04 | Ts/s: 47779.390082698315\n",
      "step  509 | loss: 6.0304 | lr: 4.2713e-04 | Ts/s: 47805.23478419926\n",
      "step  510 | loss: 6.1174 | lr: 4.2797e-04 | Ts/s: 47785.24273347125\n",
      "step  511 | loss: 6.1734 | lr: 4.2881e-04 | Ts/s: 47795.783612105435\n",
      "step  512 | loss: 6.1752 | lr: 4.2965e-04 | Ts/s: 47826.85685486129\n",
      "step  513 | loss: 6.1468 | lr: 4.3049e-04 | Ts/s: 47719.46769316616\n",
      "step  514 | loss: 6.1856 | lr: 4.3133e-04 | Ts/s: 47810.31622987183\n",
      "step  515 | loss: 6.1417 | lr: 4.3217e-04 | Ts/s: 47779.65169267349\n",
      "step  516 | loss: 6.2589 | lr: 4.3301e-04 | Ts/s: 47761.218317195686\n",
      "step  517 | loss: 6.2540 | lr: 4.3385e-04 | Ts/s: 47599.794501630335\n",
      "step  518 | loss: 6.1649 | lr: 4.3469e-04 | Ts/s: 47797.852035325785\n",
      "step  519 | loss: 6.1648 | lr: 4.3552e-04 | Ts/s: 47775.7330336783\n",
      "step  520 | loss: 6.1650 | lr: 4.3636e-04 | Ts/s: 47739.223365339116\n",
      "step  521 | loss: 6.1377 | lr: 4.3720e-04 | Ts/s: 47764.605471289724\n",
      "step  522 | loss: 6.1568 | lr: 4.3804e-04 | Ts/s: 47821.552459764374\n",
      "step  523 | loss: 6.0905 | lr: 4.3888e-04 | Ts/s: 47538.790141116944\n",
      "step  524 | loss: 6.0784 | lr: 4.3972e-04 | Ts/s: 47788.67795296244\n",
      "step  525 | loss: 6.0487 | lr: 4.4056e-04 | Ts/s: 47693.5232197659\n",
      "step  526 | loss: 6.1049 | lr: 4.4140e-04 | Ts/s: 47474.82798657066\n",
      "step  527 | loss: 6.0887 | lr: 4.4224e-04 | Ts/s: 46010.614458081145\n"
     ]
    },
    {
     "ename": "KeyboardInterrupt",
     "evalue": "",
     "output_type": "error",
     "traceback": [
      "\u001b[0;31m---------------------------------------------------------------------------\u001b[0m",
      "\u001b[0;31mKeyboardInterrupt\u001b[0m                         Traceback (most recent call last)",
      "Cell \u001b[0;32mIn[14], line 3\u001b[0m\n\u001b[1;32m      1\u001b[0m \u001b[38;5;28;01mimport\u001b[39;00m\u001b[38;5;250m \u001b[39m\u001b[38;5;21;01mtorch\u001b[39;00m\u001b[38;5;21;01m.\u001b[39;00m\u001b[38;5;21;01m_dynamo\u001b[39;00m\n\u001b[1;32m      2\u001b[0m torch\u001b[38;5;241m.\u001b[39m_dynamo\u001b[38;5;241m.\u001b[39mconfig\u001b[38;5;241m.\u001b[39msuppress_errors \u001b[38;5;241m=\u001b[39m \u001b[38;5;28;01mTrue\u001b[39;00m\n\u001b[0;32m----> 3\u001b[0m \u001b[43mtrain\u001b[49m\u001b[43m(\u001b[49m\u001b[43mTrainingConfig\u001b[49m\u001b[43m(\u001b[49m\u001b[43m)\u001b[49m\u001b[43m)\u001b[49m\n",
      "Cell \u001b[0;32mIn[13], line 28\u001b[0m, in \u001b[0;36mtrain\u001b[0;34m(config)\u001b[0m\n\u001b[1;32m     26\u001b[0m         loss \u001b[38;5;241m=\u001b[39m F\u001b[38;5;241m.\u001b[39mcross_entropy(logits\u001b[38;5;241m.\u001b[39mview(\u001b[38;5;241m-\u001b[39m\u001b[38;5;241m1\u001b[39m, logits\u001b[38;5;241m.\u001b[39msize(\u001b[38;5;241m-\u001b[39m\u001b[38;5;241m1\u001b[39m)), y\u001b[38;5;241m.\u001b[39mview(\u001b[38;5;241m-\u001b[39m\u001b[38;5;241m1\u001b[39m))\u001b[38;5;241m/\u001b[39mn_micro_steps\n\u001b[1;32m     27\u001b[0m         loss\u001b[38;5;241m.\u001b[39mbackward()\n\u001b[0;32m---> 28\u001b[0m     running_loss \u001b[38;5;241m+\u001b[39m\u001b[38;5;241m=\u001b[39m \u001b[43mloss\u001b[49m\u001b[38;5;241;43m.\u001b[39;49m\u001b[43mitem\u001b[49m\u001b[43m(\u001b[49m\u001b[43m)\u001b[49m\n\u001b[1;32m     29\u001b[0m nn\u001b[38;5;241m.\u001b[39mutils\u001b[38;5;241m.\u001b[39mclip_grad_norm_(model\u001b[38;5;241m.\u001b[39mparameters(), config\u001b[38;5;241m.\u001b[39mclip_norm)\n\u001b[1;32m     30\u001b[0m optimizer\u001b[38;5;241m.\u001b[39mstep()\n",
      "\u001b[0;31mKeyboardInterrupt\u001b[0m: "
     ]
    }
   ],
   "source": [
    "import torch._dynamo\n",
    "torch._dynamo.config.suppress_errors = True\n",
    "train(TrainingConfig())"
   ]
  },
  {
   "cell_type": "markdown",
   "metadata": {},
   "source": [
    "You will run into two problems:\n",
    "\n",
    "**Memory issues.** As mentioned above, the training has been set up for an A100 GPU with 80GB of memory. If you are using a less powerful GPU, you will see an out-of-memory error. To fix this, reduce the batch size to lower the memory load on the GPU. Start by halving the batch size and keep adjusting it until you find the largest batch size that fits on your GPU. (You may have to restart the Jupyter kernel to reset the GPU.)\n",
    "\n",
    "**High losses.** The training losses start at very high values. Recall that the model’s goal is to predict the next token. At the start, the model’s weights are random, so we expect it to output a uniform distribution over the vocabulary. This means each token should have a probability of $1/V$, where $V$ is the vocabulary size. Given this, what should the initial loss be? Think about the cross-entropy loss for a uniform distribution.\n",
    "\n",
    "#### solution for the task 3.07:\n",
    "When we tested with different batch sizes (just for testing):\n",
    "- 8 - ~ 700\n",
    "- 12 - ~500\n",
    "- 16 - ~350\n",
    "\n",
    "To calculate cross entropy loss we first need to look at the formula: sum(ln(1/q(x)) * p(x)). Since we know that q(x) is uniformly distributed, and that p(x) = 1 when summed over the vocabulary. We get that the loss should be ln(1/vocab_size) * 1 = (ln(1) - ln(1/50304)) * 1 = 0 - ln(1/50304) = 10,82... Which is the answer we get after fixing the gradient accumulation.\n",
    "\n",
    "(You will fix the problem with the high losses in the next task.)"
   ]
  },
  {
   "cell_type": "markdown",
   "metadata": {},
   "source": [
    "#### 🎓 Task 3.08: Fixing the gradient accumulation\n",
    "\n",
    "The gradient accumulation in the `train()` function is not implemented correctly. To see this, consider the following example. We set up a linear layer and pass in some random input of shape $[2, 3]$. First, we compute the loss and gradients in the normal way. Then, we do the same thing using gradient accumulation over two singleton batches, in the way this is implemented in `train()`. As you will see, the two outputs are different."
   ]
  },
  {
   "cell_type": "code",
   "execution_count": 15,
   "metadata": {},
   "outputs": [
    {
     "name": "stdout",
     "output_type": "stream",
     "text": [
      "tensor([[-0.0380, -0.3504, -0.4026],\n",
      "        [ 0.0380,  0.3504,  0.4026]])\n",
      "tensor([[-0.0380, -0.3504, -0.4026],\n",
      "        [ 0.0380,  0.3504,  0.4026]])\n"
     ]
    }
   ],
   "source": [
    "def accumulation_example():\n",
    "    # Set up a simple model and simulate some input\n",
    "    model = nn.Linear(3, 2)\n",
    "    x = torch.randn(2, 3)\n",
    "    y = torch.randint(0, 2, (2,))\n",
    "\n",
    "    # Compute the gradient on the complete input\n",
    "    model.zero_grad()\n",
    "    output = model(x)\n",
    "    loss = F.cross_entropy(output, y)\n",
    "    loss.backward()\n",
    "    print(model.weight.grad)\n",
    "\n",
    "    # Compute the gradient using micro-batches (flawed)\n",
    "    model.zero_grad()\n",
    "    for i in range(2):\n",
    "        output = model(x[i : i + 1])\n",
    "        loss = F.cross_entropy(output, y[i : i + 1])/2# /2 devided by the microbatch size while calculating the loss before backpropagation.\n",
    "        loss.backward()\n",
    "    print(model.weight.grad)\n",
    "\n",
    "\n",
    "accumulation_example()"
   ]
  },
  {
   "cell_type": "markdown",
   "metadata": {},
   "source": [
    "Your task is to fix the flawed implementation of gradient accumulation in the training loop.\n",
    "\n",
    "1. Propose a fix for the problem illustrated in the example.\n",
    "2. Validate your proposal by modifying the example.\n",
    "3. Once you are convinced that your fix is correct, apply it to the training loop.\n",
    "4. How does the fix affect the loss?\n",
    "\n",
    "### SOLUTION TO TASK 3.08 :\n",
    "Fix is to devide the loss by the number of micro_steps in a minibatch before backpropagation when calculating the cross entropy loss. The fix seem to make the loss equivalent with the one obtained by the gradient descent on the complete input."
   ]
  },
  {
   "cell_type": "markdown",
   "metadata": {},
   "source": [
    "## Part 2: Efficiency optimisations"
   ]
  },
  {
   "cell_type": "markdown",
   "metadata": {},
   "source": [
    "Training large language models from scratch is a computationally intensive task. Efficient training not only speeds up model convergence but also reduces hardware costs and energy consumption. As models grow in size, optimising the training process becomes increasingly important to ensure that resources are used effectively. In the second part of this lab, we will look into a few such optimisation techniques."
   ]
  },
  {
   "cell_type": "markdown",
   "metadata": {},
   "source": [
    "#### 🎓 Task 3.09: Profiling the training loop\n",
    "\n",
    "Before we explore optimisations, we first need a way to measure training speed. We will define training speed as the **number of tokens processed per second**. Your task is to implement this measurement in the training loop.\n",
    "\n",
    "**Step&nbsp;1.** Keep track of the number of tokens processed in each optimisation step.\n",
    "\n",
    "**Step&nbsp;2.** Add a timer to measure the time taken per step. For accurate results, call `torch.cuda.synchronize()` before stopping the timer. This ensures all GPU computations finish before recording the time.\n",
    "\n",
    "Once you have added this measurement, train the model for a few steps and answer the following questions:\n",
    "\n",
    "* Based on your measured training speed, how long would it take to train on all data (300M tokens)?\n",
    "* How much data and time would be required to train a Chinchilla-optimal version of the model?\n",
    "\n",
    "#### solution for task 3.09 :\n",
    "Based on the numbers we got, it would take more than 6 hours to process all 300M tokens.\n",
    "\n",
    "A chinchilla optimal model would require ~20 tokens/parameter to train on. This means that the total amount of training data would be equal to 2.5 Billion tokens (with the model having ~125M parameters). Meaning that for us, it would take 50 hours to train."
   ]
  },
  {
   "cell_type": "markdown",
   "metadata": {},
   "source": [
    "###### FEEDBACK:To print the total time taken for the training, I think that you wanted to use the variable “totalStartTime” instead of “startTime”. I don’t see your answers to the final questions\n",
    "###### SOLUTION:this has been updated"
   ]
  },
  {
   "cell_type": "markdown",
   "metadata": {},
   "source": [
    "### Floating-point representations"
   ]
  },
  {
   "cell_type": "markdown",
   "metadata": {},
   "source": [
    "One of the optimisations we can make when training large language models is choosing an appropriate floating-point representation. A floating-point number is represented using three components: a **sign bit**, an **exponent**, and a **fraction** (also called mantissa). The number of bits assigned to the exponent determines the *range* of the representation, while the number of bits in the fraction determines the *precision*.\n",
    "\n",
    "The most commonly used floating-point format is single-precision floating point (fp32), which uses 1&nbsp;sign bit, 8&nbsp;exponent bits, and 23&nbsp;fraction bits. However, most deep learning computations do not require the full 23-bit precision of fp32. As a result, modern hardware supports lower-precision formats that improve performance and memory efficiency while maintaining training stability. We are particularly interested in two of those:\n",
    "\n",
    "**TensorFloat-32 (tf32)** is a precision format introduced by NVIDIA. It keeps the same 8-bit exponent as fp32, preserving the same numerical range. However, tf32 reduces the fraction size to 10 bits, leading to lower precision but faster matrix multiplications on dedicated GPUs.\n",
    "\n",
    "**Brain Floating Point 16 (bf16)** is another reduced precision format widely used in NVIDIA GPUs. Like tf32, bf16 has the same 8-bit exponent as fp32, and therefore, the same range. However, bf16 has only 7 bits for the fraction. Unlike tf32, which is primarily used for internal computations, bf16 can be directly stored and used for activations, weights, and gradients, which can save memory (16 bits per value instead of 32)."
   ]
  },
  {
   "cell_type": "markdown",
   "metadata": {},
   "source": [
    "#### 🎈 Task 3.10: Exploring floating-point representations\n",
    "\n",
    "Your task is to rewrite the training loop to take advantage of specialised floating-point representations.\n",
    "\n",
    "**Step&nbsp;1.** By default, PyTorch uses the fp32 format for internal computations (“highest precision”). Read the documentation of [`torch.set_float32_matmul_precision()`](https://pytorch.org/docs/stable/generated/torch.set_float32_matmul_precision.html) to find out how to change this default and use tf32 if possible.\n",
    "\n",
    "**Step&nbsp;2.** Computing the forward pass and the loss requires even less precision than other parts of the training loop. Read the documentation of [`torch.autocast()`](https://pytorch.org/docs/stable/amp.html#torch.autocast) to find out how to execute these operations using the bf16 format.\n",
    "\n",
    "**Step&nbsp;3.** Repeat your profiling experiments with the modified training loop. How much time would be required to train the model now that you have implemented the floating-point optimisations?\n",
    "\n",
    "#### SOLUTION FOR TASK 3.10 :\n",
    "After the floating point optimizations the time to process all 300M tokens would be 1,89 hours."
   ]
  },
  {
   "cell_type": "markdown",
   "metadata": {},
   "source": [
    "### Just-in-time compilation"
   ]
  },
  {
   "cell_type": "markdown",
   "metadata": {},
   "source": [
    "The second optimisation we will explore is **just-in-time (JIT) compilation** – a technique to speed up code by compiling it at runtime, rather than before execution. This allows the compiler to optimise the code dynamically based on actual inputs and hardware conditions.\n",
    "\n",
    "PyTorch provides a function [`torch.compile()`](https://pytorch.org/tutorials/intermediate/torch_compile_tutorial.html) that uses JIT compilation to automatically optimise deep learning models. Instead of executing PyTorch operations one by one, this function analyses the computation, restructures it, and generates highly efficient machine code. This optimised code can often be run as a single fused operation on the GPU.\n",
    "\n",
    "The performance boost from JIT compilation is especially noticeable on high-end GPUs like the NVIDIA A100 or H100, but it can still provide smaller speedups on less powerful GPUs."
   ]
  },
  {
   "cell_type": "markdown",
   "metadata": {},
   "source": [
    "#### 🎈 Task 3.11: Exploring just-in-time compilation\n",
    "\n",
    "In this task, you will measure how much `torch.compile()` improves the training speed of the GPT-2 model. To enable JIT compilation, add the following line to the training loop:\n",
    "\n",
    "```\n",
    "model = torch.compile(model)\n",
    "```\n",
    "\n",
    "Make sure to place this *after* moving the model to the training device so the optimisation can be tailored to the hardware you are using. Once you have enabled JIT compilation, rerun your profiling experiments and compare the training speed before and efter.\n",
    "\n",
    "\n",
    "##### Answer:\n",
    "In total we have 300 million tokens to train on\n",
    "We process 524288 in each step. This means that we have 300 000 000/524288 which is ~572,2 which is the amount of steps it takes to complete an epoch.\n",
    "\n",
    "In training, we have 4768 steps, which is combined with the result above to get the amount of epochs for training, which is ~8.33...\n",
    "We calculated the time to process all 300M tokens to be ~1.74 hours with the JIT compilation.\n",
    "\n",
    "The final answer we get is 1.74*8.33 = ~14.5 hours for the total training"
   ]
  },
  {
   "cell_type": "markdown",
   "metadata": {},
   "source": [
    "## Part 3: Evaluate the pre-trained model"
   ]
  },
  {
   "cell_type": "markdown",
   "metadata": {},
   "source": [
    "This notebook contains all the code needed to train a GPT-2 model on the FineWeb-Edu dataset. However, training on the full dataset is not practical within the time and resource limits of this lab.\n",
    "\n",
    "To save time, we provide a pretrained model that was trained using the exact same settings you developed earlier. The only difference is that we used a compute node with 8 NVIDIA A100 GPUs (80GB each). With this setup, a full Chinchilla-optimal training run takes about 30 minutes.\n",
    "\n",
    "We provide the trained model in the file `gpt-2-fineweb-edu.pt`. You can load it with the following code:"
   ]
  },
  {
   "cell_type": "code",
   "execution_count": 16,
   "metadata": {},
   "outputs": [],
   "source": [
    "pretrained = Model(Config(n_vocab=50304))\n",
    "pretrained.load_state_dict(torch.load(\"/courses/TDDE09/labs/lab3/gpt-2-fineweb-edu.pt\"))\n",
    "pretrained.lm_head.weight = pretrained.wte.weight"
   ]
  },
  {
   "cell_type": "markdown",
   "metadata": {},
   "source": [
    "#### 🎓 Task 3.12: Evaluating the pretrained model\n",
    "\n",
    "The next cell contains code for evaluating the FineWeb-Edu model on the same small sample from the [HellaSwag](https://rowanzellers.com/hellaswag/) benchmark you already used in lab&nbsp;2. How does its score compare to that of the original GPT-2 model? What does this result tell you about the impact of data quality on the downstream performance of language models?"
   ]
  },
  {
   "cell_type": "markdown",
   "metadata": {},
   "source": [
    "### solution for taks 3.12 :\n",
    "The result from this lab is 0.78 points lower than the original GPT-2 model.\n",
    "\n",
    "We assume that the pretraining for GPT-2 in lab 2 used 300B tokens for pretraining.\n",
    "\n",
    "This shows how important the quality of the data is. With much less data, the model on lab 3 successfully scored very close to the model from lab 2 which was based on OpenAIs training."
   ]
  },
  {
   "cell_type": "markdown",
   "metadata": {},
   "source": [
    "FineWeb-Edu Model Performance:\n",
    "- The FineWeb-Edu model achieves 29.69% accuracy, which is slightly lower than the original GPT-2 model's performance.\n",
    "- This suggests that the FineWeb-Edu dataset, while focused on educational content, may not have provided enough diversity or quality to outperform the original GPT-2 model on the HellaSwag benchmark.\n",
    "\n",
    "\n",
    "Impact of Data Quality:\n",
    "- Data Diversity: The original GPT-2 was trained on a diverse dataset (WebText), which includes a wide range of topics and styles. This diversity likely helps the model generalize better to tasks like HellaSwag,          which requires commonsense reasoning across various contexts.\n",
    "- Data Quality: FineWeb-Edu is focused on educational content, which may be more specialized and less diverse. While this could improve performance on educational tasks, it may not generalize as well to broader           benchmarks like HellaSwag.\n",
    "- Task-Specific Performance: The HellaSwag benchmark tests commonsense reasoning, which may not align perfectly with the educational focus of FineWeb-Edu. This could explain the slightly lower performance"
   ]
  },
  {
   "cell_type": "code",
   "execution_count": 17,
   "metadata": {},
   "outputs": [
    {
     "name": "stdout",
     "output_type": "stream",
     "text": [
      "Accuracy: 29.69%\n"
     ]
    }
   ],
   "source": [
    "import json\n",
    "\n",
    "import tiktoken\n",
    "\n",
    "tokenizer = tiktoken.get_encoding(\"gpt2\")\n",
    "\n",
    "with open(\"hellaswag-mini.jsonl\") as f:\n",
    "    n_correct = 0\n",
    "    n_total = 0\n",
    "    for line in f:\n",
    "        sample = json.loads(line)\n",
    "        prefix = tokenizer.encode(sample[\"ctx\"])\n",
    "        ending_scores = []\n",
    "        for i, ending in enumerate(sample[\"endings\"]):\n",
    "            suffix = tokenizer.encode(\" \" + ending)\n",
    "            context = torch.tensor([prefix + suffix], dtype=torch.long)\n",
    "            with torch.no_grad():\n",
    "                logits = pretrained(context)\n",
    "                ending_score = torch.nn.functional.cross_entropy(\n",
    "                    logits[0, -len(suffix) - 1 : -1], context[0, -len(suffix) :]\n",
    "                )\n",
    "            ending_scores.append((ending_score, i))\n",
    "        predicted = min(ending_scores)[1]\n",
    "        n_correct += int(predicted == sample[\"label\"])\n",
    "        n_total += 1\n",
    "    print(f\"Accuracy: {n_correct / n_total:.2%}\")"
   ]
  },
  {
   "cell_type": "markdown",
   "metadata": {},
   "source": [
    "###### Feedback:Could you elaborate a bit more on your answer?\n",
    "###### solution :this feedback has been updated"
   ]
  },
  {
   "cell_type": "markdown",
   "metadata": {},
   "source": [
    "**🥳 Congratulations on finishing lab&nbsp;3!**"
   ]
  }
 ],
 "metadata": {
  "kernelspec": {
   "display_name": "Python 3 (ipykernel)",
   "language": "python",
   "name": "python3"
  },
  "language_info": {
   "codemirror_mode": {
    "name": "ipython",
    "version": 3
   },
   "file_extension": ".py",
   "mimetype": "text/x-python",
   "name": "python",
   "nbconvert_exporter": "python",
   "pygments_lexer": "ipython3",
   "version": "3.10.12"
  }
 },
 "nbformat": 4,
 "nbformat_minor": 4
}
