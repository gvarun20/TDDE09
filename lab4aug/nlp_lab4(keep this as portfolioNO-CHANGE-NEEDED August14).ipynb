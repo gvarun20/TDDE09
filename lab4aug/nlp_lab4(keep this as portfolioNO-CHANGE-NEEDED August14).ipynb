{
 "cells": [
  {
   "cell_type": "markdown",
   "metadata": {
    "id": "RrvQvJYgI0F1"
   },
   "source": [
    "# Lab 4: Dependency parsing"
   ]
  },
  {
   "cell_type": "markdown",
   "metadata": {
    "id": "LAnF3jxmI0F3"
   },
   "source": [
    "In this assignment, you will implement a simplified version of the dependency parser presented by [Glavaš and Vulić (2021)](http://dx.doi.org/10.18653/v1/2021.eacl-main.270). This parser consists of a transformer encoder followed by a bi-affine layer that computes arc scores for all pairs of words. These scores are then used as logits in a classifier that predicts the position of the head of each word. In contrast to the parser described in the paper, yours will only support unlabelled parsing, that is, you will not implement what the authors call a *relation classifier*. As the encoder, you will use the [uncased DistilBERT base model](https://huggingface.co/docs/transformers/model_doc/distilbert) from the [Transformers](https://huggingface.co/docs/transformers/main/en/index) library, even though every other BERT-based encoder should work equally well.\n",
    "\n",
    "*Tasks you can choose for the oral exam are marked with the graduation cap 🎓 emoji.*"
   ]
  },
  {
   "cell_type": "markdown",
   "metadata": {
    "id": "tUMRaG5rI0F5"
   },
   "source": [
    "## 🎓 Task 1: Read the paper\n",
    "\n",
    "Start by reading the relevant parts of [Glavaš and Vulić (2021)](http://dx.doi.org/10.18653/v1/2021.eacl-main.270). Focus on Section&nbsp;3, which explains the overall structure of the dependency parser and details the role of the transformer encoder and bi-affine scoring. While reading, take notes on how the arc scores are computed and how they are used to determine dependency relations. These concepts will be critical for implementing the parser in later tasks."
   ]
  },
  {
   "cell_type": "code",
   "execution_count": 1,
   "metadata": {
    "colab": {
     "base_uri": "https://localhost:8080/"
    },
    "id": "xwy0N0k2JRaD",
    "outputId": "6c5da272-ed59-4e48-b84a-b7a3e8835ba9"
   },
   "outputs": [],
   "source": [
    "#pip install conllu"
   ]
  },
  {
   "cell_type": "markdown",
   "metadata": {
    "id": "_fru4P7PI0F5"
   },
   "source": [
    "## Dataset"
   ]
  },
  {
   "cell_type": "markdown",
   "metadata": {
    "id": "9_v-eNNUI0F5"
   },
   "source": [
    "The data for this lab comes from the English Web Treebank from the [Universal Dependencies Project](http://universaldependencies.org). To read the data, we use the [CoNLL-U Parser](https://pypi.org/project/conllu/) library. The code in the next cell defines a PyTorch [Dataset](https://pytorch.org/docs/stable/data.html#torch.utils.data.Dataset) wrapper for the data."
   ]
  },
  {
   "cell_type": "code",
   "execution_count": 2,
   "metadata": {
    "id": "98mA-8IpI0F6"
   },
   "outputs": [],
   "source": [
    "import conllu\n",
    "from torch.utils.data import Dataset\n",
    "\n",
    "\n",
    "class ParserDataset(Dataset):\n",
    "    def __init__(self, filename):\n",
    "        super().__init__()\n",
    "        self.items = []\n",
    "        with open(filename, \"rt\", encoding=\"utf-8\") as fp:\n",
    "            for tokens in conllu.parse_incr(fp):\n",
    "                self.items.append(\n",
    "                    [(t[\"form\"], t[\"head\"]) for t in tokens if isinstance(t[\"id\"], int)]\n",
    "                )\n",
    "\n",
    "    def __len__(self):\n",
    "        return len(self.items)\n",
    "\n",
    "    def __getitem__(self, idx):\n",
    "        return self.items[idx]"
   ]
  },
  {
   "cell_type": "markdown",
   "metadata": {
    "id": "6htukumQI0F7"
   },
   "source": [
    "We can now load the training data:"
   ]
  },
  {
   "cell_type": "code",
   "execution_count": 3,
   "metadata": {
    "id": "KH5-D5PEI0F7"
   },
   "outputs": [],
   "source": [
    "TRAIN_DATA = ParserDataset(\"en_ewt-ud-train.conllu\")"
   ]
  },
  {
   "cell_type": "markdown",
   "metadata": {
    "id": "ucffcqZ3I0F7"
   },
   "source": [
    "Our data consists of **parsed sentences**. A parsed sentence is represented as a list of pairs. The first component of each pair (a string) represents a word; the second component (an integer) specifies the position of the word’s head, i.e., its parent in the dependency tree. Note that word positions are numbered starting at&nbsp;1; the head position&nbsp;0 represents the root of the tree.\n",
    "\n",
    "Run the next cell to see an example sentence:"
   ]
  },
  {
   "cell_type": "code",
   "execution_count": 4,
   "metadata": {
    "colab": {
     "base_uri": "https://localhost:8080/"
    },
    "id": "-pBWoDB9I0F8",
    "outputId": "b9a93d73-f2a2-4deb-bb1b-ddfbfd5377da"
   },
   "outputs": [
    {
     "data": {
      "text/plain": [
       "(('I', 'like', 'yuor', 'blog', '.'), (2, 0, 4, 2, 2))"
      ]
     },
     "execution_count": 4,
     "metadata": {},
     "output_type": "execute_result"
    }
   ],
   "source": [
    "EXAMPLE_WORDS, EXAMPLE_HEADS = zip(*TRAIN_DATA[531])\n",
    "\n",
    "EXAMPLE_WORDS, EXAMPLE_HEADS"
   ]
  },
  {
   "cell_type": "markdown",
   "metadata": {
    "id": "uVuyBIjTI0F8"
   },
   "source": [
    "The example sentence consists of five whitespace-separated words, including the final punctuation mark. The head of the pronoun *I* is the word at position&nbsp;2 – the verb *like*. The head of the word *like* is the root of the tree (position&nbsp;0). The dependents of *like* are *I* (position&nbsp;1), the noun *blog* (position&nbsp;4), and the final punctuation mark. Note that the pronoun *your* (position&nbsp;3) is misspelled as *yuor*."
   ]
  },
  {
   "cell_type": "markdown",
   "metadata": {
    "id": "wM2gA0VgI0F8"
   },
   "source": [
    "## 🎓 Task 2: Tokenisation"
   ]
  },
  {
   "cell_type": "markdown",
   "metadata": {
    "id": "fkXniMJQI0F9"
   },
   "source": [
    "To feed parsed sentences to DistilBERT, we need to tokenise them and encode the resulting tokens as integers in the model vocabulary. We start by loading the DistilBERT tokeniser using the [Auto classes](https://huggingface.co/docs/transformers/v4.37.2/en/model_doc/auto):"
   ]
  },
  {
   "cell_type": "code",
   "execution_count": 5,
   "metadata": {
    "id": "XAfIrIyaI0F9"
   },
   "outputs": [],
   "source": [
    "from transformers import AutoTokenizer\n",
    "\n",
    "TOKENIZER = AutoTokenizer.from_pretrained(\"distilbert-base-uncased\")"
   ]
  },
  {
   "cell_type": "markdown",
   "metadata": {
    "id": "RoHMsRt8I0F9"
   },
   "source": [
    "We can call the tokeniser on the example sentence as shown in the next cell. Note that we use the *is_split_into_words* keyword argument to indicate that the input is already pre-tokenised (split on whitespace)."
   ]
  },
  {
   "cell_type": "code",
   "execution_count": 6,
   "metadata": {
    "id": "ez_aIOY9I0F9"
   },
   "outputs": [],
   "source": [
    "EXAMPLE_TOKENS = TOKENIZER(EXAMPLE_WORDS, is_split_into_words=True)"
   ]
  },
  {
   "cell_type": "markdown",
   "metadata": {
    "id": "deShGfWQI0F9"
   },
   "source": [
    "The output of the tokeniser is an object of class [`BatchEncoding`](https://huggingface.co/docs/transformers/main_classes/tokenizer#transformers.BatchEncoding). The code in the following cell shows the list of tokens:"
   ]
  },
  {
   "cell_type": "code",
   "execution_count": 7,
   "metadata": {
    "colab": {
     "base_uri": "https://localhost:8080/"
    },
    "id": "8lqa0DxLI0F9",
    "outputId": "0068554a-9d60-4542-c0c2-9941d2ad143c"
   },
   "outputs": [
    {
     "data": {
      "text/plain": [
       "['[CLS]', 'i', 'like', 'yu', '##or', 'blog', '.', '[SEP]']"
      ]
     },
     "execution_count": 7,
     "metadata": {},
     "output_type": "execute_result"
    }
   ],
   "source": [
    "[TOKENIZER.decode(i) for i in EXAMPLE_TOKENS.input_ids]"
   ]
  },
  {
   "cell_type": "markdown",
   "metadata": {
    "id": "Cd1B6RE9I0F9"
   },
   "source": [
    "As you can see, the tokeniser adds the special tokens `[CLS]` and `[SEP]` and splits unknown words (here: the misspelled word *yuor*) into sub-word tokens. We will need to keep track of which tokens correspond to which word. To achieve that, we can use the method [`word_to_tokens()`](https://huggingface.co/docs/transformers/main_classes/tokenizer#transformers.BatchEncoding.word_to_tokens), which gets us the encoded token span (an object of class [`TokenSpan`](https://huggingface.co/docs/transformers/internal/tokenization_utils#transformers.TokenSpan)) corresponding to a word in a sequence of the input batch:"
   ]
  },
  {
   "cell_type": "code",
   "execution_count": 8,
   "metadata": {
    "colab": {
     "base_uri": "https://localhost:8080/"
    },
    "id": "N0GxjAYpI0F9",
    "outputId": "a52d59ab-9d00-4bbd-e3ba-46075956d584"
   },
   "outputs": [
    {
     "name": "stdout",
     "output_type": "stream",
     "text": [
      "TokenSpan(start=1, end=2) -> I\n",
      "TokenSpan(start=2, end=3) -> like\n",
      "TokenSpan(start=3, end=5) -> yuor\n",
      "TokenSpan(start=5, end=6) -> blog\n",
      "TokenSpan(start=6, end=7) -> .\n"
     ]
    }
   ],
   "source": [
    "for i, word in enumerate(EXAMPLE_WORDS):\n",
    "    print(EXAMPLE_TOKENS.word_to_tokens(i), \"->\", word)"
   ]
  },
  {
   "cell_type": "markdown",
   "metadata": {
    "id": "0e-FksDcI0F-"
   },
   "source": [
    "Your first task is to code a function `encode()` that takes a tokeniser and a list of sentences and returns the tokeniser&rsquo;s encoded input as well as the corresponding token spans. The following cell contains skeleton code for this function."
   ]
  },
  {
   "cell_type": "code",
   "execution_count": 9,
   "metadata": {
    "id": "bnhJ6H84I0F-"
   },
   "outputs": [],
   "source": [
    "def encode(tokenizer, sentences):\n",
    "    # TODO: Replace the next line with your own code\n",
    "    raise NotImplementedError"
   ]
  },
  {
   "cell_type": "markdown",
   "metadata": {
    "id": "2VuYrG9RI0F-"
   },
   "source": [
    "Implement this function to match the following specification:\n",
    "\n",
    "**encode** (*tokenizer*, *sentences*):\n",
    "\n",
    "> Uses the specified *tokenizer* to encode a batch of parsed sentences (*sentences*). Returns a pair consisting of a [`BatchEncoding`](https://huggingface.co/docs/transformers/main_classes/tokenizer#transformers.BatchEncoding) and a matching batch of token spans (as explained above). The [`BatchEncoding`](https://huggingface.co/docs/transformers/main_classes/tokenizer#transformers.BatchEncoding) is the standard batch encoding, but with tensors instead of lists of Python integers. Sentences have been truncated to the maximum acceptable input length.\n",
    "\n",
    "**Hint:** Read the documentation of [`PreTrainedTokenizer`](https://huggingface.co/docs/transformers/en/main_classes/tokenizer#transformers.PreTrainedTokenizer.__call__) to find out how to call the tokeniser."
   ]
  },
  {
   "cell_type": "code",
   "execution_count": 10,
   "metadata": {
    "id": "op1njtdYKlZf"
   },
   "outputs": [],
   "source": [
    "\n",
    "def encode(tokenizer, sentences):\n",
    "    # Extract only the words from each parsed sentence.\n",
    "    words = [[word for word, _ in sentence] for sentence in sentences]\n",
    "\n",
    "    # Encode using the tokenizer.\n",
    "    encoded = tokenizer(\n",
    "        words,\n",
    "        is_split_into_words=True,\n",
    "        return_tensors=\"pt\",\n",
    "        padding=True,\n",
    "        truncation=True\n",
    "    )\n",
    "\n",
    "    # Build token spans: for each sentence and each word, get the corresponding TokenSpan.\n",
    "    batch_token_spans = []\n",
    "    for i, sentence in enumerate(words):\n",
    "        spans = []\n",
    "        for j in range(len(sentence)):\n",
    "            # Note: tokenizer.word_to_tokens(i, j) returns the span for the j-th word in the i-th sentence.\n",
    "            token_span = encoded.word_to_tokens(i, j)\n",
    "            spans.append(token_span)\n",
    "        batch_token_spans.append(spans)\n",
    "\n",
    "    return encoded, batch_token_spans\n"
   ]
  },
  {
   "cell_type": "markdown",
   "metadata": {
    "id": "Y3ZOOHJpI0F-"
   },
   "source": [
    "### 🤞 Test your code\n",
    "\n",
    "To test you code, call `encode()` on a small number of sentences and check that output matches your expectations."
   ]
  },
  {
   "cell_type": "code",
   "execution_count": 11,
   "metadata": {
    "colab": {
     "base_uri": "https://localhost:8080/"
    },
    "id": "B_bEUJbEfqcS",
    "outputId": "b3351b4f-c51b-4037-d439-18c8687b72ca"
   },
   "outputs": [
    {
     "name": "stdout",
     "output_type": "stream",
     "text": [
      "Encoded Input IDs:\n",
      "tensor([[  101,  1996,  4937,  2938,  2006,  1996, 13523,  1012,   102],\n",
      "        [  101,  2016, 15646,  3752,  2808,  1012,   102,     0,     0],\n",
      "        [  101,  2784,  4083,  2003, 17160,   999,   102,     0,     0]])\n",
      "\n",
      "Token Spans:\n",
      "Sentence 1:\n",
      "  Word 0: TokenSpan(start=1, end=2)\n",
      "  Word 1: TokenSpan(start=2, end=3)\n",
      "  Word 2: TokenSpan(start=3, end=4)\n",
      "  Word 3: TokenSpan(start=4, end=5)\n",
      "  Word 4: TokenSpan(start=5, end=6)\n",
      "  Word 5: TokenSpan(start=6, end=7)\n",
      "  Word 6: TokenSpan(start=7, end=8)\n",
      "Sentence 2:\n",
      "  Word 0: TokenSpan(start=1, end=2)\n",
      "  Word 1: TokenSpan(start=2, end=3)\n",
      "  Word 2: TokenSpan(start=3, end=4)\n",
      "  Word 3: TokenSpan(start=4, end=5)\n",
      "  Word 4: TokenSpan(start=5, end=6)\n",
      "Sentence 3:\n",
      "  Word 0: TokenSpan(start=1, end=2)\n",
      "  Word 1: TokenSpan(start=2, end=3)\n",
      "  Word 2: TokenSpan(start=3, end=4)\n",
      "  Word 3: TokenSpan(start=4, end=5)\n",
      "  Word 4: TokenSpan(start=5, end=6)\n"
     ]
    }
   ],
   "source": [
    "\n",
    "# Define a small number of test sentences (as parsed word lists)\n",
    "test_sentences = [\n",
    "    [(\"The\", \"DET\"), (\"cat\", \"NOUN\"), (\"sat\", \"VERB\"), (\"on\", \"ADP\"), (\"the\", \"DET\"), (\"mat\", \"NOUN\"), (\".\", \"PUNCT\")],\n",
    "    [(\"She\", \"PRON\"), (\"enjoys\", \"VERB\"), (\"reading\", \"VERB\"), (\"books\", \"NOUN\"), (\".\", \"PUNCT\")],\n",
    "    [(\"Deep\", \"ADJ\"), (\"learning\", \"NOUN\"), (\"is\", \"AUX\"), (\"fascinating\", \"ADJ\"), (\"!\", \"PUNCT\")]\n",
    "]\n",
    "\n",
    "# Call encode function\n",
    "encoded_output, token_spans = encode(TOKENIZER, test_sentences)\n",
    "\n",
    "# Print results\n",
    "print(\"Encoded Input IDs:\")\n",
    "print(encoded_output[\"input_ids\"])\n",
    "\n",
    "print(\"\\nToken Spans:\")\n",
    "for i, spans in enumerate(token_spans):\n",
    "    print(f\"Sentence {i+1}:\")\n",
    "    for j, span in enumerate(spans):\n",
    "        print(f\"  Word {j}: {span}\")\n"
   ]
  },
  {
   "cell_type": "markdown",
   "metadata": {
    "id": "7ogSXhtyI0F-"
   },
   "source": [
    "## 🎓 Task 3: Merging tokens"
   ]
  },
  {
   "cell_type": "markdown",
   "metadata": {
    "id": "mUett0UpI0F-"
   },
   "source": [
    "DistilBERT gives us a representation for each *token* in a sentence. To compute scores between pairs of *words*, we will need to combine the token representations that correspond to each word. A standard strategy for this is to take their element-wise mean. The next cell contains skeleton code for a function `merge_tokens()` that implements this strategy."
   ]
  },
  {
   "cell_type": "code",
   "execution_count": 12,
   "metadata": {
    "id": "hfrRhndSI0F-"
   },
   "outputs": [],
   "source": [
    "def merge_tokens(tokens, token_spans):\n",
    "    # TODO: Replace the next line with your own code\n",
    "    raise NotImplementedError"
   ]
  },
  {
   "cell_type": "markdown",
   "metadata": {
    "id": "ttxh_YpJI0F_"
   },
   "source": [
    "Implement this function to match the following specification:\n",
    "\n",
    "**merge_tokens** (*tokens*, *token_spans*)\n",
    "\n",
    "> Takes a batch of token vectors (*tokens*) and a list of matching token spans (*token_spans*) and returns a batch of word-level representations, computed using the element-wise mean. The token vectors are a tensor of shape (*batch_size*, *num_tokens*, *hidden_dim*), where *hidden_dim* is the dimensionality of the DistilBERT representations. The token spans are a nested list containing integer pairs, as computed in Task&nbsp;1. The result is a tensor of shape (*batch_size*, *max_num_words*, *hidden_dim*), where *max_num_words* denotes the maximum number of words in any sentence in the batch. Entries corresponding to padding are represented by the zero vector of size *hidden_dim*."
   ]
  },
  {
   "cell_type": "code",
   "execution_count": 13,
   "metadata": {
    "id": "zUjH6TI2NU1N"
   },
   "outputs": [],
   "source": [
    "\n",
    "def merge_tokens(tokens, token_spans):\n",
    "    batch_size, _, hidden_dim = tokens.shape\n",
    "    max_num_words = max(len(spans) for spans in token_spans)\n",
    "    merged = torch.zeros(batch_size, max_num_words, hidden_dim, device=tokens.device)\n",
    "    for b in range(batch_size):\n",
    "        spans = token_spans[b]\n",
    "        for w_idx, (start, end) in enumerate(spans):\n",
    "            if start >= tokens.size(1) or end > tokens.size(1) or start >= end:\n",
    "                continue\n",
    "            merged[b, w_idx] = torch.mean(tokens[b, start:end, :], dim=0)\n",
    "    return merged"
   ]
  },
  {
   "cell_type": "markdown",
   "metadata": {
    "id": "Y8vWkCZqI0F_"
   },
   "source": [
    "### 🤞 Test your code\n",
    "\n",
    "The code in the following cell creates a sample input to `merge_tokens()` and compares the output to a manually constructed control."
   ]
  },
  {
   "cell_type": "code",
   "execution_count": 15,
   "metadata": {
    "colab": {
     "base_uri": "https://localhost:8080/"
    },
    "id": "cx7mUj55I0F_",
    "outputId": "0cc4df68-12bf-49b1-f512-c3dbdd269bf6"
   },
   "outputs": [
    {
     "name": "stdout",
     "output_type": "stream",
     "text": [
      "merged: tensor([[[0.9593, 0.3904, 0.6009],\n",
      "         [0.2566, 0.7936, 0.9408],\n",
      "         [0.5013, 0.7512, 0.6673],\n",
      "         [0.4294, 0.8854, 0.5739],\n",
      "         [0.2666, 0.6274, 0.2696]]])\n",
      "reference: tensor([0.5013, 0.7512, 0.6673])\n"
     ]
    }
   ],
   "source": [
    "from transformers import TokenSpan\n",
    "import torch\n",
    "import torch.nn as nn\n",
    "\n",
    "\n",
    "def test_merge_tokens():\n",
    "    # Set the random seed for reproducibility\n",
    "    torch.manual_seed(42)\n",
    "\n",
    "    # Construct a test example\n",
    "    subwords_test = torch.rand(1, 1 + len(EXAMPLE_WORDS) + 1, 3)\n",
    "\n",
    "    # Add the expected token spans\n",
    "    token_spans = [\n",
    "        [TokenSpan(start=i, end=j) for i, j in [(1, 2), (2, 3), (3, 5), (5, 6), (6, 7)]]\n",
    "    ]\n",
    "\n",
    "    # Get the output of `merge_tokens()` and the expected output\n",
    "    print(\"merged:\", merge_tokens(subwords_test, token_spans))\n",
    "    print(\"reference:\", torch.mean(subwords_test[0, 3:5], dim=0))\n",
    "\n",
    "test_merge_tokens()"
   ]
  },
  {
   "cell_type": "markdown",
   "metadata": {},
   "source": [
    "###### Feedback:The instruction mentions: “The result is a tensor of shape (batch_size, max_num_words, hidden_dim), where max_num_words denotes the maximum number of words in any sentence in the batch. Entries corresponding to padding are represented by the zero vector of size hidden_dim.” Your code is not returning a tensor. For this it will be important that you add the padding tokens (e.g. zero vectors), so that the shape matches for each item in the batch. \n",
    "###### solution:correction has been made"
   ]
  },
  {
   "cell_type": "markdown",
   "metadata": {
    "id": "ZJG3QzQoI0F_"
   },
   "source": [
    "## 🎓 Task 4: Biaffine layer"
   ]
  },
  {
   "cell_type": "markdown",
   "metadata": {
    "id": "RRm3eVk1I0F_"
   },
   "source": [
    "Your next task is to implement the bi-affine layer. Given matrices $X \\in \\mathbb{R}^{m \\times d}$ and $X' \\in \\mathbb{R}^{n \\times d}$, this layer computes a matrix $Y \\in \\mathbb{R}^{m \\times n}$ as"
   ]
  },
  {
   "cell_type": "markdown",
   "metadata": {
    "id": "FNhGP0N6I0GA"
   },
   "source": [
    "$$\n",
    "Y = X W X'{}^\\top + b\n",
    "$$"
   ]
  },
  {
   "cell_type": "markdown",
   "metadata": {
    "id": "dUFk6HT_I0GA"
   },
   "source": [
    "where $W \\in \\mathbb{R}^{d \\times d}$ and $b \\in \\mathbb{R}$ are learnable weight and bias parameters. In the context of the dependency parser, the matrices $X$ and $X'$ hold the word representations of all dependents and all heads in the input sentence, and the entries of the matrix $Y$ are interpreted as scores of possible dependency arcs. More specifically, the entry $Y_{ij}$ represents the score of an arc from a head word at position&nbsp;$j$ to a dependent at position&nbsp;$i$."
   ]
  },
  {
   "cell_type": "markdown",
   "metadata": {
    "id": "zVBZ_MyaI0GA"
   },
   "source": [
    "The following cell contains skeleton code for the implementation of the bi-affine layer. Implement this layer according to the specification above. Initialise the weights as in [`nn.Linear`](https://github.com/pytorch/pytorch/blob/v2.6.0/torch/nn/modules/linear.py#L50)."
   ]
  },
  {
   "cell_type": "code",
   "execution_count": 16,
   "metadata": {
    "id": "zcGz5kBjI0GA"
   },
   "outputs": [],
   "source": [
    "import torch.nn as nn\n",
    "\n",
    "\n",
    "class Biaffine(nn.Module):\n",
    "    def __init__(self, encoder_dim):\n",
    "        super().__init__()\n",
    "        # TODO: Replace the next line with your own code\n",
    "        raise NotImplementedError\n",
    "\n",
    "    def forward(self, x1, x2):\n",
    "        # TODO: Replace the next line with your own code\n",
    "        raise NotImplementedError"
   ]
  },
  {
   "cell_type": "code",
   "execution_count": 17,
   "metadata": {
    "id": "veefB6BxNmv4"
   },
   "outputs": [],
   "source": [
    "\n",
    "class Biaffine(nn.Module):\n",
    "    def __init__(self, encoder_dim):\n",
    "        super().__init__()\n",
    "        self.weight = nn.Parameter(torch.empty(encoder_dim, encoder_dim))\n",
    "        self.bias = nn.Parameter(torch.empty(1))\n",
    "        nn.init.kaiming_uniform_(self.weight, a=5**0.5)\n",
    "        self.bias.data.zero_()\n",
    "\n",
    "    def forward(self, x1, x2):\n",
    "        x1W = torch.matmul(x1, self.weight)\n",
    "        scores = torch.bmm(x1W, x2.transpose(1, 2))\n",
    "        scores += self.bias\n",
    "        return scores"
   ]
  },
  {
   "cell_type": "markdown",
   "metadata": {
    "id": "udA4dOxRI0GA"
   },
   "source": [
    "**⚠️ Note that your implementation should be able to handle *batches* of input sentences.**"
   ]
  },
  {
   "cell_type": "markdown",
   "metadata": {
    "id": "D4gpMHKVI0GA"
   },
   "source": [
    "### 🤞 Test your code\n",
    "\n",
    "The test creates a sample input to the bi-affine layer as well as suitable weights and biases and checks that the output of the `forward()` method matches a manually constructed reference output."
   ]
  },
  {
   "cell_type": "code",
   "execution_count": 18,
   "metadata": {
    "id": "f4Icr_GLI0GA"
   },
   "outputs": [],
   "source": [
    "def test_biaffine():\n",
    "    import torch.testing\n",
    "\n",
    "    # Test values\n",
    "    batch_size = 2\n",
    "    x1_size = 3\n",
    "    x2_size = 5\n",
    "    encoder_dim = 7\n",
    "\n",
    "    # Create two random inputs\n",
    "    x1 = torch.rand(batch_size, x1_size, encoder_dim)\n",
    "    x2 = torch.rand(batch_size, x2_size, encoder_dim)\n",
    "\n",
    "    # Create the biaffine layer\n",
    "    m = Biaffine(encoder_dim)\n",
    "\n",
    "    # Compute a reference output using for loops\n",
    "    reference = torch.zeros(batch_size, x1_size, x2_size)\n",
    "    for b in range(batch_size):\n",
    "        for x1i in range(x1_size):\n",
    "            for x2i in range(x2_size):\n",
    "                tmp = 0\n",
    "                for i in range(encoder_dim):\n",
    "                    for j in range(encoder_dim):\n",
    "                        tmp += x1[b,x1i,i] * m.weight[i,j] * x2[b,x2i,j]\n",
    "                reference[b,x1i,x2i] = tmp + m.bias\n",
    "\n",
    "    # Check that the two are identical\n",
    "    torch.testing.assert_close(m.forward(x1, x2), reference)"
   ]
  },
  {
   "cell_type": "markdown",
   "metadata": {
    "id": "6PzoQNgZI0GB"
   },
   "source": [
    "## 🎓 Task 5: Parser"
   ]
  },
  {
   "cell_type": "markdown",
   "metadata": {
    "id": "rIM_psEII0GB"
   },
   "source": [
    "We are now ready to put the two main components of the parser together: the encoder (DistilBert) and the bi-affine layer that computes the arc scores. We also add a dropout layer between the two components.\n",
    "\n",
    "The following code cell contains skeleton code for the parsing model with the `init()` method already complete. Your task is to implement the `forward()` method. If you are unsure how things should be wired up, have another look at the slides."
   ]
  },
  {
   "cell_type": "code",
   "execution_count": 19,
   "metadata": {
    "id": "ZQV0jYo_I0GB"
   },
   "outputs": [],
   "source": [
    "import torch.nn as nn\n",
    "from transformers import DistilBertModel, DistilBertPreTrainedModel\n",
    "\n",
    "\n",
    "class DistilBertForParsing(DistilBertPreTrainedModel):\n",
    "    def __init__(self, config, dropout=0.1):\n",
    "        super().__init__(config)\n",
    "        self.config = config\n",
    "        self.distilbert = DistilBertModel(config)\n",
    "        self.dropout = nn.Dropout(dropout)\n",
    "        self.biaffine = Biaffine(config.hidden_size)\n",
    "\n",
    "    def forward(self, encoded_input, token_spans):\n",
    "        # TODO: Replace the next line with your own code\n",
    "        raise NotImplementedError"
   ]
  },
  {
   "cell_type": "markdown",
   "metadata": {
    "id": "YtypTb0uI0GB"
   },
   "source": [
    "Implement the `forward()` method to match the following specification. Annotate all intermediate tensors with their shapes.\n",
    "\n",
    "**forward** (*encoded_input*, *token_spans*)\n",
    "\n",
    "> Takes a tokeniser-encoded batch of sentences (*encoded_input*, of type `BatchEncoding`) and a corresponding nested list of token spans (*token_spans*) and returns a tensor with scores for each pair of words. More specifically, the output tensor $Y$ has shape (*batch_size*, *num_words*, *num_words+1*), where the entry $Y_{bij}$ represents the score of an arc from a head word at position&nbsp;$j$ to a dependent at position&nbsp;$i$ in the $b$th sentence of the batch. Note that the number of possible heads is one greater than the number of possible dependents because the possible heads include the root of the dependency tree, which we represent using the special token `[CLS]` (at position&nbsp;0)."
   ]
  },
  {
   "cell_type": "code",
   "execution_count": 20,
   "metadata": {
    "id": "6s9Jl-FENzSg"
   },
   "outputs": [],
   "source": [
    "\n",
    "\n",
    "class DistilBertForParsing(DistilBertPreTrainedModel):\n",
    "    def __init__(self, config, dropout=0.1):\n",
    "        super().__init__(config)\n",
    "        self.distilbert = DistilBertModel(config)\n",
    "        self.dropout = nn.Dropout(dropout)\n",
    "        self.biaffine = Biaffine(config.hidden_size)\n",
    "\n",
    "    def forward(self, encoded_input, token_spans):\n",
    "        outputs = self.distilbert(**encoded_input)\n",
    "        last_hidden_state = outputs.last_hidden_state\n",
    "\n",
    "        #Merge token representations into word-level representations.\n",
    "        merged_words = merge_tokens(last_hidden_state, token_spans)\n",
    "\n",
    "        # Include the [CLS] token as a candidate head (for the root).\n",
    "        # Assume [CLS] is at position 0 in the token_reps.\n",
    "        cls_embeds = last_hidden_state[:, 0, :].unsqueeze(1)\n",
    "\n",
    "        # Concatenate cls_reps with word representations for heads.\n",
    "        head_reprs = torch.cat([cls_embeds, merged_words], dim=1)\n",
    "\n",
    "        # Apply dropout on the word representations (for dependents).\n",
    "        merged_words = self.dropout(merged_words)\n",
    "\n",
    "        head_reprs = self.dropout(head_reprs)\n",
    "        # Compute the bi-affine scores.\n",
    "        arc_scores = self.biaffine(merged_words, head_reprs)\n",
    "\n",
    "        return arc_scores"
   ]
  },
  {
   "cell_type": "markdown",
   "metadata": {},
   "source": [
    "###### Feedback:Why are you not using the merge_tokens function here? It seems that something is wrong with the encoded input, and it looks like it is a list instead of a tensor. The issue might be that you do not set “return_tensors=\"pt\"” when calling the tokenizer. \n",
    "###### solution: correction made"
   ]
  },
  {
   "cell_type": "markdown",
   "metadata": {
    "id": "26KalyLmI0GC"
   },
   "source": [
    "### 🤞 Test your code\n",
    "\n",
    "The testing code instantiates the parsing model and feeds it a small batch of sentences."
   ]
  },
  {
   "cell_type": "code",
   "execution_count": 21,
   "metadata": {
    "id": "aFyLRwINI0GC"
   },
   "outputs": [],
   "source": [
    "def test_model():\n",
    "    m = DistilBertForParsing.from_pretrained(\"distilbert-base-uncased\")\n",
    "    encoded_input, token_spans = encode(TOKENIZER, TRAIN_DATA[:2])\n",
    "    return m(encoded_input, token_spans)"
   ]
  },
  {
   "cell_type": "markdown",
   "metadata": {
    "id": "j5IhfS6JI0GC"
   },
   "source": [
    "## Data loader"
   ]
  },
  {
   "cell_type": "markdown",
   "metadata": {
    "id": "vL9iSH2ZI0GC"
   },
   "source": [
    "We are now almost ready to train the parser. The missing piece is a data collator that prepares a batch of parsed sentences:\n",
    "\n",
    "* tokenises the sentences and extracts token spans using `encode()` (Task&nbsp;1)\n",
    "* constructs the ground-truth head tensor needed to compute the loss (Task&nbsp;2)\n",
    "\n",
    "The code in the next cell implements these two steps. For pseudo-words introduced through padding, we assign a head position of −100. This value is ignored by PyTorch’s cross-entropy loss function."
   ]
  },
  {
   "cell_type": "code",
   "execution_count": 22,
   "metadata": {
    "id": "pFsLoWadI0GC"
   },
   "outputs": [],
   "source": [
    "import torch\n",
    "\n",
    "\n",
    "class ParserBatcher(object):\n",
    "    def __init__(self, tokenizer, device=None):\n",
    "        self.tokenizer = tokenizer\n",
    "        self.device = device\n",
    "\n",
    "    def __call__(self, parser_inputs):\n",
    "        encoded_input, start_indices = encode(self.tokenizer, parser_inputs)\n",
    "\n",
    "        # Get the maximal number of words, for padding\n",
    "        max_num_words = max(len(s) for s in parser_inputs)\n",
    "\n",
    "        # Construct tensor containing the ground-truth heads\n",
    "        all_heads = []\n",
    "        for parser_input in parser_inputs:\n",
    "            words, heads = zip(*parser_input)\n",
    "            heads = list(heads)\n",
    "            heads.extend([-100] * (max_num_words - len(heads)))  # -100 will be ignored\n",
    "            all_heads.append(heads)\n",
    "        all_heads = torch.LongTensor(all_heads)\n",
    "\n",
    "        # Send all data to the specified device\n",
    "        if self.device:\n",
    "            encoded_input = encoded_input.to(self.device)\n",
    "            all_heads = all_heads.to(self.device)\n",
    "\n",
    "        return encoded_input, start_indices, all_heads"
   ]
  },
  {
   "cell_type": "markdown",
   "metadata": {
    "id": "Lk3PBWsfI0GC"
   },
   "source": [
    "## Training loop"
   ]
  },
  {
   "cell_type": "markdown",
   "metadata": {
    "id": "xr7qyN24I0GD"
   },
   "source": [
    "Finally, here is the training loop of the parser. Most of it is quite standard. The training loss of the parser is the cross-entropy between the head scores and the ground truth head positions. In other words, the parser is trained as a classifier that predicts the position of each word&rsquo;s head."
   ]
  },
  {
   "cell_type": "code",
   "execution_count": 23,
   "metadata": {
    "id": "q4cbSSSeI0GD"
   },
   "outputs": [],
   "source": [
    "import torch.nn.functional as F\n",
    "from torch.optim import Adam\n",
    "from torch.utils.data import DataLoader\n",
    "from tqdm import tqdm\n",
    "\n",
    "DEVICE = torch.device(\"cuda\" if torch.cuda.is_available() else \"cpu\")\n",
    "\n",
    "\n",
    "def train(dataset, n_epochs=1, lr=1e-5, batch_size=8):\n",
    "    # Initialise the tokeniser\n",
    "    tokenizer = AutoTokenizer.from_pretrained(\"distilbert-base-uncased\")\n",
    "\n",
    "    # Initialise the encoder\n",
    "    model = DistilBertForParsing.from_pretrained(\"distilbert-base-uncased\").to(DEVICE)\n",
    "\n",
    "    # Initialise the data loader\n",
    "    data_loader = DataLoader(\n",
    "        dataset,\n",
    "        batch_size=batch_size,\n",
    "        collate_fn=ParserBatcher(tokenizer, device=DEVICE),\n",
    "    )\n",
    "\n",
    "    # Initialise the optimiser\n",
    "    optimizer = Adam(model.parameters(), lr=lr)\n",
    "\n",
    "    # Train for the specified number of epochs\n",
    "    for epoch in range(n_epochs):\n",
    "        model.train()\n",
    "\n",
    "        # We keep track of the running loss\n",
    "        running_loss = 0\n",
    "        n_batches = 0\n",
    "        with tqdm(total=len(dataset)) as pbar:\n",
    "            pbar.set_description(f\"Epoch {epoch + 1}\")\n",
    "\n",
    "            # Process a batch of samples\n",
    "            for encoded_input, token_spans, gold_heads in data_loader:\n",
    "                optimizer.zero_grad()\n",
    "\n",
    "                # Compute the arc scores\n",
    "                arc_scores = model.forward(encoded_input, token_spans)\n",
    "                # shape: [batch_size, num_words, num_words+1]\n",
    "\n",
    "                # Flatten arc_scores and gold_heads for cross_entropy\n",
    "                loss = F.cross_entropy(arc_scores.flatten(0, -2), gold_heads.view(-1))\n",
    "                # shape of the flattened arc_scores: [batch_size * num_words, num_words+1]\n",
    "                # shape of the flattened gold_heads: [batch_size * num_words]\n",
    "\n",
    "                # Backward pass\n",
    "                loss.backward()\n",
    "                optimizer.step()\n",
    "\n",
    "                # Update the loss\n",
    "                running_loss += loss.item()\n",
    "                n_batches += 1\n",
    "                pbar.set_postfix(loss=running_loss / n_batches)\n",
    "                pbar.update(len(token_spans))\n",
    "\n",
    "    return model"
   ]
  },
  {
   "cell_type": "markdown",
   "metadata": {
    "id": "SYQ9M9nYI0GD"
   },
   "source": [
    "We are now ready to train the parser. With a GPU, you should expect training times of approximately 3&nbsp;minutes per epoch."
   ]
  },
  {
   "cell_type": "code",
   "execution_count": 24,
   "metadata": {
    "colab": {
     "base_uri": "https://localhost:8080/"
    },
    "id": "GaD9Uyy5I0GD",
    "outputId": "ce256d65-6092-48ef-c173-f5bd21b0fe93"
   },
   "outputs": [
    {
     "name": "stderr",
     "output_type": "stream",
     "text": [
      "Some weights of DistilBertForParsing were not initialized from the model checkpoint at distilbert-base-uncased and are newly initialized: ['biaffine.bias', 'biaffine.weight']\n",
      "You should probably TRAIN this model on a down-stream task to be able to use it for predictions and inference.\n",
      "Epoch 1: 100%|████████████████████████████████████| 12544/12544 [47:15<00:00,  4.42it/s, loss=0.734]\n"
     ]
    }
   ],
   "source": [
    "PARSING_MODEL = train(TRAIN_DATA, n_epochs=1)"
   ]
  },
  {
   "cell_type": "markdown",
   "metadata": {
    "id": "O0naZk6YI0GD"
   },
   "source": [
    "## 🎓 Task 6: Evaluation"
   ]
  },
  {
   "cell_type": "markdown",
   "metadata": {
    "id": "8zegtjfdI0GD"
   },
   "source": [
    "Dependency parsers are commonly evaluated using **unlabelled attachment score (UAS)**, which is the percentage of (non-root) words that have been assigned their correct heads. The following cell contains skeleton code for a function `uas()` that computes this score on a given dataset."
   ]
  },
  {
   "cell_type": "code",
   "execution_count": 25,
   "metadata": {
    "id": "8T5q8whpI0GD"
   },
   "outputs": [],
   "source": [
    "def uas(tokenizer, model, filename, batch_size=8):\n",
    "    # TODO: Replace the following line with your own code\n",
    "    return 0.0"
   ]
  },
  {
   "cell_type": "markdown",
   "metadata": {
    "id": "KLmLXUO4I0GE"
   },
   "source": [
    "Implement the `uas()` function to match the following specification:\n",
    "\n",
    "**uas** (*tokenizer*, *model*, *filename*)\n",
    "\n",
    "> Takes a tokenizer (*tokenizer*), a trained parsing model (*model*), and the filename of a dataset in the CoNLLU format (*filename*) and returns the unlabelled attachment score of the model on the tokenised dataset."
   ]
  },
  {
   "cell_type": "code",
   "execution_count": 26,
   "metadata": {
    "id": "WHVwT3vBiNO3"
   },
   "outputs": [],
   "source": [
    "\n",
    "def uas(tokenizer, model, filename, batch_size=8):\n",
    "    dataset = ParserDataset(filename)\n",
    "    data_loader = DataLoader(\n",
    "        dataset,\n",
    "        batch_size=batch_size,\n",
    "        collate_fn=ParserBatcher(tokenizer, device=DEVICE),\n",
    "        shuffle=False\n",
    "    )\n",
    "    model.eval()\n",
    "    total = 0\n",
    "    correct = 0\n",
    "    with torch.no_grad():\n",
    "        for encoded_input, _, gold_heads in data_loader:\n",
    "            arc_scores = model(encoded_input, _)\n",
    "            predicted_heads = arc_scores.argmax(dim=-1)\n",
    "            mask = gold_heads != -100\n",
    "            correct += ((predicted_heads == gold_heads) & mask).sum().item()\n",
    "            total += mask.sum().item()\n",
    "    return correct / total if total else 0.0"
   ]
  },
  {
   "cell_type": "markdown",
   "metadata": {
    "id": "onIZBfNXI0GE"
   },
   "source": [
    "**⚠️ Note that pseudo-words corresponding to padding must be excluded from the calculation of the UAS.**"
   ]
  },
  {
   "cell_type": "markdown",
   "metadata": {
    "id": "xrhft13iI0GE"
   },
   "source": [
    "The code in the following cell evaluates the trained parser on the development section of the data:"
   ]
  },
  {
   "cell_type": "code",
   "execution_count": 27,
   "metadata": {
    "colab": {
     "base_uri": "https://localhost:8080/"
    },
    "id": "5WI3_DdUI0GE",
    "outputId": "4ad44528-a422-4391-f84c-cbfa38b8de47"
   },
   "outputs": [
    {
     "data": {
      "text/plain": [
       "0.8818243270110143"
      ]
     },
     "execution_count": 27,
     "metadata": {},
     "output_type": "execute_result"
    }
   ],
   "source": [
    "uas(TOKENIZER, PARSING_MODEL, \"en_ewt-ud-dev.conllu\")"
   ]
  },
  {
   "cell_type": "markdown",
   "metadata": {
    "id": "tow9D0XVI0GE"
   },
   "source": [
    "**Your notebook must contain output demonstrating at least 86% UAS on the development data.**"
   ]
  },
  {
   "cell_type": "markdown",
   "metadata": {
    "id": "Dkoq3TIRI0GE"
   },
   "source": [
    "**🥳 Congratulations on finishing this lab! 🥳**"
   ]
  },
  {
   "cell_type": "code",
   "execution_count": null,
   "metadata": {},
   "outputs": [],
   "source": []
  }
 ],
 "metadata": {
  "accelerator": "GPU",
  "colab": {
   "provenance": []
  },
  "kernelspec": {
   "display_name": "Python 3 (ipykernel)",
   "language": "python",
   "name": "python3"
  },
  "language_info": {
   "codemirror_mode": {
    "name": "ipython",
    "version": 3
   },
   "file_extension": ".py",
   "mimetype": "text/x-python",
   "name": "python",
   "nbconvert_exporter": "python",
   "pygments_lexer": "ipython3",
   "version": "3.10.12"
  }
 },
 "nbformat": 4,
 "nbformat_minor": 4
}
