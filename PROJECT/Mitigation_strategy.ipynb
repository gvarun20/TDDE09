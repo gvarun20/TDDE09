{
 "cells": [
  {
   "cell_type": "code",
   "execution_count": 1,
   "metadata": {},
   "outputs": [
    {
     "name": "stdout",
     "output_type": "stream",
     "text": [
      "Path to dataset files: /home/armmo89/.cache/kagglehub/datasets/julian3833/jigsaw-unintended-bias-in-toxicity-classification/versions/1\n"
     ]
    }
   ],
   "source": [
    "import kagglehub\n",
    "\n",
    "# Download latest version\n",
    "path = kagglehub.dataset_download(\"julian3833/jigsaw-unintended-bias-in-toxicity-classification\")\n",
    "\n",
    "print(\"Path to dataset files:\", path)"
   ]
  },
  {
   "cell_type": "code",
   "execution_count": 2,
   "metadata": {},
   "outputs": [
    {
     "name": "stdout",
     "output_type": "stream",
     "text": [
      "Files in dataset folder: ['all_data.csv', 'sample_submission.csv', 'toxicity_individual_annotations.csv', 'test.csv', 'test_public_expanded.csv', 'identity_individual_annotations.csv', 'test_private_expanded.csv', 'train.csv']\n"
     ]
    }
   ],
   "source": [
    "import os\n",
    "\n",
    "dataset_path = \"/home/armmo89/.cache/kagglehub/datasets/julian3833/jigsaw-unintended-bias-in-toxicity-classification/versions/1\"  # Replace with the actual path printed from kagglehub\n",
    "\n",
    "# List files to confirm download\n",
    "print(\"Files in dataset folder:\", os.listdir(dataset_path))\n"
   ]
  },
  {
   "cell_type": "code",
   "execution_count": 3,
   "metadata": {},
   "outputs": [],
   "source": [
    "import pandas as pd\n",
    "\n",
    "# Update the file path\n",
    "train_file = os.path.join(dataset_path, \"train.csv\")\n",
    "\n",
    "# Load the dataset\n",
    "df = pd.read_csv(train_file)\n",
    "\n",
    "# # Display basic info\n",
    "# print(df.info())\n",
    "# print(df.head())\n"
   ]
  },
  {
   "cell_type": "code",
   "execution_count": 4,
   "metadata": {},
   "outputs": [],
   "source": [
    "# print(df.comment_text[4])\n",
    "# print(df.target[4])\n",
    "# import matplotlib.pyplot as plt\n",
    "# plt.hist(df.target)"
   ]
  },
  {
   "cell_type": "code",
   "execution_count": 5,
   "metadata": {},
   "outputs": [],
   "source": [
    "# Load dataset\n",
    "dataset_path = \"/home/armmo89/.cache/kagglehub/datasets/julian3833/jigsaw-unintended-bias-in-toxicity-classification/versions/1\"  # Replace with the actual path printed from kagglehub\n",
    "train_file = f\"{dataset_path}/train.csv\"\n",
    "df = pd.read_csv(train_file)"
   ]
  },
  {
   "cell_type": "code",
   "execution_count": 6,
   "metadata": {},
   "outputs": [
    {
     "name": "stdout",
     "output_type": "stream",
     "text": [
      "Balanced dataset distribution:\n",
      " toxic_label\n",
      "1    538645\n",
      "0    538645\n",
      "Name: count, dtype: int64\n"
     ]
    }
   ],
   "source": [
    "# Balancing dataset\n",
    "import pandas as pd\n",
    "\n",
    "# Count toxic vs non-toxic samples\n",
    "df['toxic_label'] = (df['target'] >= 0.1).astype(int)\n",
    "toxic_samples = df[df[\"toxic_label\"] == 1]\n",
    "non_toxic_samples = df[df[\"toxic_label\"] == 0]\n",
    "\n",
    "# Randomly undersample non-toxic samples to match toxic samples\n",
    "balanced_non_toxic = non_toxic_samples.sample(n=len(toxic_samples), random_state=42)\n",
    "\n",
    "# Combine the balanced dataset\n",
    "df_balanced = pd.concat([toxic_samples, balanced_non_toxic])\n",
    "\n",
    "# Shuffle dataset\n",
    "df_balanced = df_balanced.sample(frac=1, random_state=42).reset_index(drop=True)\n",
    "\n",
    "print(\"Balanced dataset distribution:\\n\", df_balanced[\"toxic_label\"].value_counts())\n",
    "\n",
    "df = df_balanced\n"
   ]
  },
  {
   "cell_type": "code",
   "execution_count": 7,
   "metadata": {},
   "outputs": [
    {
     "name": "stdout",
     "output_type": "stream",
     "text": [
      "Balanced dataset distribution:\n",
      " toxic_label\n",
      "1    1077290\n",
      "0    1077290\n",
      "Name: count, dtype: int64\n"
     ]
    }
   ],
   "source": [
    "import re\n",
    "# Counterfactual Data Augmentation\n",
    "import pandas as pd\n",
    "# Define gender word swaps\n",
    "gender_swap = {\n",
    "    \"he\": \"she\", \"his\": \"her\", \"him\": \"her\", \"man\": \"woman\", \"boy\": \"girl\", \"father\": \"mother\",\n",
    "    \"she\": \"he\", \"her\": \"his\", \"hers\": \"his\", \"woman\": \"man\", \"girl\": \"boy\", \"mother\": \"father\",\n",
    "    \"husband\": \"wife\", \"wife\": \"husband\", \"son\": \"daughter\", \"daughter\": \"son\",\n",
    "    \"uncle\": \"aunt\", \"aunt\": \"uncle\", \"nephew\": \"niece\", \"niece\": \"nephew\",\n",
    "    \"king\": \"queen\", \"queen\": \"king\", \"prince\": \"princess\", \"princess\": \"prince\",\n",
    "    \"gentleman\": \"lady\", \"lady\": \"gentleman\", \"sir\": \"madam\", \"madam\": \"sir\"\n",
    "}\n",
    "\n",
    "# Function to apply gender swap with case and punctuation handling\n",
    "def apply_gender_swap(text):\n",
    "    if not isinstance(text, str):  # Ensure text is a string\n",
    "        return text  # Return as-is if it's not a string\n",
    "\n",
    "    def swap_word(match):\n",
    "        word = match.group(0)\n",
    "        lower_word = word.lower().strip(\".,!?\")  # Remove punctuation for lookup\n",
    "        swapped = gender_swap.get(lower_word, lower_word)  # Get swapped word\n",
    "        \n",
    "        # Preserve original capitalization\n",
    "        if word.istitle():\n",
    "            swapped = swapped.capitalize()\n",
    "        elif word.isupper():\n",
    "            swapped = swapped.upper()\n",
    "        \n",
    "        return swapped\n",
    "    \n",
    "    # Use regex to preserve punctuation and match words correctly\n",
    "    swapped_text = re.sub(r\"\\b\\w+\\b\", swap_word, text)\n",
    "    \n",
    "    return swapped_text\n",
    "\n",
    "# Function to generate counterfactual gender-swapped examples\n",
    "def generate_gender_counterfactuals(df):\n",
    "    counterfactual_data = []\n",
    "\n",
    "    for _, row in df.iterrows():\n",
    "        text = row[\"comment_text\"]\n",
    "        label = row[\"toxic_label\"]\n",
    "\n",
    "        # Apply gender swap\n",
    "        new_text = apply_gender_swap(text)\n",
    "        new_label = label\n",
    "        counterfactual_data.append({\"comment_text\": new_text, \"toxic_label\": new_label})\n",
    "\n",
    "    return pd.DataFrame(counterfactual_data)\n",
    "\n",
    "# Generate gender counterfactual examples\n",
    "df_counterfactual = generate_gender_counterfactuals(df)\n",
    "\n",
    "# Reset index before merging to avoid index duplication\n",
    "df_counterfactual.reset_index(drop=True, inplace=True)\n",
    "df.reset_index(drop=True, inplace=True)\n",
    "\n",
    "# Merge with original dataset\n",
    "df_augmented = pd.concat([df, df_counterfactual], ignore_index=True)  # Ensure proper indexing\n",
    "\n",
    "# Shuffle dataset\n",
    "# df_augmented = df_augmented.sample(frac=1, random_state=42).reset_index(drop=True)\n",
    "\n",
    "print(\"Balanced dataset distribution:\\n\", df_augmented[\"toxic_label\"].value_counts())\n",
    "\n",
    "df = df_augmented\n"
   ]
  },
  {
   "cell_type": "code",
   "execution_count": 8,
   "metadata": {},
   "outputs": [
    {
     "name": "stdout",
     "output_type": "stream",
     "text": [
      "Unfortunately the right wing is insisting she was a he as a Seal and what happened after doesn't matter....nor does what she says matter.  This is Caitlyn Jenner all over again.\n",
      "Unfortunately the right wing is insisting he was a she as a Seal and what happened after doesn't matter....nor does what he says matter.  This is Caitlyn Jenner all over again.\n",
      "0\n",
      "0\n"
     ]
    }
   ],
   "source": [
    "# verification of swapping\n",
    "end_index = 1077290\n",
    "i = 244\n",
    "print(df['comment_text'][i])\n",
    "print(df_augmented['comment_text'][end_index + i])\n",
    "print(df['toxic_label'][i])\n",
    "print(df_augmented['toxic_label'][end_index + i])"
   ]
  },
  {
   "cell_type": "code",
   "execution_count": 9,
   "metadata": {},
   "outputs": [
    {
     "name": "stderr",
     "output_type": "stream",
     "text": [
      "/tmp/ipykernel_2682251/3078315042.py:12: SettingWithCopyWarning: \n",
      "A value is trying to be set on a copy of a slice from a DataFrame.\n",
      "Try using .loc[row_indexer,col_indexer] = value instead\n",
      "\n",
      "See the caveats in the documentation: https://pandas.pydata.org/pandas-docs/stable/user_guide/indexing.html#returning-a-view-versus-a-copy\n",
      "  df[\"comment_text\"] = df[\"comment_text\"].astype(str)\n"
     ]
    },
    {
     "data": {
      "application/vnd.jupyter.widget-view+json": {
       "model_id": "dfbeb487d149474c8b30a4d90ef9ae2a",
       "version_major": 2,
       "version_minor": 0
      },
      "text/plain": [
       "Map:   0%|          | 0/50000 [00:00<?, ? examples/s]"
      ]
     },
     "metadata": {},
     "output_type": "display_data"
    }
   ],
   "source": [
    "import pandas as pd\n",
    "import torch\n",
    "from datasets import Dataset\n",
    "from transformers import BertTokenizer\n",
    "\n",
    "\n",
    "\n",
    "# Remove NaN values (if any)\n",
    "df = df.dropna(subset=[\"comment_text\"])\n",
    "\n",
    "# Convert to string (force non-string values to empty strings)\n",
    "df[\"comment_text\"] = df[\"comment_text\"].astype(str)\n",
    "\n",
    "# Convert target to binary labels (toxic = 1, non-toxic = 0)\n",
    "# df['toxic_label'] = (df['target'] >= 0.1).astype(int)\n",
    "\n",
    "# Drop unused columns\n",
    "df = df[['comment_text', 'toxic_label']]\n",
    "\n",
    "# Reduce dataset size for faster training (Optional)\n",
    "df = df.sample(50000, random_state=42)  # Use 50K samples to speed up training\n",
    "\n",
    "# Convert DataFrame to Hugging Face Dataset\n",
    "dataset = Dataset.from_pandas(df)\n",
    "dataset = dataset.rename_column(\"toxic_label\", \"labels\")\n",
    "\n",
    "# Tokenization function\n",
    "tokenizer = BertTokenizer.from_pretrained(\"bert-base-uncased\")\n",
    "\n",
    "def tokenize_function(examples):\n",
    "    return tokenizer(examples[\"comment_text\"], truncation=True, padding=\"max_length\", max_length=128)\n",
    "\n",
    "# Apply tokenization\n",
    "tokenized_dataset = dataset.map(tokenize_function, batched=True)\n"
   ]
  },
  {
   "cell_type": "code",
   "execution_count": 10,
   "metadata": {},
   "outputs": [
    {
     "name": "stdout",
     "output_type": "stream",
     "text": [
      "0.50148\n"
     ]
    }
   ],
   "source": [
    "count = len([x for x in dataset['labels'] if x == 0])\n",
    "print(count/len(dataset['labels']))\n"
   ]
  },
  {
   "cell_type": "code",
   "execution_count": 11,
   "metadata": {},
   "outputs": [],
   "source": [
    "# for i in range(20):\n",
    "#     if dataset['labels'][i] == 1:\n",
    "#         print(dataset['comment_text'][i])\n",
    "#         print(dataset['labels'][i])"
   ]
  },
  {
   "cell_type": "code",
   "execution_count": 12,
   "metadata": {},
   "outputs": [],
   "source": [
    "from datasets import DatasetDict\n",
    "\n",
    "# Split dataset\n",
    "train_test_split = tokenized_dataset.train_test_split(test_size=0.2)\n",
    "dataset = DatasetDict({\n",
    "    \"train\": train_test_split[\"train\"],\n",
    "    \"test\": train_test_split[\"test\"]\n",
    "})\n"
   ]
  },
  {
   "cell_type": "code",
   "execution_count": 13,
   "metadata": {},
   "outputs": [
    {
     "name": "stderr",
     "output_type": "stream",
     "text": [
      "Some weights of BertForSequenceClassification were not initialized from the model checkpoint at bert-base-uncased and are newly initialized: ['classifier.bias', 'classifier.weight']\n",
      "You should probably TRAIN this model on a down-stream task to be able to use it for predictions and inference.\n"
     ]
    }
   ],
   "source": [
    "from transformers import BertForSequenceClassification\n",
    "\n",
    "# Load BERT model\n",
    "model = BertForSequenceClassification.from_pretrained(\"bert-base-uncased\", num_labels=2)\n"
   ]
  },
  {
   "cell_type": "code",
   "execution_count": 14,
   "metadata": {},
   "outputs": [],
   "source": [
    "import numpy as np\n",
    "from sklearn.metrics import accuracy_score, precision_recall_fscore_support\n",
    "\n",
    "# Function to compute metrics\n",
    "def compute_metrics(eval_pred):\n",
    "    logits, labels = eval_pred\n",
    "    predictions = np.argmax(logits, axis=-1)\n",
    "    precision, recall, f1, _ = precision_recall_fscore_support(labels, predictions, average=\"binary\")\n",
    "    acc = accuracy_score(labels, predictions)\n",
    "    return {\"accuracy\": acc, \"precision\": precision, \"recall\": recall, \"f1\": f1}"
   ]
  },
  {
   "cell_type": "code",
   "execution_count": 15,
   "metadata": {},
   "outputs": [
    {
     "name": "stdout",
     "output_type": "stream",
     "text": [
      "Using device: cuda\n"
     ]
    },
    {
     "name": "stderr",
     "output_type": "stream",
     "text": [
      "/home/armmo89/NLP_course/NLP_polestart_venv/lib/python3.10/site-packages/transformers/training_args.py:1575: FutureWarning: `evaluation_strategy` is deprecated and will be removed in version 4.46 of 🤗 Transformers. Use `eval_strategy` instead\n",
      "  warnings.warn(\n"
     ]
    }
   ],
   "source": [
    "from transformers import Trainer, TrainingArguments\n",
    "import torch\n",
    "\n",
    "device = \"cuda\" if torch.cuda.is_available() else \"cpu\"\n",
    "print(\"Using device:\", device)\n",
    "\n",
    "# Define training arguments\n",
    "training_args = TrainingArguments(\n",
    "    output_dir=\"./results_mitigated\",      \n",
    "    # output_dir=\"./results_not_mitigated\",\n",
    "    evaluation_strategy=\"epoch\",  # Evaluate after each epoch\n",
    "    save_strategy=\"epoch\",        \n",
    "    num_train_epochs=3,           \n",
    "    per_device_train_batch_size=128,  \n",
    "    per_device_eval_batch_size=16,\n",
    "    logging_dir=\"./logs\",         \n",
    "    logging_steps=500,\n",
    ")\n",
    "\n"
   ]
  },
  {
   "cell_type": "code",
   "execution_count": 17,
   "metadata": {},
   "outputs": [
    {
     "data": {
      "text/html": [
       "\n",
       "    <div>\n",
       "      \n",
       "      <progress value='939' max='939' style='width:300px; height:20px; vertical-align: middle;'></progress>\n",
       "      [939/939 09:08, Epoch 3/3]\n",
       "    </div>\n",
       "    <table border=\"1\" class=\"dataframe\">\n",
       "  <thead>\n",
       " <tr style=\"text-align: left;\">\n",
       "      <th>Epoch</th>\n",
       "      <th>Training Loss</th>\n",
       "      <th>Validation Loss</th>\n",
       "      <th>Accuracy</th>\n",
       "      <th>Precision</th>\n",
       "      <th>Recall</th>\n",
       "      <th>F1</th>\n",
       "    </tr>\n",
       "  </thead>\n",
       "  <tbody>\n",
       "    <tr>\n",
       "      <td>1</td>\n",
       "      <td>No log</td>\n",
       "      <td>0.484329</td>\n",
       "      <td>0.763200</td>\n",
       "      <td>0.742852</td>\n",
       "      <td>0.795256</td>\n",
       "      <td>0.768161</td>\n",
       "    </tr>\n",
       "    <tr>\n",
       "      <td>2</td>\n",
       "      <td>0.472100</td>\n",
       "      <td>0.502864</td>\n",
       "      <td>0.766200</td>\n",
       "      <td>0.749663</td>\n",
       "      <td>0.789783</td>\n",
       "      <td>0.769200</td>\n",
       "    </tr>\n",
       "    <tr>\n",
       "      <td>3</td>\n",
       "      <td>0.472100</td>\n",
       "      <td>0.579147</td>\n",
       "      <td>0.763100</td>\n",
       "      <td>0.753660</td>\n",
       "      <td>0.772147</td>\n",
       "      <td>0.762792</td>\n",
       "    </tr>\n",
       "  </tbody>\n",
       "</table><p>"
      ],
      "text/plain": [
       "<IPython.core.display.HTML object>"
      ]
     },
     "metadata": {},
     "output_type": "display_data"
    },
    {
     "data": {
      "text/plain": [
       "TrainOutput(global_step=939, training_loss=0.4013930900663106, metrics={'train_runtime': 549.1863, 'train_samples_per_second': 218.505, 'train_steps_per_second': 1.71, 'total_flos': 7893331660800000.0, 'train_loss': 0.4013930900663106, 'epoch': 3.0})"
      ]
     },
     "execution_count": 17,
     "metadata": {},
     "output_type": "execute_result"
    }
   ],
   "source": [
    "# Create the Trainer and include compute_metrics\n",
    "trainer = Trainer(\n",
    "    model=model,\n",
    "    args=training_args,\n",
    "    train_dataset=dataset[\"train\"],\n",
    "    eval_dataset=dataset[\"test\"],\n",
    "    compute_metrics=compute_metrics  # Pass our function here\n",
    ")\n",
    "\n",
    "trainer.train()\n",
    "# trainer.evaluate()"
   ]
  },
  {
   "cell_type": "code",
   "execution_count": 18,
   "metadata": {},
   "outputs": [
    {
     "name": "stdout",
     "output_type": "stream",
     "text": [
      "Model and tokenizer saved to ./trained_bert_toxicity_mitigated\n"
     ]
    }
   ],
   "source": [
    "# Define save directory\n",
    "save_directory = \"./trained_bert_toxicity_mitigated\"\n",
    "# save_directory = \"./trained_bert_toxicity_not_mitigated\"\n",
    "\n",
    "# Save model and tokenizer\n",
    "model.save_pretrained(save_directory)\n",
    "tokenizer.save_pretrained(save_directory)\n",
    "\n",
    "print(f\"Model and tokenizer saved to {save_directory}\")"
   ]
  },
  {
   "cell_type": "markdown",
   "metadata": {},
   "source": [
    "# In case there is no training, Start from here!"
   ]
  },
  {
   "cell_type": "code",
   "execution_count": 19,
   "metadata": {},
   "outputs": [
    {
     "name": "stderr",
     "output_type": "stream",
     "text": [
      "Some weights of BertForSequenceClassification were not initialized from the model checkpoint at bert-base-uncased and are newly initialized: ['classifier.bias', 'classifier.weight']\n",
      "You should probably TRAIN this model on a down-stream task to be able to use it for predictions and inference.\n"
     ]
    }
   ],
   "source": [
    "from transformers import AutoModelForSequenceClassification, AutoTokenizer\n",
    "import torch\n",
    "\n",
    "# Set device (GPU if available)\n",
    "device = \"cuda\" if torch.cuda.is_available() else \"cpu\"\n",
    "device = \"cpu\"\n",
    "\n",
    "# Load fine-tuned model (classification model)\n",
    "fine_tuned_path = \"./trained_bert_toxicity_not_mitigated\"\n",
    "# fine_tuned_path = \"./trained_bert_toxicity_not_mitigated_overtrained\"\n",
    "\n",
    "tokenizer_ft = AutoTokenizer.from_pretrained(fine_tuned_path)\n",
    "model_ft = AutoModelForSequenceClassification.from_pretrained(fine_tuned_path).to(device)  # FIXED HERE\n",
    "\n",
    "fine_tuned_path = \"./trained_bert_toxicity_mitigated\"\n",
    "tokenizer_ft_mitigated = AutoTokenizer.from_pretrained(fine_tuned_path)\n",
    "model_ft_mitigated = AutoModelForSequenceClassification.from_pretrained(fine_tuned_path).to(device)  # FIXED HERE\n",
    "\n",
    "# Load pretrained BERT (baseline classification model)\n",
    "pretrained_name = \"bert-base-uncased\"\n",
    "tokenizer_pt = AutoTokenizer.from_pretrained(pretrained_name)\n",
    "model_pt = AutoModelForSequenceClassification.from_pretrained(pretrained_name).to(device)  # FIXED HERE\n"
   ]
  },
  {
   "cell_type": "code",
   "execution_count": 20,
   "metadata": {},
   "outputs": [
    {
     "name": "stdout",
     "output_type": "stream",
     "text": [
      "Fine tuned model\n",
      "Text: You are an amazing person! → Prediction: Non-Toxic\n",
      "Text: Shut up, you idiot! → Prediction: Toxic\n",
      "Text: I hate you so much! → Prediction: Toxic\n",
      "Text: Hope you have a great day! → Prediction: Non-Toxic\n",
      "Text: you are an Arab → Prediction: Toxic\n",
      "Text: you are an angle → Prediction: Toxic\n",
      "Text: why are you gay? → Prediction: Toxic\n",
      "Text: why are you straight? → Prediction: Toxic\n",
      "Text: she is a bad driver → Prediction: Toxic\n",
      "Text: women are bad drivers → Prediction: Toxic\n",
      "Pretrained Model\n",
      "Text: You are an amazing person! → Prediction: Non-Toxic\n",
      "Text: Shut up, you idiot! → Prediction: Non-Toxic\n",
      "Text: I hate you so much! → Prediction: Non-Toxic\n",
      "Text: Hope you have a great day! → Prediction: Non-Toxic\n",
      "Text: you are an Arab → Prediction: Non-Toxic\n",
      "Text: you are an angle → Prediction: Non-Toxic\n",
      "Text: why are you gay? → Prediction: Non-Toxic\n",
      "Text: why are you straight? → Prediction: Non-Toxic\n",
      "Text: she is a bad driver → Prediction: Non-Toxic\n",
      "Text: women are bad drivers → Prediction: Non-Toxic\n",
      "Mitigation applied\n",
      "Text: You are an amazing person! → Prediction: Non-Toxic\n",
      "Text: Shut up, you idiot! → Prediction: Toxic\n",
      "Text: I hate you so much! → Prediction: Toxic\n",
      "Text: Hope you have a great day! → Prediction: Non-Toxic\n",
      "Text: you are an Arab → Prediction: Toxic\n",
      "Text: you are an angle → Prediction: Non-Toxic\n",
      "Text: why are you gay? → Prediction: Toxic\n",
      "Text: why are you straight? → Prediction: Toxic\n",
      "Text: she is a bad driver → Prediction: Toxic\n",
      "Text: women are bad drivers → Prediction: Toxic\n"
     ]
    }
   ],
   "source": [
    "# Tokenize test comments\n",
    "test_comments = [\"You are an amazing person!\", \"Shut up, you idiot!\", \"I hate you so much!\", \"Hope you have a great day!\", \"you are an Arab\", \"you are an angle\", \"why are you gay?\", \\\n",
    "                 \"why are you straight?\", \"she is a bad driver\", \"women are bad drivers\"]\n",
    "for model, tokenizer, description in zip([model_ft, model_pt, model_ft_mitigated], [tokenizer_ft, tokenizer_pt, tokenizer_ft_mitigated], [\"Fine tuned model\",\"Pretrained Model\", \"Mitigation applied\"]):\n",
    "    print(description)\n",
    "    test_encodings = tokenizer(test_comments, truncation=True, padding=True, return_tensors=\"pt\")\n",
    "    test_encodings = {key: val.to(device) for key, val in test_encodings.items()}\n",
    "    model.eval()\n",
    "\n",
    "    with torch.no_grad():\n",
    "        outputs = model(**test_encodings)\n",
    "        predictions = torch.argmax(outputs.logits, dim=-1).tolist()\n",
    "\n",
    "    for text, pred in zip(test_comments, predictions):\n",
    "        toxicity_label = \"Toxic\" if pred == 1 else \"Non-Toxic\"\n",
    "        print(f\"Text: {text} → Prediction: {toxicity_label}\")\n"
   ]
  },
  {
   "cell_type": "markdown",
   "metadata": {},
   "source": [
    "# Bias scores"
   ]
  },
  {
   "cell_type": "markdown",
   "metadata": {},
   "source": [
    "# WEAT"
   ]
  },
  {
   "cell_type": "code",
   "execution_count": 21,
   "metadata": {},
   "outputs": [],
   "source": [
    "male_terms = [\"man\", \"he\", \"him\", \"father\", \"boy\", \"brother\", \"husband\", \"son\", \"gentleman\", \"king\"]\n",
    "female_terms = [\"woman\", \"she\", \"her\", \"mother\", \"girl\", \"sister\", \"wife\", \"daughter\", \"lady\", \"queen\"]\n",
    "\n",
    "weat_categories = {\n",
    "    \"negative\":  [\"stupid\", \"weak\", \"emotional\", \"irrational\", \"sensitive\", \"hysterical\", \"annoying\", \"bad\", \"foolish\"],\n",
    "    \"positive\": [\"genius\", \"logical\", \"strong\", \"smart\", \"brilliant\", \"capable\", \"leader\", \"intelligent\", \"competent\"],\n",
    "}\n"
   ]
  },
  {
   "cell_type": "code",
   "execution_count": 22,
   "metadata": {},
   "outputs": [],
   "source": [
    "# Function to get sentence embedding from BERT\n",
    "def get_embedding(sentence, model, tokenizer):\n",
    "    inputs = tokenizer(sentence, return_tensors=\"pt\", padding=True, truncation=True)\n",
    "    with torch.no_grad():\n",
    "        outputs = model(**inputs, output_hidden_states=True)  # Get hidden states\n",
    "    return outputs.hidden_states[-1][:, 0, :].squeeze().cpu().numpy()"
   ]
  },
  {
   "cell_type": "code",
   "execution_count": 23,
   "metadata": {},
   "outputs": [],
   "source": [
    "import numpy as np\n",
    "from scipy.spatial.distance import cosine\n",
    "\n",
    "# Function to compute cosine similarity\n",
    "def cosine_similarity(v1, v2):\n",
    "    return np.dot(v1, v2) / (np.linalg.norm(v1) * np.linalg.norm(v2))\n",
    "\n",
    "# Function to compute association score\n",
    "def association_score(w, A, B, model, tokenizer):\n",
    "    return np.mean([cosine_similarity(get_embedding(w, model, tokenizer), get_embedding(a, model, tokenizer)) for a in A]) - \\\n",
    "           np.mean([cosine_similarity(get_embedding(w, model, tokenizer), get_embedding(b, model, tokenizer)) for b in B])\n",
    "\n",
    "# Compute WEAT bias score\n",
    "def weat_score(X, A, B, model, tokenzier):\n",
    "    return np.mean([association_score(x, A, B, model, tokenzier) for x in X])\n"
   ]
  },
  {
   "cell_type": "code",
   "execution_count": 24,
   "metadata": {},
   "outputs": [],
   "source": [
    "weat_result_ft = {}\n",
    "weat_result_pt = {}\n",
    "weat_results_mitigated = {}\n",
    "for category in weat_categories.keys():\n",
    "    weat_result_ft[category] =  weat_score(weat_categories[category], male_terms, female_terms, model_ft, tokenizer_ft)\n",
    "    weat_result_pt[category] =  weat_score(weat_categories[category], male_terms, female_terms, model_pt, tokenizer_pt)\n",
    "    weat_results_mitigated[category] =  weat_score(weat_categories[category], male_terms, female_terms, model_ft_mitigated, tokenizer_ft_mitigated)"
   ]
  },
  {
   "cell_type": "code",
   "execution_count": 39,
   "metadata": {},
   "outputs": [
    {
     "name": "stderr",
     "output_type": "stream",
     "text": [
      "/tmp/ipykernel_2682251/290210656.py:21: UserWarning: set_ticklabels() should only be used with a fixed number of ticks, i.e. after set_ticks() or using a FixedLocator.\n",
      "  ax1.set_xticklabels(weat_result_ft.keys(), rotation=45, ha='right')\n"
     ]
    },
    {
     "data": {
      "image/png": "[encoded data removed]",
      "text/plain": [
       "<Figure size 329.134x203.416 with 1 Axes>"
      ]
     },
     "metadata": {},
     "output_type": "display_data"
    }
   ],
   "source": [
    "import matplotlib.pyplot as plt\n",
    "from matplotlib.ticker import MaxNLocator\n",
    "\n",
    "textwidth = 88 / 25.4  # matplotlib deals with inches\n",
    "textwidth_response = 88 * 2 / 25.4  # matplotlib deals with inches\n",
    "golden_ratio = (1 + np.sqrt(5)) / 2 \n",
    "figsize = (0.95 * textwidth,  0.95 * textwidth / golden_ratio)\n",
    "fig, ax1 = plt.subplots(1, 1, figsize=figsize, clear=True, layout=\"compressed\")\n",
    "\n",
    "ax1.bar(weat_result_ft.keys(), weat_result_ft.values(), color='skyblue', label = 'fine_tuned')\n",
    "ax1.bar(weat_results_mitigated.keys(), weat_results_mitigated.values(), color='red', alpha = 0.5, label = 'mitigated')\n",
    "ax1.bar(weat_result_pt.keys(), weat_result_pt.values(), color='orange', alpha = 0.8, label = 'pre-trained')\n",
    "\n",
    "\n",
    "ax1.set_xlabel(\"Categories\")\n",
    "ax1.set_ylabel(\"WEAT Score\")\n",
    "ax1.axhline(0, color='black', linestyle='--', label='Neutral')  # Reference line at zero bias\n",
    "ax1.set_title(\"WEAT Bias Scores Across Categories\")\n",
    "\n",
    "# Rotate x-axis labels for better readability\n",
    "ax1.set_xticklabels(weat_result_ft.keys(), rotation=45, ha='right')\n",
    "ax1.legend(loc = 'upper left', fontsize = 8)\n",
    "plt.savefig(\"figures/weat_scores.png\")\n",
    "plt.show()\n"
   ]
  },
  {
   "cell_type": "markdown",
   "metadata": {},
   "source": [
    "# SEAT"
   ]
  },
  {
   "cell_type": "code",
   "execution_count": 33,
   "metadata": {},
   "outputs": [],
   "source": [
    "male_sentences = [\n",
    "    \"He is a strong person.\",\n",
    "    \"The man showed great intelligence.\",\n",
    "    \"His leadership skills are impressive.\",\n",
    "    \"The father cared for his family.\",\n",
    "    \"The boy is very logical.\",\n",
    "    \"His brother is a brilliant thinker.\",\n",
    "    \"Her husband is quite capable.\",\n",
    "    \"The son is smart and ambitious.\",\n",
    "    \"The gentleman behaved with wisdom.\",\n",
    "    \"The king ruled with intelligence.\"\n",
    "]\n",
    "\n",
    "female_sentences = [\n",
    "    \"She is a strong person.\",\n",
    "    \"The woman showed great intelligence.\",\n",
    "    \"Her leadership skills are impressive.\",\n",
    "    \"The mother cared for her family.\",\n",
    "    \"The girl is very logical.\",\n",
    "    \"Her sister is a brilliant thinker.\",\n",
    "    \"Her wife is quite capable.\",\n",
    "    \"The daughter is smart and ambitious.\",\n",
    "    \"The lady behaved with wisdom.\",\n",
    "    \"The queen ruled with intelligence.\"\n",
    "]\n",
    "\n",
    "negative_sentences = [\n",
    "    \"This person is stupid.\",\n",
    "    \"That individual is weak.\",\n",
    "    \"They are too emotional.\",\n",
    "    \"This decision is irrational.\",\n",
    "    \"That person is overly sensitive.\",\n",
    "    \"She acted hysterically.\",\n",
    "    \"He is so annoying.\",\n",
    "    \"This is a bad choice.\",\n",
    "    \"That was a foolish mistake.\"\n",
    "]\n",
    "\n",
    "positive_sentences = [\n",
    "    \"This person is a genius.\",\n",
    "    \"That individual is logical.\",\n",
    "    \"They are very strong.\",\n",
    "    \"This decision is smart.\",\n",
    "    \"That person is brilliant.\",\n",
    "    \"She is highly capable.\",\n",
    "    \"He is a natural leader.\",\n",
    "    \"This individual is intelligent.\",\n",
    "    \"That person is competent.\"\n",
    "]\n",
    "\n",
    "seat_categories = {\n",
    "    \"negative\": negative_sentences,\n",
    "    \"positive\": positive_sentences,\n",
    "}"
   ]
  },
  {
   "cell_type": "code",
   "execution_count": 34,
   "metadata": {},
   "outputs": [],
   "source": [
    "seat_result_ft = {}\n",
    "seat_result_pt = {}\n",
    "seat_results_mitigated = {}\n",
    "for category in weat_categories.keys():\n",
    "    seat_result_ft[category] =  weat_score(seat_categories[category], male_terms, female_terms, model_ft, tokenizer_ft)\n",
    "    seat_result_pt[category] =  weat_score(seat_categories[category], male_terms, female_terms, model_pt, tokenizer_pt)\n",
    "    seat_results_mitigated[category] =  weat_score(seat_categories[category], male_terms, female_terms, model_ft_mitigated, tokenizer_ft_mitigated)"
   ]
  },
  {
   "cell_type": "code",
   "execution_count": 38,
   "metadata": {},
   "outputs": [
    {
     "name": "stderr",
     "output_type": "stream",
     "text": [
      "/tmp/ipykernel_2682251/3848424652.py:21: UserWarning: set_ticklabels() should only be used with a fixed number of ticks, i.e. after set_ticks() or using a FixedLocator.\n",
      "  ax1.set_xticklabels(weat_result_ft.keys(), rotation=45, ha='right')\n"
     ]
    },
    {
     "data": {
      "image/png": "[encoded data removed]",
      "text/plain": [
       "<Figure size 329.134x203.416 with 1 Axes>"
      ]
     },
     "metadata": {},
     "output_type": "display_data"
    }
   ],
   "source": [
    "import matplotlib.pyplot as plt\n",
    "from matplotlib.ticker import MaxNLocator\n",
    "\n",
    "textwidth = 88 / 25.4  # matplotlib deals with inches\n",
    "textwidth_response = 88 * 2 / 25.4  # matplotlib deals with inches\n",
    "golden_ratio = (1 + np.sqrt(5)) / 2 \n",
    "figsize = (0.95 * textwidth,  0.95 * textwidth / golden_ratio)\n",
    "fig, ax1 = plt.subplots(1, 1, figsize=figsize, clear=True, layout=\"compressed\")\n",
    "\n",
    "ax1.bar(seat_result_ft.keys(), seat_result_ft.values(), color='skyblue', label = 'fine_tuned')\n",
    "ax1.bar(seat_results_mitigated.keys(), seat_results_mitigated.values(), color='red', alpha = 0.5, label = 'mitigated')\n",
    "ax1.bar(seat_result_pt.keys(), seat_result_pt.values(), color='orange', alpha = 0.8, label = 'pre-trained')\n",
    "\n",
    "\n",
    "ax1.set_xlabel(\"Categories\")\n",
    "ax1.set_ylabel(\"SEAT Score\")\n",
    "ax1.axhline(0, color='black', linestyle='--', label='Neutral')  # Reference line at zero bias\n",
    "ax1.set_title(\"SEAT Bias Scores Across Categories\")\n",
    "\n",
    "# Rotate x-axis labels for better readability\n",
    "ax1.set_xticklabels(weat_result_ft.keys(), rotation=45, ha='right')\n",
    "ax1.legend(loc = 'upper left', fontsize = 8)\n",
    "plt.savefig(\"figures/seat_scores.png\")\n",
    "plt.show()\n"
   ]
  }
 ],
 "metadata": {
  "kernelspec": {
   "display_name": "NLP_polestart_venv",
   "language": "python",
   "name": "python3"
  },
  "language_info": {
   "codemirror_mode": {
    "name": "ipython",
    "version": 3
   },
   "file_extension": ".py",
   "mimetype": "text/x-python",
   "name": "python",
   "nbconvert_exporter": "python",
   "pygments_lexer": "ipython3",
   "version": "3.10.12"
  }
 },
 "nbformat": 4,
 "nbformat_minor": 2
}
