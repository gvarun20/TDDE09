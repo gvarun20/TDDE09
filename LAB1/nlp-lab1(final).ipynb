{
 "cells": [
  {
   "cell_type": "markdown",
   "metadata": {},
   "source": [
    "# Lab 1: Tokenisation and embeddings"
   ]
  },
  {
   "cell_type": "markdown",
   "metadata": {},
   "source": [
    "In this lab, you will build an understanding of how text can be transformed into representations that computers can process and learn from. Specifically, you will explore two key concepts: *tokenisation* and *embeddings*. Tokenisation splits text into smaller units such as words, subwords, or characters. Embeddings are dense, fixed-size vector representations of tokens in a continuous space.\n",
    "\n",
    "*Tasks you can choose for the oral exam are marked with the graduation cap 🎓 emoji.*"
   ]
  },
  {
   "cell_type": "markdown",
   "metadata": {},
   "source": [
    "## Part 1: Tokenisation"
   ]
  },
  {
   "cell_type": "markdown",
   "metadata": {},
   "source": [
    "In the first part of the lab, you will code and analyse a tokeniser based on the Byte Pair Encoding (BPE) algorithm."
   ]
  },
  {
   "cell_type": "markdown",
   "metadata": {},
   "source": [
    "### Utility functions"
   ]
  },
  {
   "cell_type": "markdown",
   "metadata": {},
   "source": [
    "The BPE tokeniser transforms text into a list of integers representing tokens. As a warm-up, you will implement two utility functions on such lists. To simplify things, we define a shorthand for the type of pairs of integers:"
   ]
  },
  {
   "cell_type": "code",
   "execution_count": 7,
   "metadata": {},
   "outputs": [],
   "source": [
    "Pair = tuple[int, int]"
   ]
  },
  {
   "cell_type": "markdown",
   "metadata": {},
   "source": [
    "#### 🎈 Task 1.01: Counting pairs\n",
    "\n",
    "Write a function that counts all occurrences of pairs of consecutive token IDs in a given list. The function should return a dictionary that maps each pair to its count. Skip counts that are zero."
   ]
  },
  {
   "cell_type": "code",
   "execution_count": 8,
   "metadata": {},
   "outputs": [],
   "source": [
    "ids = [1, 2, 3, 2, 1, 2, 3, 1, 2, 3 ,1 , 1, 2, 2, 3, 1, 2]\n",
    "#print(count(ids))"
   ]
  },
  {
   "cell_type": "code",
   "execution_count": 9,
   "metadata": {},
   "outputs": [
    {
     "name": "stdout",
     "output_type": "stream",
     "text": [
      "{(1, 2): 5, (2, 3): 4, (3, 2): 1, (2, 1): 1, (3, 1): 3, (1, 1): 1, (2, 2): 1}\n"
     ]
    }
   ],
   "source": [
    "def count(ids: list[int]) -> dict[Pair, int]:\n",
    "    pair_freqs = {}\n",
    "    \n",
    "    # Iterate through the list of token IDs\n",
    "    for i in range(len(ids) - 1):\n",
    "        pair = (ids[i], ids[i + 1])\n",
    "        pair_freqs[pair] = pair_freqs.get(pair, 0) + 1\n",
    "    \n",
    "    return pair_freqs\n",
    "\n",
    "# Example usage:\n",
    "#ids = [1, 2, 3, 2, 1, 2, 3, 1]\n",
    "print(count(ids))"
   ]
  },
  {
   "cell_type": "markdown",
   "metadata": {},
   "source": [
    "#### 🎈 Task 1.02: Replacing pairs\n",
    "\n",
    "Write a function that replaces all occurrences of a specified pair of consecutive token IDs in a given list by a new ID. The function should return the modified list."
   ]
  },
  {
   "cell_type": "code",
   "execution_count": 10,
   "metadata": {},
   "outputs": [
    {
     "name": "stdout",
     "output_type": "stream",
     "text": [
      "[69, 3, 2, 69, 3, 69, 3, 1, 69, 2, 3, 69]\n"
     ]
    }
   ],
   "source": [
    "def replace(ids: list[int], pair: Pair, new_id: int) -> list[int]:\n",
    "    modified_ids = ids.copy()  # copy of the original list\n",
    "    \n",
    "    i = 0\n",
    "    while i < len(modified_ids) - 1:\n",
    "        if (modified_ids[i], modified_ids[i + 1]) == pair:\n",
    "            # Replace pair with new ID\n",
    "            modified_ids[i : i + 2] = [new_id]\n",
    "        else:\n",
    "            i += 1\n",
    "    \n",
    "    return modified_ids\n",
    "\n",
    "pair = (1, 2)\n",
    "new_id = 69\n",
    "print(replace(ids, pair, new_id))"
   ]
  },
  {
   "cell_type": "markdown",
   "metadata": {},
   "source": [
    "### Encoding and decoding"
   ]
  },
  {
   "cell_type": "markdown",
   "metadata": {},
   "source": [
    "The next cell contains the core code for the tokeniser in the form of a class `Tokenizer`. This class implements two methods: `encode()` converts an input text to a list of token IDs by exhaustively applying rules for merging pairs of consecutive IDs, and `decode()` reverses this process by looking up the tokens corresponding to the token IDs."
   ]
  },
  {
   "cell_type": "code",
   "execution_count": 11,
   "metadata": {},
   "outputs": [],
   "source": [
    "class Tokenizer:\n",
    "    def __init__(self):\n",
    "        self.merges = {}\n",
    "        self.vocab = {i: bytes([i]) for i in range(2**8)}\n",
    "\n",
    "    def encode(self, text):\n",
    "        ids = list(text.encode(\"utf-8\"))\n",
    "        while True:\n",
    "            counts = count(ids)\n",
    "            mergeable_pairs = counts.keys() & self.merges.keys()\n",
    "            if len(mergeable_pairs) == 0:\n",
    "                break\n",
    "            to_merge = min(mergeable_pairs, key=self.merges.get)\n",
    "            ids = replace(ids, to_merge, self.merges[to_merge])\n",
    "        return ids\n",
    "\n",
    "    def decode(self, ids):\n",
    "        return b\"\".join((self.vocab[i] for i in ids)).decode(\"utf-8\")"
   ]
  },
  {
   "cell_type": "markdown",
   "metadata": {},
   "source": [
    "#### 🎓 Task 1.03: Encoding and decoding\n",
    "\n",
    "Explain how the code implements the BPE algorithm. Use the following steps to check your understanding:\n",
    "\n",
    "**Step&nbsp;1.** Annotate the attributes and methods of the `Tokenizer` class with their Python types. In particular, what is the type of `self.merges`? Use the `Pair` shorthand.\n",
    "\n",
    "**Step&nbsp;2.** Explain how the implementation chooses which merge rule to apply. Provide an example that illustrates the logic."
   ]
  },
  {
   "cell_type": "markdown",
   "metadata": {},
   "source": [
    "## It greedily chooses merge rules to apply based on which is added first.self.merge is a dict ,we have used pair in the code ."
   ]
  },
  {
   "cell_type": "markdown",
   "metadata": {},
   "source": [
    "### Training a tokeniser"
   ]
  },
  {
   "cell_type": "markdown",
   "metadata": {},
   "source": [
    "Upon initialisation, a tokeniser has an empty set of merge rules. Your next task is to complete the BPE algorithm and write code to learn these merge rules from a text."
   ]
  },
  {
   "cell_type": "markdown",
   "metadata": {},
   "source": [
    "#### 🎓 Task 1.04: Training a tokeniser\n",
    "\n",
    "Write a function that induces a BPE tokeniser from a given text. The function should take the text (a string) and a target vocabulary size as input and return the trained tokeniser."
   ]
  },
  {
   "cell_type": "code",
   "execution_count": 12,
   "metadata": {},
   "outputs": [],
   "source": [
    "from collections import Counter\n",
    "def from_text(text: str, vocab_size: int) -> Tokenizer:\n",
    "    tokenizer = Tokenizer()\n",
    "    ids = list(text.encode(\"utf-8\"))\n",
    "   \n",
    "    counter = Counter(text)\n",
    "    tokenizer.vocab = list(counter)\n",
    "  #  ids = []\n",
    "#for i in range(len(tokenizer.vocab):\n",
    "  #      ids[i] = ord(tokenizer.vocab[i])\n",
    "    new_idx = 256\n",
    "    while len(tokenizer.vocab) < vocab_size:\n",
    "        counts = count(ids)\n",
    "        if not counts:\n",
    "            break\n",
    "        most_frequent = max(counts, key=counts.get)\n",
    "        #print(most_frequent)\n",
    "        tokenizer.merges[most_frequent] = new_idx\n",
    "        tokenizer.vocab.append( most_frequent[0] + most_frequent[1])\n",
    "        ids = replace(ids, most_frequent, new_idx)\n",
    "        new_idx+=1\n",
    "    return tokenizer"
   ]
  },
  {
   "cell_type": "markdown",
   "metadata": {},
   "source": [
    "To help you test your implementation, we provide three text files together with tokenisers trained on these files. Each text file contains the first 1&nbsp;million Unicode characters in a language-specific Wikipedia:\n",
    "\n",
    "| Text file | Tokeniser file | Wikipedia |\n",
    "|---|---|---|\n",
    "| `wiki-en-1m.txt` | `wiki-en-1m.tok` | [Simple English](https://simple.wikipedia.org/) |\n",
    "| `wiki-is-1m.txt` | `wiki-is-1m.tok` | [Icelandic](https://is.wikipedia.org/) |\n",
    "| `wiki-sv-1m.txt` | `wiki-sv-1m.tok` | [Swedish](https://sv.wikipedia.org/) |\n",
    "\n",
    "A tokeniser file consists of lines specifying merge rules. For example, the first line in the tokeniser file for Swedish is `101 114`, which expresses that this rule combines the token with ID 101 (`e`) and the token with ID 114 (`r`). The ID of the new token (`er`) is 256 plus the (zero-indexed) line number on which the rule is found. The following code saves a `Tokenizer` to a file with this format:"
   ]
  },
  {
   "cell_type": "code",
   "execution_count": null,
   "metadata": {},
   "outputs": [],
   "source": [
    "def train_on_wikipedia(file_path: str, vocab_size: int) -> Tokenizer:\n",
    "    #with open(file_path, \"r\", encoding=\"utf-8\") as file:\n",
    "        #text = file.read()\n",
    "    text = open(\"wiki-en-1m.txt\",'r').read()\n",
    "    \n",
    "    return from_text(text, vocab_size)"
   ]
  },
  {
   "cell_type": "code",
   "execution_count": null,
   "metadata": {},
   "outputs": [],
   "source": [
    "def train_on_wikipedia(file_path: str, vocab_size: int) -> Tokenizer:\n",
    "    #with open(file_path, \"r\", encoding=\"utf-8\") as file:\n",
    "        #text = file.read()\n",
    "    text = open(\"wiki-is-lm.txt\",'r').read()\n",
    "    \n",
    "    return from_text(text, vocab_size)"
   ]
  },
  {
   "cell_type": "code",
   "execution_count": null,
   "metadata": {},
   "outputs": [],
   "source": [
    "def save(tokenizer: Tokenizer, filename: str) -> None:\n",
    "    with open(filename, \"w\") as f:\n",
    "        for fst, snd in tokenizer.merges:\n",
    "            print(f\"{fst} {snd}\", file=f)"
   ]
  },
  {
   "cell_type": "markdown",
   "metadata": {},
   "source": [
    "To test your code, compare the saved tokeniser to the provided tokeniser using `diff`."
   ]
  },
  {
   "cell_type": "markdown",
   "metadata": {},
   "source": [
    "### Tokenisation quirks\n",
    "\n",
    "The tokeniser is a key component of language models, as it defines the minimal chunks of text the model can “see” and work with. As you will see in this section, tokenisation is also responsible for several deficiencies and unexpected behaviours of language models.\n",
    "\n",
    "One helpful tool for experimenting with tokenisers in language models is the web app [Tiktokenizer](https://tiktokenizer.vercel.app/). This app lets you play around with, among others, [`cl100k_base`](https://tiktokenizer.vercel.app/?model=cl100k_base), the tokeniser used in the free version of ChatGPT and OpenAI’s APIs, and [`o200k_base`](https://tiktokenizer.vercel.app/?model=o200k_base), used in GPT-4o."
   ]
  },
  {
   "cell_type": "markdown",
   "metadata": {},
   "source": [
    "#### 🎓 Task 1.05: Tokenisation quirks\n",
    "\n",
    "Prompt [ChatGPT](https://chatgpt.com/) to reverse the letters in the following words:\n",
    "\n",
    "```\n",
    "creativecommons\n",
    "MERCHANTABILITY\n",
    "NSNotification\n",
    "authentication\n",
    "```\n",
    "\n",
    "How many of these words come out right? What could be the problem when words come out wrong? Generate ideas by inspecting the words in Tiktokenizer. Try to come up with other prompts that illustrate problems related to tokenisation."
   ]
  },
  {
   "cell_type": "markdown",
   "metadata": {},
   "source": [
    "## The Words show as one token in tiktokenizer. We had a theory that maybe chatgpt would have trouble with Composite Words, e.g. swimsuit, meatball, popcorn etc. However, it handled these well, even though they show up as >=2 tokens in tiktokenizer. However, chatgpt showed more issues when trying to reverse Words that were randomly capitalised, possibly because that increases the number of tokens further, as shown by tiktokenizer."
   ]
  },
  {
   "cell_type": "code",
   "execution_count": 6,
   "metadata": {},
   "outputs": [
    {
     "name": "stdout",
     "output_type": "stream",
     "text": [
      "/bin/bash: -c: line 1: syntax error near unexpected token `home/vargu125/TDDE09/Lab1/image.png'\n",
      "/bin/bash: -c: line 1: `[title](home/vargu125/TDDE09/Lab1/image.png)'\n"
     ]
    }
   ],
   "source": [
    "![title](image.png)"
   ]
  },
  {
   "cell_type": "code",
   "execution_count": null,
   "metadata": {},
   "outputs": [],
   "source": []
  },
  {
   "cell_type": "markdown",
   "metadata": {},
   "source": [
    "### Tokenisation and multi-linguality\n",
    "\n",
    "Many NLP systems and the tokenisers used with them are primarily trained on English data. In the next task, you will reflect on the effect this has when they are used to process non-English data.\n",
    "\n",
    "The *context length* of a language model is the maximum number of preceding tokens the model can condition on when predicting the next token. This number is fixed and cannot be changed after training the model. For example, the context length of GPT-2 ([Radford et al., 2019](https://cdn.openai.com/better-language-models/language_models_are_unsupervised_multitask_learners.pdf)) is 1,024. \n",
    "\n",
    "While the context length of a language model is fixed, the amount of information that can be squeezed into this context length will depend on the tokeniser. Informally speaking, a model that needs more tokens to represent a given text cannot condition on as much information as one that needs fewer tokens."
   ]
  },
  {
   "cell_type": "markdown",
   "metadata": {},
   "source": [
    "#### 🎓 Task 1.06: Tokenisation and multi-linguality\n",
    "\n",
    "Train a tokeniser on the English text file from Task&nbsp;1.04 and test it on the same text. How many tokens does it split the text into? Based on this, what is the expected number of Unicode characters of English text that can be fit into a context length of 1,024?\n",
    "\n",
    "What do the numbers look like if you test the English tokeniser on the Icelandic text instead? What could explain the differences?\n",
    "\n",
    "Interpreting the expected number of Unicode characters as a measure of representation efficiency, what do your results tell you about the efficiency of a language model primarily trained on English data when it is used to process non-English data? Why are these findings relevant?"
   ]
  },
  {
   "cell_type": "code",
   "execution_count": null,
   "metadata": {},
   "outputs": [],
   "source": []
  },
  {
   "cell_type": "markdown",
   "metadata": {},
   "source": [
    "## Part 2: Embeddings"
   ]
  },
  {
   "cell_type": "markdown",
   "metadata": {},
   "source": [
    "In the second part of the lab, you will explore embeddings. An embedding layer is a network component that assigns each item in a finite set of elements (often called a *vocabulary*) a fixed-size vector. At first, these vectors are filled with random values, but during training, they are adjusted to suit the task at hand."
   ]
  },
  {
   "cell_type": "markdown",
   "metadata": {},
   "source": [
    "### Bag-of-words classifier"
   ]
  },
  {
   "cell_type": "markdown",
   "metadata": {},
   "source": [
    "To help you build an intuition for embeddings and the vector representations learned by them, we will use a simple bag-of-words text classifier. The core part of this classifier only takes a few lines of code:"
   ]
  },
  {
   "cell_type": "code",
   "execution_count": null,
   "metadata": {},
   "outputs": [],
   "source": [
    "import torch.nn as nn\n",
    "\n",
    "\n",
    "class Classifier(nn.Module):\n",
    "    def __init__(self, num_embeddings, embedding_dim, num_classes):\n",
    "        super().__init__()\n",
    "        self.embedding = nn.Embedding(num_embeddings, embedding_dim)\n",
    "        self.linear = nn.Linear(embedding_dim, num_classes)\n",
    "\n",
    "    def forward(self, x):\n",
    "        return self.linear(self.embedding(x).mean(dim=-2))"
   ]
  },
  {
   "cell_type": "markdown",
   "metadata": {},
   "source": [
    "#### 🎈 Task 1.07: Bag-of-words classifier\n",
    "\n",
    "Explain how the bag-of-words classifier works. How does the code match the diagram you saw in the lectures? Why is there only one `nn.Embedding`, while the diagram shows three embedding layers? What does the keyword argument `dim=-2` do?"
   ]
  },
  {
   "cell_type": "markdown",
   "metadata": {},
   "source": [
    "Solution for Task 1.07: The bag-of-words classifier processes text by converting word indices into embeddings, averaging them, and passing the result through a linear layer for classification.\n",
    "\n",
    "Code vs. Diagram: The lecture diagram shows three embedding layers, but the code uses only one nn.Embedding since PyTorch's embedding layer handles multiple words at once. Role of dim=-2: The embedding layer outputs a tensor of shape (batch_size, num_words, embedding_dim). The .mean(dim=-2) operation averages embeddings across words, reducing the shape to (batch_size, embedding_dim), creating a single vector per sentence.\n",
    "\n",
    "This simplifies the representation while maintaining efficiency, making it suitable for text classification tasks where word order is not important.\n"
   ]
  },
  {
   "cell_type": "markdown",
   "metadata": {},
   "source": [
    "### Dataset"
   ]
  },
  {
   "cell_type": "markdown",
   "metadata": {},
   "source": [
    "You will apply the classifier to a small dataset with Amazon customer reviews. This dataset is taken from [a much larger dataset](https://www.cs.jhu.edu/~mdredze/datasets/sentiment/) first described by [Blitzer et al. (2007)](https://aclanthology.org/P07-1056/).\n",
    "\n",
    "The dataset contains whitespace-tokenised product reviews from two topics: cameras (`camera`) and music (`music`). Each review is additionally annotated for sentiment towards the product at hand: negative (`neg`) or positive (`pos`). The topic and sentiment labels are prepended to the review. As an example, here is the first review from the training data:\n",
    "\n",
    "```\n",
    "music neg oh man , this sucks really bad . good thing nu-metal is dead . thrash metal is real metal , this is for posers\n",
    "```\n",
    "\n",
    "The next cell contains a custom [`Dataset`](https://pytorch.org/tutorials/beginner/basics/data_tutorial.html) class for the review dataset. To initialise an instance of this class, you specify the name of the file containing the reviews you want to load (`filename`) and which of the two labels you want to use (`label`): topic (0) or sentiment (1)."
   ]
  },
  {
   "cell_type": "code",
   "execution_count": null,
   "metadata": {},
   "outputs": [],
   "source": [
    "from torch.utils.data import Dataset\n",
    "\n",
    "\n",
    "class ReviewDataset(Dataset):\n",
    "    def __init__(self, filename: str, label: int = 0) -> None:\n",
    "        with open(filename) as f:\n",
    "            tokenized_lines = [line.split() for line in f]\n",
    "        self.items = [(tokens[2:], tokens[label]) for tokens in tokenized_lines]\n",
    "\n",
    "    def __len__(self) -> int:\n",
    "        return len(self.items)\n",
    "\n",
    "    def __getitem__(self, idx: int) -> tuple[list[str], str]:\n",
    "        return self.items[idx]"
   ]
  },
  {
   "cell_type": "markdown",
   "metadata": {},
   "source": [
    "### Vectoriser"
   ]
  },
  {
   "cell_type": "markdown",
   "metadata": {},
   "source": [
    "To feed a review into the bag-of-words classifier, you first need to turn it into a vector of token IDs. Likewise, you need to convert the label (topic or sentiment) into an integer. The next cell contains a partially completed `ReviewVectoriser` class that handles this transformation."
   ]
  },
  {
   "cell_type": "code",
   "execution_count": null,
   "metadata": {},
   "outputs": [],
   "source": [
    "from collections import Counter\n",
    "\n",
    "import torch\n",
    "\n",
    "# Type abbreviation for review–label pairs\n",
    "Item = tuple[list[str], str]\n",
    "\n",
    "\n",
    "class ReviewVectorizer:\n",
    "    PAD = \"[PAD]\"\n",
    "    UNK = \"[UNK]\"\n",
    "\n",
    "    def __init__(self, dataset: ReviewDataset, n_vocab: int = 1024) -> None:\n",
    "        # Unzip the dataset into reviews and labels\n",
    "        reviews, labels = zip(*dataset)\n",
    "\n",
    "        # Count the tokens and get the most common ones\n",
    "        counter = Counter(t for r in reviews for t in r)\n",
    "        most_common = [t for t, _ in counter.most_common(n_vocab - 2)]\n",
    "\n",
    "        # Create the token-to-index and label-to-index mappings\n",
    "        self.t2i = {t: i for i, t in enumerate([self.PAD, self.UNK] + most_common)}\n",
    "        self.l2i = {l: i for i, l in enumerate(sorted(set(labels)))}\n",
    "\n",
    "    def __call__(self, items: list[Item]) -> tuple[torch.Tensor, torch.Tensor]:\n",
    "        reviews, labels = zip(*items)\n",
    "                \n",
    "        # Convert reviews to lists of token IDs, replacing unknown tokens\n",
    "        tokenized_reviews = [[self.t2i.get(t, self.t2i[self.UNK]) for t in review] for review in reviews]\n",
    "        \n",
    "        # Pad the tokenized reviews to the same length\n",
    "        max_len = max(len(r) for r in tokenized_reviews)\n",
    "        padded_reviews = [r + [self.t2i[self.PAD]] * (max_len - len(r)) for r in tokenized_reviews]\n",
    "        \n",
    "        # Convert labels to indices\n",
    "        label_indices = [self.l2i[label] for label in labels]\n",
    "        \n",
    "        return torch.tensor(padded_reviews, dtype=torch.long), torch.tensor(label_indices, dtype=torch.long)"
   ]
  },
  {
   "cell_type": "markdown",
   "metadata": {},
   "source": [
    "A `ReviewVectoriser` maps tokens and labels to IDs using two Python dictionaries. These dictionaries are set up when the vectoriser is initialised and queried when the vectoriser is called on a batch of review–label pairs. They include IDs for two special tokens:\n",
    "\n",
    "`[PAD]` (Padding): Reviews can have different lengths, but PyTorch requires all vectors in a batch to be the same size. To handle this, the vectoriser adds `[PAD]` tokens to the end of shorter reviews so they match the length of the longest review in the batch.\n",
    "\n",
    "`[UNK]` (Unknown): If a review contains a token that is not in the token-to-ID dictionary, the vectoriser assigns it the ID of the `[UNK]` token instead of a regular ID."
   ]
  },
  {
   "cell_type": "markdown",
   "metadata": {},
   "source": [
    "#### 🎓 Task 1.08: Vectoriser\n",
    "\n",
    "Explain and complete the code of the vectoriser. Follow these steps:\n",
    "\n",
    "**Step&nbsp;1.** Explain how unzipping works. What are the types of `reviews` and `labels`?\n",
    "\n",
    "**Step&nbsp;2.** Explain how the token-to-ID and label-to-ID mappings are constructed. How does the `most_common()` method deal with elements that occur equally often?\n",
    "\n",
    "**Step&nbsp;3.** Complete the implementation of the `__call__()` method. This method should convert a list of $m$ review–label pairs into a pair $(X, y)$ where $X$ is a matrix containing the vectors with token IDs for the reviews, and $y$ is a vector containing the IDs of the corresponding labels."
   ]
  },
  {
   "cell_type": "markdown",
   "metadata": {},
   "source": [
    "## Solution for task 1.08 ::: In the ReviewVectorizer class, unzipping the dataset using zip(*dataset) separates the reviews and labels into two tuples: reviews, which contains lists of tokenized words, and labels, which holds the corresponding string labels.\n",
    "\n",
    "# The token-to-ID mapping (t2i) is created by counting token frequencies using Counter, selecting the n_vocab - 2 most common tokens, and assigning each a unique index, along with special tokens [PAD] (for padding)&[UNK] (for unknown words). The label-to-ID mapping (l2i) assigns unique integer IDs to sorted unique labels. If multiple tokens have the same frequency, Python’s most_common() method returns them in order of frequency; in case of equal frequency, it returns the item that it outputs them in the order that they were encountered.\n",
    "\n",
    "# The call() method processes a batch of reviews by converting tokens into integer sequences using t2i, replacing unknown words with [UNK], and padding shorter sequences to match the longest review. Labels are converted into numeric IDs using l2i. Finally, it returns two tensors: X, a padded matrix of tokenized reviews, and y, a vector of label IDs, enabling efficient batch processing for a machine learning model.\n"
   ]
  },
  {
   "cell_type": "markdown",
   "metadata": {},
   "source": [
    "### Training the classifier"
   ]
  },
  {
   "cell_type": "markdown",
   "metadata": {},
   "source": [
    "With the vectoriser completed, you are ready to train a classifier. More specifically, you can train two separate classifiers: one to predict the topic of a review, and one to predict the sentiment. The next cell contains a simple training loop that you can adapt for this purpose."
   ]
  },
  {
   "cell_type": "code",
   "execution_count": null,
   "metadata": {},
   "outputs": [],
   "source": [
    "import torch.nn.functional as F\n",
    "\n",
    "\n",
    "def train(filename: str=\"reviews-train.txt\", learning_rate: float=0.001, batch_size: int=16, num_epochs: int=100):\n",
    "    dataset = ReviewDataset(filename, label=0)\n",
    "    processor = ReviewVectorizer(dataset, 1024)\n",
    "    model = Classifier(1024, 64, len(processor.l2i))\n",
    "    optimizer = torch.optim.Adam(model.parameters(), lr=learning_rate)\n",
    "    data_loader = torch.utils.data.DataLoader(\n",
    "        dataset,\n",
    "        batch_size=batch_size,\n",
    "        shuffle=True,\n",
    "        collate_fn=processor,\n",
    "    )\n",
    "    for epoch in range(num_epochs):\n",
    "        model.train()\n",
    "        running_loss = 0\n",
    "        for bx, by in data_loader:\n",
    "            optimizer.zero_grad()\n",
    "            output = model(bx)\n",
    "            loss = F.cross_entropy(output, by)\n",
    "            loss.backward()\n",
    "            optimizer.step()\n",
    "            running_loss += loss.item()\n",
    "        print(f\"Epoch {epoch}, loss: {running_loss / len(data_loader):.4f}\")\n",
    "    return processor, model"
   ]
  },
  {
   "cell_type": "code",
   "execution_count": null,
   "metadata": {},
   "outputs": [],
   "source": [
    "import torch.nn.functional as F\n",
    "\n",
    "\n",
    "def train(filename: str=\"reviews-train.txt\", learning_rate: float=0.001, batch_size: int=16, num_epochs: int=100):\n",
    "    dataset = ReviewDataset(filename, label=1)\n",
    "    processor = ReviewVectorizer(dataset, 1024)\n",
    "    model = Classifier(1024, 64, len(processor.l2i))\n",
    "    optimizer = torch.optim.Adam(model.parameters(), lr=learning_rate)\n",
    "    data_loader = torch.utils.data.DataLoader(\n",
    "        dataset,\n",
    "        batch_size=batch_size,\n",
    "        shuffle=True,\n",
    "        collate_fn=processor,\n",
    "    )\n",
    "    for epoch in range(num_epochs):\n",
    "        model.train()\n",
    "        running_loss = 0\n",
    "        for bx, by in data_loader:\n",
    "            optimizer.zero_grad()\n",
    "            output = model(bx)\n",
    "            loss = F.cross_entropy(output, by)\n",
    "            loss.backward()\n",
    "            optimizer.step()\n",
    "            running_loss += loss.item()\n",
    "        print(f\"Epoch {epoch}, loss: {running_loss / len(data_loader):.4f}\")\n",
    "    return processor, model"
   ]
  },
  {
   "cell_type": "markdown",
   "metadata": {},
   "source": [
    "#### 🎓 Task 1.09: Training loop\n",
    "\n",
    "Explain the training loop. Follow these steps:\n",
    "\n",
    "**Step&nbsp;1.** Go through the training loop line-by-line and add comments where you find it suitable. Your comments should be detailed enough for you to explain the main steps of the loop.\n",
    "\n",
    "**Step&nbsp;2.** The training loop contains various hard-coded values like filename, learning rate, batch size, and epoch count. This makes the code less flexible. Revise the code so that you can specify these values using keyword arguments. Use the concrete values from the code as defaults."
   ]
  },
  {
   "cell_type": "markdown",
   "metadata": {},
   "source": [
    "#### 🎈 Task 1.10: Training the classifier\n",
    "\n",
    "Adapt the next cell to train the classifier for the two prediction tasks. Based on the loss values, which task appears to be the harder one? What is the purpose of setting a seed?"
   ]
  },
  {
   "cell_type": "code",
   "execution_count": null,
   "metadata": {},
   "outputs": [],
   "source": [
    "torch.manual_seed(42)\n",
    "vectorizer, model = train()"
   ]
  },
  {
   "cell_type": "markdown",
   "metadata": {},
   "source": [
    "### Inspecting the embeddings"
   ]
  },
  {
   "cell_type": "markdown",
   "metadata": {},
   "source": [
    "Now that you have trained the classifier on two separate prediction tasks, it is interesting to inspect and compare the embedding vectors it learned in the process. For this you will use an online tool called the [Embedding Projector](http://projector.tensorflow.org). The next cell contains code to save the embeddings from a trained classifier in a format that can be loaded into this tool."
   ]
  },
  {
   "cell_type": "code",
   "execution_count": null,
   "metadata": {},
   "outputs": [],
   "source": [
    "def save_embeddings(\n",
    "    vectorizer: ReviewVectorizer,\n",
    "    model: Classifier,\n",
    "    vectors_filename: str,\n",
    "    metadata_filename: str,\n",
    "):\n",
    "    i2t = {i: t for t, i in vectorizer.t2i.items()}\n",
    "    embeddings = model.embedding.weight.detach().numpy()\n",
    "    items = [(i2t[i], e) for i, e in enumerate(embeddings)]\n",
    "    with open(vectors_filename, \"wt\") as f1, open(metadata_filename, \"wt\") as f2:\n",
    "        for w, e in items:\n",
    "            print(\"\\t\".join(\"{:.5f}\".format(x) for x in e), file=f1)\n",
    "            print(w, file=f2)"
   ]
  },
  {
   "cell_type": "markdown",
   "metadata": {},
   "source": [
    "Call this code as follows:"
   ]
  },
  {
   "cell_type": "code",
   "execution_count": null,
   "metadata": {},
   "outputs": [],
   "source": [
    "save_embeddings(vectorizer, model, \"vectors.tsv\", \"metadata.tsv\")"
   ]
  },
  {
   "cell_type": "code",
   "execution_count": null,
   "metadata": {},
   "outputs": [],
   "source": [
    "save_embeddings(vectorizer, model, \"vectors(label1).tsv\", \"metadata(label1).tsv\")"
   ]
  },
  {
   "cell_type": "markdown",
   "metadata": {},
   "source": [
    "#### 🎓 Task 1.11: Inspecting the embeddings\n",
    "\n",
    "Load the embeddings from the two classification tasks (topic classification and sentiment classification) into the Embedding Projector web app and inspect the vector spaces. How do they compare visually? Does the visualisation make sense to you?\n",
    "\n",
    "The Embedding Projector offers visualisations based on three dimensionality reduction methods: [UMAP](https://umap-learn.readthedocs.io/en/latest/), [T-SNE](https://en.m.wikipedia.org/wiki/T-distributed_stochastic_neighbor_embedding), and [PCA](https://en.m.wikipedia.org/wiki/Principal_component_analysis). Which of these seems most useful to you?\n",
    "\n",
    "Focus on the embeddings for the words *repair* and *sturdy*. Are they close to each other or far away from another? What happens if you switch to the other task? How do you explain that?"
   ]
  },
  {
   "cell_type": "markdown",
   "metadata": {},
   "source": [
    "### Initialisation of embedding layers\n",
    "\n",
    "The error surfaces explored when training neural networks can be very complex. Because of this, it is crucial to choose “good” initial values for the parameters. In the final task of this lab, you will run a small experiment to see how alternative initialisations can affect a model’s performance.\n",
    "\n",
    "In PyTorch, the weights of the embedding layer are initially set by sampling from the standard normal distribution, $\\mathcal{N}(0, 1)$. However, research suggests other approaches may work better. For example, you have seen that embedding layers share similarities with linear layers, so it makes sense to use the same initialisation method for both. The default initialisation method for linear layers in PyTorch is the so-called Kaiming initialisation, introduced by [He et al. (2015)](https://www.cv-foundation.org/openaccess/content_iccv_2015/papers/He_Delving_Deep_into_ICCV_2015_paper.pdf)."
   ]
  },
  {
   "cell_type": "markdown",
   "metadata": {},
   "source": [
    "#### 🎈 Task 1.12: Initialisation of embedding layers\n",
    "\n",
    "Check the [source code of `nn.Linear`](https://pytorch.org/docs/stable/_modules/torch/nn/modules/linear.html#Linear) to see how PyTorch initialises the weights of linear layers using the Kaiming initialisation method. Apply the same method to the embedding layer of your classifier and see how this affects the loss of your model and the vector spaces."
   ]
  },
  {
   "cell_type": "markdown",
   "metadata": {},
   "source": [
    "**🥳 Congratulations on finishing lab&nbsp;1!**"
   ]
  }
 ],
 "metadata": {
  "kernelspec": {
   "display_name": "Python 3 (ipykernel)",
   "language": "python",
   "name": "python3"
  },
  "language_info": {
   "codemirror_mode": {
    "name": "ipython",
    "version": 3
   },
   "file_extension": ".py",
   "mimetype": "text/x-python",
   "name": "python",
   "nbconvert_exporter": "python",
   "pygments_lexer": "ipython3",
   "version": "3.10.12"
  }
 },
 "nbformat": 4,
 "nbformat_minor": 4
}
